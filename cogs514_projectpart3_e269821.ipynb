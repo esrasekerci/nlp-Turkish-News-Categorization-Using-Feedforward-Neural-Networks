{
 "cells": [
  {
   "cell_type": "markdown",
   "metadata": {},
   "source": [
    "## Natural Language Processing (NLP) | Course Project - Part 3"
   ]
  },
  {
   "cell_type": "markdown",
   "metadata": {},
   "source": [
    "##### Esra Sekerci - 2698215\n",
    "---"
   ]
  },
  {
   "cell_type": "markdown",
   "metadata": {},
   "source": [
    "Natural Language Processing (NLP)\n",
    "Your second deliverable in the NLP track of the project is concerned with text classification and how the data representation can affect it given a data set. You will use the same Turkish data set provided in this link. You are supposed to represent the text data using different methods, build some non-linear feedforward deep learning architectures, train three different models with the same data being represented differently to do a classification task on this data set by using pytorch and see if the performance changes. Evaluate the situation in general and discuss why and how the given techniques impacts the performance if there is any. If not, discuss why there is not much of a change in the performance.\n",
    "\n",
    "Firstly, you need to select a non-linear feedforward deep learning architecture with some hidden layers for text classification. The following links can help with the architecture: link 1, link 2, link 3. Note that these architectures are to be modified to your needs and the last one presents a non-linear feedforward architecture.\n",
    "\n",
    "Afterwards, you will use three different ways of data representation and train the model (the architecture above) from scratch with each representation, and compare their performances. These three representations are:\n",
    "\n",
    "A representation similar to the bag of words that we have seen in class, but with binary values: The values are False (0) for non-existent linguistic items and True (1) for existent linguistic items: The idea is explained in\n",
    "Play Video\n",
    ". This link can help with how to implement bag of words with Pytorch.\n",
    "Use the bag of words exactly like we have seen in the class.\n",
    "Use embeddings. The architecture in this link can give some ideas how to have an embedding layer.\n",
    "You will compare the overall accuracy scores you obtained from these three alternative representations. In order to make a comparison, you are expected to use the same architecture with the same hyperparameters with the same data being input into the model with each of those representations. You need to train the model from scratch with each representation (in order to compare)\n",
    "\n",
    "Finally train another alternative non-linear feedforward deep learning architectures with some hidden layers, and repeat the steps above with that structure. Try to improve the performance. You may change the number of hidden layers, the activation function or work on hyperparameters. Follow the same steps as above with the new architecture.\n",
    "\n",
    "Describe your steps using text boxes and code comments when necessary. All your analysis and report should be in a Jupyter Notebook."
   ]
  },
  {
   "cell_type": "code",
   "execution_count": 2,
   "metadata": {},
   "outputs": [],
   "source": [
    "import matplotlib.pyplot as plt\n",
    "import numpy as np\n",
    "import os\n",
    "import pandas as pd\n",
    "import re\n",
    "import nltk\n",
    "import ssl\n",
    "from nltk import word_tokenize,sent_tokenize\n",
    "from sklearn import preprocessing\n",
    "from sklearn.model_selection import train_test_split\n",
    "from sklearn.linear_model import LogisticRegression\n",
    "from sklearn.metrics import accuracy_score, classification_report\n",
    "from snowballstemmer import TurkishStemmer\n",
    "from zeyrek import MorphAnalyzer\n",
    "from nltk.corpus import stopwords\n",
    "from sklearn.feature_extraction.text import CountVectorizer\n",
    "from sklearn.feature_extraction.text import TfidfVectorizer\n",
    "from sklearn.model_selection import train_test_split\n",
    "from sklearn.naive_bayes import GaussianNB\n",
    "from sklearn import metrics\n",
    "from sklearn.naive_bayes import MultinomialNB\n",
    "from sklearn.model_selection import GridSearchCV\n",
    "from sklearn.tree import DecisionTreeClassifier\n",
    "from sklearn.svm import SVC\n",
    "from sklearn.neighbors import KNeighborsClassifier\n",
    "from sklearn.ensemble import GradientBoostingClassifier, RandomForestClassifier\n",
    "from sklearn.model_selection import StratifiedKFold\n",
    "from sklearn.metrics import confusion_matrix, accuracy_score, precision_score, recall_score, f1_score\n",
    "import seaborn as sns\n",
    "from sklearn.model_selection import RandomizedSearchCV\n",
    "from xgboost import XGBClassifier\n",
    "import string\n",
    "from collections import defaultdict\n",
    "from sklearn.preprocessing import LabelEncoder\n",
    "import torch\n",
    "import torch.nn as nn\n",
    "import torch.optim as optim\n",
    "from sklearn.feature_extraction.text import CountVectorizer\n",
    "from sklearn.model_selection import train_test_split\n",
    "from torch.utils.data import Dataset, DataLoader\n",
    "import pandas as pd\n",
    "import numpy as np\n",
    "import torch\n",
    "from torch.utils.data import Dataset, DataLoader\n",
    "from torch import nn, optim\n",
    "from sklearn.model_selection import train_test_split\n",
    "from sklearn.metrics import accuracy_score, classification_report\n",
    "from tqdm import tqdm\n",
    "from collections import defaultdict\n",
    "from nltk.tokenize import word_tokenize"
   ]
  },
  {
   "cell_type": "code",
   "execution_count": 3,
   "metadata": {},
   "outputs": [
    {
     "data": {
      "text/html": [
       "<div>\n",
       "<style scoped>\n",
       "    .dataframe tbody tr th:only-of-type {\n",
       "        vertical-align: middle;\n",
       "    }\n",
       "\n",
       "    .dataframe tbody tr th {\n",
       "        vertical-align: top;\n",
       "    }\n",
       "\n",
       "    .dataframe thead th {\n",
       "        text-align: right;\n",
       "    }\n",
       "</style>\n",
       "<table border=\"1\" class=\"dataframe\">\n",
       "  <thead>\n",
       "    <tr style=\"text-align: right;\">\n",
       "      <th></th>\n",
       "      <th>text</th>\n",
       "      <th>category</th>\n",
       "    </tr>\n",
       "  </thead>\n",
       "  <tbody>\n",
       "    <tr>\n",
       "      <th>1</th>\n",
       "      <td>\"Özel sektör yapmazsa biz yaparız\"\\nEkonomi Ba...</td>\n",
       "      <td>ekonomi</td>\n",
       "    </tr>\n",
       "    <tr>\n",
       "      <th>2</th>\n",
       "      <td>Turizimde gelir artışı\\n \\n Türkiye’nin 2012 y...</td>\n",
       "      <td>ekonomi</td>\n",
       "    </tr>\n",
       "    <tr>\n",
       "      <th>3</th>\n",
       "      <td>Apple'ın yerini Google alabilir\\nSon yıllarda ...</td>\n",
       "      <td>ekonomi</td>\n",
       "    </tr>\n",
       "    <tr>\n",
       "      <th>4</th>\n",
       "      <td>ING, 2 bin 400 kişiyi işten çıkaracak\\nHolland...</td>\n",
       "      <td>ekonomi</td>\n",
       "    </tr>\n",
       "    <tr>\n",
       "      <th>5</th>\n",
       "      <td>Okmeydanı Hastanesi için geri sayım başladı\\nİ...</td>\n",
       "      <td>ekonomi</td>\n",
       "    </tr>\n",
       "  </tbody>\n",
       "</table>\n",
       "</div>"
      ],
      "text/plain": [
       "                                                text category\n",
       "1  \"Özel sektör yapmazsa biz yaparız\"\\nEkonomi Ba...  ekonomi\n",
       "2  Turizimde gelir artışı\\n \\n Türkiye’nin 2012 y...  ekonomi\n",
       "3  Apple'ın yerini Google alabilir\\nSon yıllarda ...  ekonomi\n",
       "4  ING, 2 bin 400 kişiyi işten çıkaracak\\nHolland...  ekonomi\n",
       "5  Okmeydanı Hastanesi için geri sayım başladı\\nİ...  ekonomi"
      ]
     },
     "execution_count": 3,
     "metadata": {},
     "output_type": "execute_result"
    }
   ],
   "source": [
    "data_dir = r\"/Users/esrasekerci/Desktop/42bin_haber/news\"\n",
    "\n",
    "def read_text(file_path):\n",
    "    with open(file_path, 'r', encoding='utf-8', errors='ignore') as file:\n",
    "        text = file.read()\n",
    "    return text\n",
    "\n",
    "dataset_rows = []\n",
    "\n",
    "for subdir, _, files in os.walk(data_dir):\n",
    "    folder_name = os.path.basename(subdir)\n",
    "    for file in files:\n",
    "        file_path = os.path.join(subdir, file)\n",
    "        text = read_text(file_path)\n",
    "        dataset_rows.append((text, folder_name))\n",
    "\n",
    "df = pd.DataFrame(dataset_rows, columns=['text', 'category'])\n",
    "df = df[df['category'] != 'news']\n",
    "df.head()"
   ]
  },
  {
   "cell_type": "code",
   "execution_count": 4,
   "metadata": {},
   "outputs": [],
   "source": [
    "#df = df[~df['category'].isin(['teknoloji', 'yasam','siyaset', 'guncel', 'planet', 'magazin', 'turkiye', 'genel'])]"
   ]
  },
  {
   "cell_type": "code",
   "execution_count": 5,
   "metadata": {},
   "outputs": [
    {
     "name": "stdout",
     "output_type": "stream",
     "text": [
      "<class 'pandas.core.frame.DataFrame'>\n",
      "Index: 41992 entries, 1 to 41992\n",
      "Data columns (total 2 columns):\n",
      " #   Column    Non-Null Count  Dtype \n",
      "---  ------    --------------  ----- \n",
      " 0   text      41992 non-null  object\n",
      " 1   category  41992 non-null  object\n",
      "dtypes: object(2)\n",
      "memory usage: 984.2+ KB\n"
     ]
    }
   ],
   "source": [
    "df.info()"
   ]
  },
  {
   "cell_type": "code",
   "execution_count": 6,
   "metadata": {},
   "outputs": [
    {
     "data": {
      "text/plain": [
       "category\n",
       "spor            9997\n",
       "genel           6673\n",
       "guncel          5847\n",
       "dunya           3724\n",
       "ekonomi         3265\n",
       "magazin         2792\n",
       "planet          1953\n",
       "turkiye         1939\n",
       "siyaset         1849\n",
       "saglik          1383\n",
       "kultur-sanat    1155\n",
       "teknoloji        771\n",
       "yasam            644\n",
       "Name: count, dtype: int64"
      ]
     },
     "execution_count": 6,
     "metadata": {},
     "output_type": "execute_result"
    }
   ],
   "source": [
    "df['category'].value_counts()"
   ]
  },
  {
   "cell_type": "code",
   "execution_count": 7,
   "metadata": {},
   "outputs": [
    {
     "data": {
      "image/png": "[encoded data removed]",
      "text/plain": [
       "<Figure size 600x600 with 1 Axes>"
      ]
     },
     "metadata": {},
     "output_type": "display_data"
    }
   ],
   "source": [
    "# Generate a color map with unique colors for each category\n",
    "unique_categories = df['category'].nunique()\n",
    "cmap = plt.get_cmap('tab20', unique_categories)\n",
    "\n",
    "# Create the pie chart\n",
    "fig, ax = plt.subplots(figsize=(6,6))\n",
    "df['category'].value_counts().plot.pie(\n",
    "    autopct='%1.2f', \n",
    "    startangle=90,\n",
    "    colors=[cmap(i) for i in range(unique_categories)],\n",
    "    wedgeprops={'edgecolor': 'white'},\n",
    "    labels=None\n",
    ")\n",
    "\n",
    "ax.set_title('Category Distribution', fontsize=16)\n",
    "\n",
    "ax.legend(\n",
    "    df['category'].value_counts().index, \n",
    "    title=\"Categories\", \n",
    "    loc=\"center left\", \n",
    "    bbox_to_anchor=(1, 0.5)\n",
    ")\n",
    "\n",
    "# Equal aspect ratio ensures that pie is drawn as a circle\n",
    "ax.axis('equal')\n",
    "\n",
    "plt.show()"
   ]
  },
  {
   "cell_type": "code",
   "execution_count": 8,
   "metadata": {},
   "outputs": [],
   "source": [
    "# Sample a smaller subset while maintaining label distribution\n",
    "# df = df.groupby('category').apply(lambda x: x.sample(n=min(1000, len(x)), random_state=42)).reset_index(drop=True)"
   ]
  },
  {
   "cell_type": "markdown",
   "metadata": {},
   "source": [
    "##### Data Preprocessing and Representation"
   ]
  },
  {
   "cell_type": "code",
   "execution_count": 9,
   "metadata": {},
   "outputs": [],
   "source": [
    "df_1 = df.copy()"
   ]
  },
  {
   "cell_type": "code",
   "execution_count": 10,
   "metadata": {},
   "outputs": [],
   "source": [
    "# Cleaning stopwords\n",
    "def clean_stopwords(content):\n",
    "    # Get NLTK Turkish stopwords\n",
    "    nltk_stopwords = set(stopwords.words(\"turkish\"))\n",
    "    \n",
    "    # Split content into words, filter out stopwords, and join back into a string\n",
    "    return ' '.join(word for word in content.split() if word not in nltk_stopwords)\n",
    "\n",
    "\n",
    "#  cleaning URLs\n",
    "def clean_url(content):\n",
    "    #  content: str\n",
    "    #  return: str\n",
    "    reg_url = r'''(?i)\\b((?:https?://|www\\d{0,3}[.]|[a-z0-9.\\-]+[.][a-z]{2,4}/)(?:[^\\s()<>]+|\\(([^\\s()<>]+|(\\([^\\s()<>]+\\)))*\\))+(?:\\(([^\\s()<>]+|(\\([^\\s()<>]+\\)))*\\)|[^\\s`!()\\[\\]{};:'\".,<>?«»“”‘’]))'''\n",
    "    pattern_url = re.compile(reg_url)\n",
    "    content = pattern_url.sub('',content)\n",
    "    return content\n",
    "    \n",
    "#  cleaning e-mails\n",
    "def clean_email(content):\n",
    "    reg_email='\\S*@\\S*\\s?'\n",
    "    pattern_email = re.compile(reg_email)\n",
    "    content = pattern_email.sub('',content)\n",
    "    return content\n",
    "    \n",
    "#  cleaning punctuation\n",
    "def clean_punctuation(content):\n",
    "    #regex = re.compile('[%s]' % re.escape(string.punctuation))\n",
    "    #content = regex.sub(\" \", content)\n",
    "    content = content.translate(content.maketrans(\"\", \"\", string.punctuation))\n",
    "    return content\n",
    "    \n",
    "#  cleaning digits\n",
    "def clean_numbers(content):\n",
    "    remove_digits = str.maketrans('', '', string.digits)\n",
    "    text = content.translate(remove_digits)\n",
    "    return text\n",
    "\n",
    "def listToString(text):\n",
    "    #  text: string\n",
    "    #  return: string \n",
    "    str1 = \" \"  \n",
    "    return (str1.join(text)) \n",
    "\n",
    "def clean_postfix(content):\n",
    "    #  content: list\n",
    "    #  return: str\n",
    "    spesific_punctation = [39, 8217] # ascii codes of spesific punctations\n",
    "    all_words = defaultdict(list)\n",
    "    counter = 0\n",
    "    for i, word in enumerate(content):\n",
    "        if len(word) > 2:\n",
    "            if chr(8217) in word:\n",
    "                replaced_word = word.replace(chr(8217), \" \")\n",
    "                replaced_word = replaced_word.split(\" \")[0]\n",
    "                all_words[i].append(replaced_word)\n",
    "            elif chr(39) in word:\n",
    "                replaced_word = word.replace(chr(39), \" \")\n",
    "                replaced_word = replaced_word.split(\" \")[0]\n",
    "                all_words[i].append(replaced_word)\n",
    "            else:\n",
    "                all_words[i].append(word)\n",
    "    all_words = sorted(all_words.items())\n",
    "\n",
    "    text = \"\"\n",
    "    for i in range(len(all_words)):\n",
    "        text = text + \" \" + all_words[i][1][0]\n",
    "\n",
    "    return text\n",
    "\n",
    "def clean_text(content):\n",
    "    #  text: string\n",
    "    #  return: string\n",
    "    content = content.lower()\n",
    "    content = re.sub(r'\\x93', '', content)\n",
    "    content = re.sub(r'\\x94', '', content)\n",
    "    content = re.sub(r'', ' ', content)\n",
    "    cleaned_email = clean_email(content)\n",
    "    cleaned_email_url = clean_url(cleaned_email)\n",
    "    cleaned_email_url = listToString(cleaned_email_url.split(\".\"))\n",
    "    cleaned_email_url = cleaned_email_url.split(\" \")\n",
    "    cleaned_email_url_postfix = clean_postfix(cleaned_email_url)\n",
    "    cleaned_email_url_postfix_punctuation = clean_punctuation(cleaned_email_url_postfix)\n",
    "    cleaned_email_url_postfix_punctuation_numbers = clean_numbers(cleaned_email_url_postfix_punctuation)\n",
    "    cleaned_email_url_postfix_punctuation_numbers_stopwords = clean_stopwords(cleaned_email_url_postfix_punctuation_numbers)\n",
    "   \n",
    "    filtered_sentence = []\n",
    "    for word in cleaned_email_url_postfix_punctuation_numbers_stopwords.split(\" \"):\n",
    "        if len(word) > 2:\n",
    "            filtered_sentence.append(word)\n",
    "    \n",
    "    text = ' '.join(filtered_sentence)\n",
    "    return text"
   ]
  },
  {
   "cell_type": "code",
   "execution_count": 11,
   "metadata": {},
   "outputs": [],
   "source": [
    "cleaning = lambda x: clean_text(x)\n",
    "df_1['clean_text'] = df_1['text'].apply(cleaning)"
   ]
  },
  {
   "cell_type": "code",
   "execution_count": 12,
   "metadata": {},
   "outputs": [
    {
     "data": {
      "text/html": [
       "<div>\n",
       "<style scoped>\n",
       "    .dataframe tbody tr th:only-of-type {\n",
       "        vertical-align: middle;\n",
       "    }\n",
       "\n",
       "    .dataframe tbody tr th {\n",
       "        vertical-align: top;\n",
       "    }\n",
       "\n",
       "    .dataframe thead th {\n",
       "        text-align: right;\n",
       "    }\n",
       "</style>\n",
       "<table border=\"1\" class=\"dataframe\">\n",
       "  <thead>\n",
       "    <tr style=\"text-align: right;\">\n",
       "      <th></th>\n",
       "      <th>text</th>\n",
       "      <th>category</th>\n",
       "      <th>clean_text</th>\n",
       "    </tr>\n",
       "  </thead>\n",
       "  <tbody>\n",
       "    <tr>\n",
       "      <th>1</th>\n",
       "      <td>\"Özel sektör yapmazsa biz yaparız\"\\nEkonomi Ba...</td>\n",
       "      <td>ekonomi</td>\n",
       "      <td>özel sektör yapmazsa yaparız ekonomi bakanı za...</td>\n",
       "    </tr>\n",
       "    <tr>\n",
       "      <th>2</th>\n",
       "      <td>Turizimde gelir artışı\\n \\n Türkiye’nin 2012 y...</td>\n",
       "      <td>ekonomi</td>\n",
       "      <td>turizimde gelir artışı türkiye yılında turizmd...</td>\n",
       "    </tr>\n",
       "    <tr>\n",
       "      <th>3</th>\n",
       "      <td>Apple'ın yerini Google alabilir\\nSon yıllarda ...</td>\n",
       "      <td>ekonomi</td>\n",
       "      <td>apple yerini google alabilir son yıllarda fina...</td>\n",
       "    </tr>\n",
       "    <tr>\n",
       "      <th>4</th>\n",
       "      <td>ING, 2 bin 400 kişiyi işten çıkaracak\\nHolland...</td>\n",
       "      <td>ekonomi</td>\n",
       "      <td>ing bin kişiyi işten çıkaracak hollanda merkez...</td>\n",
       "    </tr>\n",
       "    <tr>\n",
       "      <th>5</th>\n",
       "      <td>Okmeydanı Hastanesi için geri sayım başladı\\nİ...</td>\n",
       "      <td>ekonomi</td>\n",
       "      <td>okmeydanı hastanesi geri sayım başladı i̇stanb...</td>\n",
       "    </tr>\n",
       "    <tr>\n",
       "      <th>...</th>\n",
       "      <td>...</td>\n",
       "      <td>...</td>\n",
       "      <td>...</td>\n",
       "    </tr>\n",
       "    <tr>\n",
       "      <th>41988</th>\n",
       "      <td>Diyanet'ten kıyamet söylentilerine yanıt\\n\"Bat...</td>\n",
       "      <td>turkiye</td>\n",
       "      <td>diyanet kıyamet söylentilerine yanıt batıl sah...</td>\n",
       "    </tr>\n",
       "    <tr>\n",
       "      <th>41989</th>\n",
       "      <td>TSK'dan intihar açıklaması\\nGenelkurmay Başkan...</td>\n",
       "      <td>turkiye</td>\n",
       "      <td>tsk intihar açıklaması genelkurmay başkanlığı ...</td>\n",
       "    </tr>\n",
       "    <tr>\n",
       "      <th>41990</th>\n",
       "      <td>Taşucu Gümrüğü'nde cephanelik gibi araç bulund...</td>\n",
       "      <td>turkiye</td>\n",
       "      <td>taşucu gümrüğü cephanelik araç bulundu mersin ...</td>\n",
       "    </tr>\n",
       "    <tr>\n",
       "      <th>41991</th>\n",
       "      <td>Yolcu kapma yarışı: 10 yaralı\\n \\n İstanbul Ka...</td>\n",
       "      <td>turkiye</td>\n",
       "      <td>yolcu kapma yarışı yaralı i̇stanbul kartal yol...</td>\n",
       "    </tr>\n",
       "    <tr>\n",
       "      <th>41992</th>\n",
       "      <td>500 litrelik sahte içki operasyonu\\nBağcılar'd...</td>\n",
       "      <td>turkiye</td>\n",
       "      <td>litrelik sahte içki operasyonu bağcılar polis ...</td>\n",
       "    </tr>\n",
       "  </tbody>\n",
       "</table>\n",
       "<p>41992 rows × 3 columns</p>\n",
       "</div>"
      ],
      "text/plain": [
       "                                                    text category  \\\n",
       "1      \"Özel sektör yapmazsa biz yaparız\"\\nEkonomi Ba...  ekonomi   \n",
       "2      Turizimde gelir artışı\\n \\n Türkiye’nin 2012 y...  ekonomi   \n",
       "3      Apple'ın yerini Google alabilir\\nSon yıllarda ...  ekonomi   \n",
       "4      ING, 2 bin 400 kişiyi işten çıkaracak\\nHolland...  ekonomi   \n",
       "5      Okmeydanı Hastanesi için geri sayım başladı\\nİ...  ekonomi   \n",
       "...                                                  ...      ...   \n",
       "41988  Diyanet'ten kıyamet söylentilerine yanıt\\n\"Bat...  turkiye   \n",
       "41989  TSK'dan intihar açıklaması\\nGenelkurmay Başkan...  turkiye   \n",
       "41990  Taşucu Gümrüğü'nde cephanelik gibi araç bulund...  turkiye   \n",
       "41991  Yolcu kapma yarışı: 10 yaralı\\n \\n İstanbul Ka...  turkiye   \n",
       "41992  500 litrelik sahte içki operasyonu\\nBağcılar'd...  turkiye   \n",
       "\n",
       "                                              clean_text  \n",
       "1      özel sektör yapmazsa yaparız ekonomi bakanı za...  \n",
       "2      turizimde gelir artışı türkiye yılında turizmd...  \n",
       "3      apple yerini google alabilir son yıllarda fina...  \n",
       "4      ing bin kişiyi işten çıkaracak hollanda merkez...  \n",
       "5      okmeydanı hastanesi geri sayım başladı i̇stanb...  \n",
       "...                                                  ...  \n",
       "41988  diyanet kıyamet söylentilerine yanıt batıl sah...  \n",
       "41989  tsk intihar açıklaması genelkurmay başkanlığı ...  \n",
       "41990  taşucu gümrüğü cephanelik araç bulundu mersin ...  \n",
       "41991  yolcu kapma yarışı yaralı i̇stanbul kartal yol...  \n",
       "41992  litrelik sahte içki operasyonu bağcılar polis ...  \n",
       "\n",
       "[41992 rows x 3 columns]"
      ]
     },
     "execution_count": 12,
     "metadata": {},
     "output_type": "execute_result"
    }
   ],
   "source": [
    "df_1"
   ]
  },
  {
   "cell_type": "code",
   "execution_count": 13,
   "metadata": {},
   "outputs": [],
   "source": [
    "text_list = df_1['clean_text'].tolist()"
   ]
  },
  {
   "cell_type": "code",
   "execution_count": 14,
   "metadata": {},
   "outputs": [
    {
     "name": "stdout",
     "output_type": "stream",
     "text": [
      "Number of unique words: 320866\n"
     ]
    }
   ],
   "source": [
    "unique_words_set = set()\n",
    "for text in text_list:\n",
    "    words = text.split()\n",
    "    unique_words_set.update(words)\n",
    "\n",
    "num_unique_words = len(unique_words_set)\n",
    "print(\"Number of unique words:\", num_unique_words)"
   ]
  },
  {
   "cell_type": "code",
   "execution_count": 15,
   "metadata": {},
   "outputs": [],
   "source": [
    "from sklearn.utils import shuffle\n",
    "# Shuffle the DataFrame\n",
    "df_1 = shuffle(df_1, random_state=42).reset_index(drop=True)"
   ]
  },
  {
   "cell_type": "code",
   "execution_count": 16,
   "metadata": {},
   "outputs": [],
   "source": [
    "label_encoder = LabelEncoder()\n",
    "df_1['class_index'] = label_encoder.fit_transform(df_1['category'])"
   ]
  },
  {
   "cell_type": "code",
   "execution_count": 17,
   "metadata": {},
   "outputs": [
    {
     "data": {
      "text/html": [
       "<div>\n",
       "<style scoped>\n",
       "    .dataframe tbody tr th:only-of-type {\n",
       "        vertical-align: middle;\n",
       "    }\n",
       "\n",
       "    .dataframe tbody tr th {\n",
       "        vertical-align: top;\n",
       "    }\n",
       "\n",
       "    .dataframe thead th {\n",
       "        text-align: right;\n",
       "    }\n",
       "</style>\n",
       "<table border=\"1\" class=\"dataframe\">\n",
       "  <thead>\n",
       "    <tr style=\"text-align: right;\">\n",
       "      <th></th>\n",
       "      <th>text</th>\n",
       "      <th>category</th>\n",
       "      <th>clean_text</th>\n",
       "      <th>class_index</th>\n",
       "    </tr>\n",
       "  </thead>\n",
       "  <tbody>\n",
       "    <tr>\n",
       "      <th>0</th>\n",
       "      <td>Üsküdar namağlup devam ediyor\\nHentbol Bayanla...</td>\n",
       "      <td>spor</td>\n",
       "      <td>üsküdar namağlup devam ediyor hentbol bayanlar...</td>\n",
       "      <td>9</td>\n",
       "    </tr>\n",
       "    <tr>\n",
       "      <th>1</th>\n",
       "      <td>Putin'den 'hazır olmalıyız' uyarısı\\nRusya Dev...</td>\n",
       "      <td>dunya</td>\n",
       "      <td>putin olmalıyız uyarısı rusya devlet başkanı v...</td>\n",
       "      <td>0</td>\n",
       "    </tr>\n",
       "    <tr>\n",
       "      <th>2</th>\n",
       "      <td>Boğaz'da lüks tekne yandı: 2 ölü\\nBeşiktaş'tak...</td>\n",
       "      <td>guncel</td>\n",
       "      <td>boğaz lüks tekne yandı ölü beşiktaş yat limanı...</td>\n",
       "      <td>3</td>\n",
       "    </tr>\n",
       "    <tr>\n",
       "      <th>3</th>\n",
       "      <td>Sizi kim sildi?\\nFacebook'ta sizi arkadaş list...</td>\n",
       "      <td>teknoloji</td>\n",
       "      <td>sizi sildi facebook sizi arkadaş listesinden k...</td>\n",
       "      <td>10</td>\n",
       "    </tr>\n",
       "    <tr>\n",
       "      <th>4</th>\n",
       "      <td>Ömer &amp; Harden ortaklığı galibiyet getirdi\\nHou...</td>\n",
       "      <td>spor</td>\n",
       "      <td>ömer harden ortaklığı galibiyet getirdi housto...</td>\n",
       "      <td>9</td>\n",
       "    </tr>\n",
       "  </tbody>\n",
       "</table>\n",
       "</div>"
      ],
      "text/plain": [
       "                                                text   category  \\\n",
       "0  Üsküdar namağlup devam ediyor\\nHentbol Bayanla...       spor   \n",
       "1  Putin'den 'hazır olmalıyız' uyarısı\\nRusya Dev...      dunya   \n",
       "2  Boğaz'da lüks tekne yandı: 2 ölü\\nBeşiktaş'tak...     guncel   \n",
       "3  Sizi kim sildi?\\nFacebook'ta sizi arkadaş list...  teknoloji   \n",
       "4  Ömer & Harden ortaklığı galibiyet getirdi\\nHou...       spor   \n",
       "\n",
       "                                          clean_text  class_index  \n",
       "0  üsküdar namağlup devam ediyor hentbol bayanlar...            9  \n",
       "1  putin olmalıyız uyarısı rusya devlet başkanı v...            0  \n",
       "2  boğaz lüks tekne yandı ölü beşiktaş yat limanı...            3  \n",
       "3  sizi sildi facebook sizi arkadaş listesinden k...           10  \n",
       "4  ömer harden ortaklığı galibiyet getirdi housto...            9  "
      ]
     },
     "execution_count": 17,
     "metadata": {},
     "output_type": "execute_result"
    }
   ],
   "source": [
    "df_1.head()"
   ]
  },
  {
   "cell_type": "code",
   "execution_count": 18,
   "metadata": {},
   "outputs": [
    {
     "name": "stderr",
     "output_type": "stream",
     "text": [
      "100%|██████████| 41992/41992 [00:21<00:00, 1967.03it/s]"
     ]
    },
    {
     "name": "stdout",
     "output_type": "stream",
     "text": [
      "                                                    text   category  \\\n",
      "0      Üsküdar namağlup devam ediyor\\nHentbol Bayanla...       spor   \n",
      "1      Putin'den 'hazır olmalıyız' uyarısı\\nRusya Dev...      dunya   \n",
      "2      Boğaz'da lüks tekne yandı: 2 ölü\\nBeşiktaş'tak...     guncel   \n",
      "3      Sizi kim sildi?\\nFacebook'ta sizi arkadaş list...  teknoloji   \n",
      "4      Ömer & Harden ortaklığı galibiyet getirdi\\nHou...       spor   \n",
      "...                                                  ...        ...   \n",
      "41987  Aşksız olmaz\\nZiynet Sali, menajeriyle birlikt...    magazin   \n",
      "41988  Magazin dünyasında bomba iddia!\\nLife & Style ...      genel   \n",
      "41989  Futbolun Obama'sı hoş geldin\\nAlmanya Bundesli...       spor   \n",
      "41990  Bakandan arama motoru sitelerine tepki\\n\"Bir t...    ekonomi   \n",
      "41991  İstiridye mantarı ye, kilo ver!\\n \\n Gaziosman...     saglik   \n",
      "\n",
      "                                              clean_text  class_index  \\\n",
      "0      üsküdar namağlup devam ediyor hentbol bayanlar...            9   \n",
      "1      putin olmalıyız uyarısı rusya devlet başkanı v...            0   \n",
      "2      boğaz lüks tekne yandı ölü beşiktaş yat limanı...            3   \n",
      "3      sizi sildi facebook sizi arkadaş listesinden k...           10   \n",
      "4      ömer harden ortaklığı galibiyet getirdi housto...            9   \n",
      "...                                                  ...          ...   \n",
      "41987  aşksız olmaz ziynet sali menajeriyle birlikte ...            5   \n",
      "41988  magazin dünyasında bomba iddia life style derg...            2   \n",
      "41989  futbolun obama hoş geldin almanya bundesliga l...            9   \n",
      "41990  bakandan arama motoru sitelerine tepki bir tek...            1   \n",
      "41991  i̇stiridye mantarı kilo ver gaziosmanpaşa üniv...            7   \n",
      "\n",
      "                                                  tokens  \n",
      "0      [üsküdar, namağlup, devam, ediyor, hentbol, ba...  \n",
      "1      [putin, olmalıyız, uyarısı, rusya, devlet, baş...  \n",
      "2      [boğaz, lüks, tekne, yandı, ölü, beşiktaş, yat...  \n",
      "3      [sizi, sildi, facebook, sizi, arkadaş, listesi...  \n",
      "4      [ömer, harden, ortaklığı, galibiyet, getirdi, ...  \n",
      "...                                                  ...  \n",
      "41987  [aşksız, olmaz, ziynet, sali, menajeriyle, bir...  \n",
      "41988  [magazin, dünyasında, bomba, iddia, life, styl...  \n",
      "41989  [futbolun, obama, hoş, geldin, almanya, bundes...  \n",
      "41990  [bakandan, arama, motoru, sitelerine, tepki, b...  \n",
      "41991  [i̇stiridye, mantarı, kilo, ver, gaziosmanpaşa...  \n",
      "\n",
      "[41992 rows x 5 columns]\n"
     ]
    },
    {
     "name": "stderr",
     "output_type": "stream",
     "text": [
      "\n"
     ]
    }
   ],
   "source": [
    "from tqdm import tqdm\n",
    "from nltk.tokenize import word_tokenize\n",
    "# Initialize tqdm for pandas\n",
    "tqdm.pandas()\n",
    "\n",
    "# Tokenize the text and add progress bar\n",
    "df_1['tokens'] = df_1['clean_text'].progress_map(word_tokenize)\n",
    "\n",
    "print(df_1)"
   ]
  },
  {
   "cell_type": "code",
   "execution_count": 19,
   "metadata": {},
   "outputs": [
    {
     "data": {
      "text/html": [
       "<div>\n",
       "<style scoped>\n",
       "    .dataframe tbody tr th:only-of-type {\n",
       "        vertical-align: middle;\n",
       "    }\n",
       "\n",
       "    .dataframe tbody tr th {\n",
       "        vertical-align: top;\n",
       "    }\n",
       "\n",
       "    .dataframe thead th {\n",
       "        text-align: right;\n",
       "    }\n",
       "</style>\n",
       "<table border=\"1\" class=\"dataframe\">\n",
       "  <thead>\n",
       "    <tr style=\"text-align: right;\">\n",
       "      <th></th>\n",
       "      <th>text</th>\n",
       "      <th>category</th>\n",
       "      <th>clean_text</th>\n",
       "      <th>class_index</th>\n",
       "      <th>tokens</th>\n",
       "    </tr>\n",
       "  </thead>\n",
       "  <tbody>\n",
       "    <tr>\n",
       "      <th>0</th>\n",
       "      <td>Üsküdar namağlup devam ediyor\\nHentbol Bayanla...</td>\n",
       "      <td>spor</td>\n",
       "      <td>üsküdar namağlup devam ediyor hentbol bayanlar...</td>\n",
       "      <td>9</td>\n",
       "      <td>[üsküdar, namağlup, devam, ediyor, hentbol, ba...</td>\n",
       "    </tr>\n",
       "    <tr>\n",
       "      <th>1</th>\n",
       "      <td>Putin'den 'hazır olmalıyız' uyarısı\\nRusya Dev...</td>\n",
       "      <td>dunya</td>\n",
       "      <td>putin olmalıyız uyarısı rusya devlet başkanı v...</td>\n",
       "      <td>0</td>\n",
       "      <td>[putin, olmalıyız, uyarısı, rusya, devlet, baş...</td>\n",
       "    </tr>\n",
       "    <tr>\n",
       "      <th>2</th>\n",
       "      <td>Boğaz'da lüks tekne yandı: 2 ölü\\nBeşiktaş'tak...</td>\n",
       "      <td>guncel</td>\n",
       "      <td>boğaz lüks tekne yandı ölü beşiktaş yat limanı...</td>\n",
       "      <td>3</td>\n",
       "      <td>[boğaz, lüks, tekne, yandı, ölü, beşiktaş, yat...</td>\n",
       "    </tr>\n",
       "    <tr>\n",
       "      <th>3</th>\n",
       "      <td>Sizi kim sildi?\\nFacebook'ta sizi arkadaş list...</td>\n",
       "      <td>teknoloji</td>\n",
       "      <td>sizi sildi facebook sizi arkadaş listesinden k...</td>\n",
       "      <td>10</td>\n",
       "      <td>[sizi, sildi, facebook, sizi, arkadaş, listesi...</td>\n",
       "    </tr>\n",
       "    <tr>\n",
       "      <th>4</th>\n",
       "      <td>Ömer &amp; Harden ortaklığı galibiyet getirdi\\nHou...</td>\n",
       "      <td>spor</td>\n",
       "      <td>ömer harden ortaklığı galibiyet getirdi housto...</td>\n",
       "      <td>9</td>\n",
       "      <td>[ömer, harden, ortaklığı, galibiyet, getirdi, ...</td>\n",
       "    </tr>\n",
       "    <tr>\n",
       "      <th>...</th>\n",
       "      <td>...</td>\n",
       "      <td>...</td>\n",
       "      <td>...</td>\n",
       "      <td>...</td>\n",
       "      <td>...</td>\n",
       "    </tr>\n",
       "    <tr>\n",
       "      <th>41987</th>\n",
       "      <td>Aşksız olmaz\\nZiynet Sali, menajeriyle birlikt...</td>\n",
       "      <td>magazin</td>\n",
       "      <td>aşksız olmaz ziynet sali menajeriyle birlikte ...</td>\n",
       "      <td>5</td>\n",
       "      <td>[aşksız, olmaz, ziynet, sali, menajeriyle, bir...</td>\n",
       "    </tr>\n",
       "    <tr>\n",
       "      <th>41988</th>\n",
       "      <td>Magazin dünyasında bomba iddia!\\nLife &amp; Style ...</td>\n",
       "      <td>genel</td>\n",
       "      <td>magazin dünyasında bomba iddia life style derg...</td>\n",
       "      <td>2</td>\n",
       "      <td>[magazin, dünyasında, bomba, iddia, life, styl...</td>\n",
       "    </tr>\n",
       "    <tr>\n",
       "      <th>41989</th>\n",
       "      <td>Futbolun Obama'sı hoş geldin\\nAlmanya Bundesli...</td>\n",
       "      <td>spor</td>\n",
       "      <td>futbolun obama hoş geldin almanya bundesliga l...</td>\n",
       "      <td>9</td>\n",
       "      <td>[futbolun, obama, hoş, geldin, almanya, bundes...</td>\n",
       "    </tr>\n",
       "    <tr>\n",
       "      <th>41990</th>\n",
       "      <td>Bakandan arama motoru sitelerine tepki\\n\"Bir t...</td>\n",
       "      <td>ekonomi</td>\n",
       "      <td>bakandan arama motoru sitelerine tepki bir tek...</td>\n",
       "      <td>1</td>\n",
       "      <td>[bakandan, arama, motoru, sitelerine, tepki, b...</td>\n",
       "    </tr>\n",
       "    <tr>\n",
       "      <th>41991</th>\n",
       "      <td>İstiridye mantarı ye, kilo ver!\\n \\n Gaziosman...</td>\n",
       "      <td>saglik</td>\n",
       "      <td>i̇stiridye mantarı kilo ver gaziosmanpaşa üniv...</td>\n",
       "      <td>7</td>\n",
       "      <td>[i̇stiridye, mantarı, kilo, ver, gaziosmanpaşa...</td>\n",
       "    </tr>\n",
       "  </tbody>\n",
       "</table>\n",
       "<p>41992 rows × 5 columns</p>\n",
       "</div>"
      ],
      "text/plain": [
       "                                                    text   category  \\\n",
       "0      Üsküdar namağlup devam ediyor\\nHentbol Bayanla...       spor   \n",
       "1      Putin'den 'hazır olmalıyız' uyarısı\\nRusya Dev...      dunya   \n",
       "2      Boğaz'da lüks tekne yandı: 2 ölü\\nBeşiktaş'tak...     guncel   \n",
       "3      Sizi kim sildi?\\nFacebook'ta sizi arkadaş list...  teknoloji   \n",
       "4      Ömer & Harden ortaklığı galibiyet getirdi\\nHou...       spor   \n",
       "...                                                  ...        ...   \n",
       "41987  Aşksız olmaz\\nZiynet Sali, menajeriyle birlikt...    magazin   \n",
       "41988  Magazin dünyasında bomba iddia!\\nLife & Style ...      genel   \n",
       "41989  Futbolun Obama'sı hoş geldin\\nAlmanya Bundesli...       spor   \n",
       "41990  Bakandan arama motoru sitelerine tepki\\n\"Bir t...    ekonomi   \n",
       "41991  İstiridye mantarı ye, kilo ver!\\n \\n Gaziosman...     saglik   \n",
       "\n",
       "                                              clean_text  class_index  \\\n",
       "0      üsküdar namağlup devam ediyor hentbol bayanlar...            9   \n",
       "1      putin olmalıyız uyarısı rusya devlet başkanı v...            0   \n",
       "2      boğaz lüks tekne yandı ölü beşiktaş yat limanı...            3   \n",
       "3      sizi sildi facebook sizi arkadaş listesinden k...           10   \n",
       "4      ömer harden ortaklığı galibiyet getirdi housto...            9   \n",
       "...                                                  ...          ...   \n",
       "41987  aşksız olmaz ziynet sali menajeriyle birlikte ...            5   \n",
       "41988  magazin dünyasında bomba iddia life style derg...            2   \n",
       "41989  futbolun obama hoş geldin almanya bundesliga l...            9   \n",
       "41990  bakandan arama motoru sitelerine tepki bir tek...            1   \n",
       "41991  i̇stiridye mantarı kilo ver gaziosmanpaşa üniv...            7   \n",
       "\n",
       "                                                  tokens  \n",
       "0      [üsküdar, namağlup, devam, ediyor, hentbol, ba...  \n",
       "1      [putin, olmalıyız, uyarısı, rusya, devlet, baş...  \n",
       "2      [boğaz, lüks, tekne, yandı, ölü, beşiktaş, yat...  \n",
       "3      [sizi, sildi, facebook, sizi, arkadaş, listesi...  \n",
       "4      [ömer, harden, ortaklığı, galibiyet, getirdi, ...  \n",
       "...                                                  ...  \n",
       "41987  [aşksız, olmaz, ziynet, sali, menajeriyle, bir...  \n",
       "41988  [magazin, dünyasında, bomba, iddia, life, styl...  \n",
       "41989  [futbolun, obama, hoş, geldin, almanya, bundes...  \n",
       "41990  [bakandan, arama, motoru, sitelerine, tepki, b...  \n",
       "41991  [i̇stiridye, mantarı, kilo, ver, gaziosmanpaşa...  \n",
       "\n",
       "[41992 rows x 5 columns]"
      ]
     },
     "execution_count": 19,
     "metadata": {},
     "output_type": "execute_result"
    }
   ],
   "source": [
    "df_1"
   ]
  },
  {
   "cell_type": "code",
   "execution_count": 42,
   "metadata": {},
   "outputs": [
    {
     "name": "stdout",
     "output_type": "stream",
     "text": [
      "Vocabulary size: 57448\n"
     ]
    }
   ],
   "source": [
    "# Create vocabulary and mappings\n",
    "threshold = 10\n",
    "tokens = df_1['tokens'].explode().value_counts()\n",
    "tokens = tokens[tokens > threshold]\n",
    "id_to_token = ['[UNK]'] + tokens.index.tolist()\n",
    "token_to_id = {w: i for i, w in enumerate(id_to_token)}\n",
    "vocabulary_size = len(id_to_token)\n",
    "print(f'Vocabulary size: {vocabulary_size}')"
   ]
  },
  {
   "cell_type": "code",
   "execution_count": 21,
   "metadata": {},
   "outputs": [
    {
     "data": {
      "text/html": [
       "<div>\n",
       "<style scoped>\n",
       "    .dataframe tbody tr th:only-of-type {\n",
       "        vertical-align: middle;\n",
       "    }\n",
       "\n",
       "    .dataframe tbody tr th {\n",
       "        vertical-align: top;\n",
       "    }\n",
       "\n",
       "    .dataframe thead th {\n",
       "        text-align: right;\n",
       "    }\n",
       "</style>\n",
       "<table border=\"1\" class=\"dataframe\">\n",
       "  <thead>\n",
       "    <tr style=\"text-align: right;\">\n",
       "      <th></th>\n",
       "      <th>text</th>\n",
       "      <th>category</th>\n",
       "      <th>clean_text</th>\n",
       "      <th>class_index</th>\n",
       "      <th>tokens</th>\n",
       "      <th>features</th>\n",
       "    </tr>\n",
       "  </thead>\n",
       "  <tbody>\n",
       "    <tr>\n",
       "      <th>0</th>\n",
       "      <td>Üsküdar namağlup devam ediyor\\nHentbol Bayanla...</td>\n",
       "      <td>spor</td>\n",
       "      <td>üsküdar namağlup devam ediyor hentbol bayanlar...</td>\n",
       "      <td>9</td>\n",
       "      <td>[üsküdar, namağlup, devam, ediyor, hentbol, ba...</td>\n",
       "      <td>{4591: 1, 7857: 1, 28: 1, 147: 1, 5244: 1, 329...</td>\n",
       "    </tr>\n",
       "    <tr>\n",
       "      <th>1</th>\n",
       "      <td>Putin'den 'hazır olmalıyız' uyarısı\\nRusya Dev...</td>\n",
       "      <td>dunya</td>\n",
       "      <td>putin olmalıyız uyarısı rusya devlet başkanı v...</td>\n",
       "      <td>0</td>\n",
       "      <td>[putin, olmalıyız, uyarısı, rusya, devlet, baş...</td>\n",
       "      <td>{2555: 1, 10441: 1, 3055: 1, 192: 1, 113: 1, 2...</td>\n",
       "    </tr>\n",
       "    <tr>\n",
       "      <th>2</th>\n",
       "      <td>Boğaz'da lüks tekne yandı: 2 ölü\\nBeşiktaş'tak...</td>\n",
       "      <td>guncel</td>\n",
       "      <td>boğaz lüks tekne yandı ölü beşiktaş yat limanı...</td>\n",
       "      <td>3</td>\n",
       "      <td>[boğaz, lüks, tekne, yandı, ölü, beşiktaş, yat...</td>\n",
       "      <td>{4445: 1, 2765: 1, 11063: 1, 8487: 1, 1133: 1,...</td>\n",
       "    </tr>\n",
       "    <tr>\n",
       "      <th>3</th>\n",
       "      <td>Sizi kim sildi?\\nFacebook'ta sizi arkadaş list...</td>\n",
       "      <td>teknoloji</td>\n",
       "      <td>sizi sildi facebook sizi arkadaş listesinden k...</td>\n",
       "      <td>10</td>\n",
       "      <td>[sizi, sildi, facebook, sizi, arkadaş, listesi...</td>\n",
       "      <td>{1553: 1, 30034: 1, 1184: 1, 2754: 1, 27608: 1...</td>\n",
       "    </tr>\n",
       "    <tr>\n",
       "      <th>4</th>\n",
       "      <td>Ömer &amp; Harden ortaklığı galibiyet getirdi\\nHou...</td>\n",
       "      <td>spor</td>\n",
       "      <td>ömer harden ortaklığı galibiyet getirdi housto...</td>\n",
       "      <td>9</td>\n",
       "      <td>[ömer, harden, ortaklığı, galibiyet, getirdi, ...</td>\n",
       "      <td>{590: 1, 10514: 1, 4701: 1, 705: 1, 314: 1, 34...</td>\n",
       "    </tr>\n",
       "    <tr>\n",
       "      <th>...</th>\n",
       "      <td>...</td>\n",
       "      <td>...</td>\n",
       "      <td>...</td>\n",
       "      <td>...</td>\n",
       "      <td>...</td>\n",
       "      <td>...</td>\n",
       "    </tr>\n",
       "    <tr>\n",
       "      <th>41987</th>\n",
       "      <td>Aşksız olmaz\\nZiynet Sali, menajeriyle birlikt...</td>\n",
       "      <td>magazin</td>\n",
       "      <td>aşksız olmaz ziynet sali menajeriyle birlikte ...</td>\n",
       "      <td>5</td>\n",
       "      <td>[aşksız, olmaz, ziynet, sali, menajeriyle, bir...</td>\n",
       "      <td>{0: 1, 810: 1, 13127: 1, 23120: 1, 48604: 1, 5...</td>\n",
       "    </tr>\n",
       "    <tr>\n",
       "      <th>41988</th>\n",
       "      <td>Magazin dünyasında bomba iddia!\\nLife &amp; Style ...</td>\n",
       "      <td>genel</td>\n",
       "      <td>magazin dünyasında bomba iddia life style derg...</td>\n",
       "      <td>2</td>\n",
       "      <td>[magazin, dünyasında, bomba, iddia, life, styl...</td>\n",
       "      <td>{8647: 1, 3896: 1, 1253: 1, 237: 1, 10741: 1, ...</td>\n",
       "    </tr>\n",
       "    <tr>\n",
       "      <th>41989</th>\n",
       "      <td>Futbolun Obama'sı hoş geldin\\nAlmanya Bundesli...</td>\n",
       "      <td>spor</td>\n",
       "      <td>futbolun obama hoş geldin almanya bundesliga l...</td>\n",
       "      <td>9</td>\n",
       "      <td>[futbolun, obama, hoş, geldin, almanya, bundes...</td>\n",
       "      <td>{4420: 1, 426: 1, 3570: 1, 12649: 1, 203: 1, 5...</td>\n",
       "    </tr>\n",
       "    <tr>\n",
       "      <th>41990</th>\n",
       "      <td>Bakandan arama motoru sitelerine tepki\\n\"Bir t...</td>\n",
       "      <td>ekonomi</td>\n",
       "      <td>bakandan arama motoru sitelerine tepki bir tek...</td>\n",
       "      <td>1</td>\n",
       "      <td>[bakandan, arama, motoru, sitelerine, tepki, b...</td>\n",
       "      <td>{34183: 1, 915: 1, 6393: 1, 13759: 1, 468: 1, ...</td>\n",
       "    </tr>\n",
       "    <tr>\n",
       "      <th>41991</th>\n",
       "      <td>İstiridye mantarı ye, kilo ver!\\n \\n Gaziosman...</td>\n",
       "      <td>saglik</td>\n",
       "      <td>i̇stiridye mantarı kilo ver gaziosmanpaşa üniv...</td>\n",
       "      <td>7</td>\n",
       "      <td>[i̇stiridye, mantarı, kilo, ver, gaziosmanpaşa...</td>\n",
       "      <td>{0: 1, 31662: 1, 958: 1, 6911: 1, 11792: 1, 17...</td>\n",
       "    </tr>\n",
       "  </tbody>\n",
       "</table>\n",
       "<p>41992 rows × 6 columns</p>\n",
       "</div>"
      ],
      "text/plain": [
       "                                                    text   category  \\\n",
       "0      Üsküdar namağlup devam ediyor\\nHentbol Bayanla...       spor   \n",
       "1      Putin'den 'hazır olmalıyız' uyarısı\\nRusya Dev...      dunya   \n",
       "2      Boğaz'da lüks tekne yandı: 2 ölü\\nBeşiktaş'tak...     guncel   \n",
       "3      Sizi kim sildi?\\nFacebook'ta sizi arkadaş list...  teknoloji   \n",
       "4      Ömer & Harden ortaklığı galibiyet getirdi\\nHou...       spor   \n",
       "...                                                  ...        ...   \n",
       "41987  Aşksız olmaz\\nZiynet Sali, menajeriyle birlikt...    magazin   \n",
       "41988  Magazin dünyasında bomba iddia!\\nLife & Style ...      genel   \n",
       "41989  Futbolun Obama'sı hoş geldin\\nAlmanya Bundesli...       spor   \n",
       "41990  Bakandan arama motoru sitelerine tepki\\n\"Bir t...    ekonomi   \n",
       "41991  İstiridye mantarı ye, kilo ver!\\n \\n Gaziosman...     saglik   \n",
       "\n",
       "                                              clean_text  class_index  \\\n",
       "0      üsküdar namağlup devam ediyor hentbol bayanlar...            9   \n",
       "1      putin olmalıyız uyarısı rusya devlet başkanı v...            0   \n",
       "2      boğaz lüks tekne yandı ölü beşiktaş yat limanı...            3   \n",
       "3      sizi sildi facebook sizi arkadaş listesinden k...           10   \n",
       "4      ömer harden ortaklığı galibiyet getirdi housto...            9   \n",
       "...                                                  ...          ...   \n",
       "41987  aşksız olmaz ziynet sali menajeriyle birlikte ...            5   \n",
       "41988  magazin dünyasında bomba iddia life style derg...            2   \n",
       "41989  futbolun obama hoş geldin almanya bundesliga l...            9   \n",
       "41990  bakandan arama motoru sitelerine tepki bir tek...            1   \n",
       "41991  i̇stiridye mantarı kilo ver gaziosmanpaşa üniv...            7   \n",
       "\n",
       "                                                  tokens  \\\n",
       "0      [üsküdar, namağlup, devam, ediyor, hentbol, ba...   \n",
       "1      [putin, olmalıyız, uyarısı, rusya, devlet, baş...   \n",
       "2      [boğaz, lüks, tekne, yandı, ölü, beşiktaş, yat...   \n",
       "3      [sizi, sildi, facebook, sizi, arkadaş, listesi...   \n",
       "4      [ömer, harden, ortaklığı, galibiyet, getirdi, ...   \n",
       "...                                                  ...   \n",
       "41987  [aşksız, olmaz, ziynet, sali, menajeriyle, bir...   \n",
       "41988  [magazin, dünyasında, bomba, iddia, life, styl...   \n",
       "41989  [futbolun, obama, hoş, geldin, almanya, bundes...   \n",
       "41990  [bakandan, arama, motoru, sitelerine, tepki, b...   \n",
       "41991  [i̇stiridye, mantarı, kilo, ver, gaziosmanpaşa...   \n",
       "\n",
       "                                                features  \n",
       "0      {4591: 1, 7857: 1, 28: 1, 147: 1, 5244: 1, 329...  \n",
       "1      {2555: 1, 10441: 1, 3055: 1, 192: 1, 113: 1, 2...  \n",
       "2      {4445: 1, 2765: 1, 11063: 1, 8487: 1, 1133: 1,...  \n",
       "3      {1553: 1, 30034: 1, 1184: 1, 2754: 1, 27608: 1...  \n",
       "4      {590: 1, 10514: 1, 4701: 1, 705: 1, 314: 1, 34...  \n",
       "...                                                  ...  \n",
       "41987  {0: 1, 810: 1, 13127: 1, 23120: 1, 48604: 1, 5...  \n",
       "41988  {8647: 1, 3896: 1, 1253: 1, 237: 1, 10741: 1, ...  \n",
       "41989  {4420: 1, 426: 1, 3570: 1, 12649: 1, 203: 1, 5...  \n",
       "41990  {34183: 1, 915: 1, 6393: 1, 13759: 1, 468: 1, ...  \n",
       "41991  {0: 1, 31662: 1, 958: 1, 6911: 1, 11792: 1, 17...  \n",
       "\n",
       "[41992 rows x 6 columns]"
      ]
     },
     "execution_count": 21,
     "metadata": {},
     "output_type": "execute_result"
    }
   ],
   "source": [
    "# Convert features to a suitable format for modeling\n",
    "def make_features(tokens, unk_id=0):\n",
    "    vector = {token_to_id.get(t, unk_id): 1 for t in tokens}\n",
    "    return vector\n",
    "\n",
    "df_1['features'] = df_1['tokens'].apply(make_features)\n",
    "df_1"
   ]
  },
  {
   "cell_type": "code",
   "execution_count": 22,
   "metadata": {},
   "outputs": [],
   "source": [
    "# Split data into train and test\n",
    "train_df, test_df = train_test_split(df_1, test_size=0.2, random_state=42, stratify=df_1['class_index'])\n",
    "train_df, val_df = train_test_split(train_df, test_size=0.1, random_state=42, stratify=train_df['class_index'])\n",
    "\n",
    "class MyDataset(Dataset):\n",
    "    def __init__(self, data):\n",
    "        self.data = data\n",
    "\n",
    "    def __len__(self):\n",
    "        return len(self.data)\n",
    "\n",
    "    def __getitem__(self, index):\n",
    "        features = np.zeros(vocabulary_size, dtype=np.float32)\n",
    "        for k, v in self.data.iloc[index]['features'].items():\n",
    "            features[k] = v\n",
    "        label = self.data.iloc[index]['class_index']\n",
    "        return torch.tensor(features), torch.tensor(label, dtype=torch.long)\n",
    "\n",
    "# Initialize datasets and data loaders\n",
    "train_dataset = MyDataset(train_df)\n",
    "val_dataset = MyDataset(val_df)\n",
    "test_dataset = MyDataset(test_df)\n",
    "batch_size = 128\n",
    "\n",
    "train_loader = DataLoader(train_dataset, batch_size=batch_size, shuffle=True)\n",
    "val_loader = DataLoader(val_dataset, batch_size=batch_size)\n",
    "test_loader = DataLoader(test_dataset, batch_size=batch_size)"
   ]
  },
  {
   "cell_type": "code",
   "execution_count": 35,
   "metadata": {},
   "outputs": [
    {
     "name": "stdout",
     "output_type": "stream",
     "text": [
      "Training with parameters: {'dropout': 0.8, 'hidden_dim': 256, 'lr': 0.001, 'momentum': 0.9, 'num_layers': 2, 'optimizer': 'adam', 'weight_decay': 0.01}\n",
      "Epoch 1/5\n"
     ]
    },
    {
     "name": "stderr",
     "output_type": "stream",
     "text": [
      "Training: 100%|██████████| 237/237 [00:15<00:00, 14.86it/s]\n"
     ]
    },
    {
     "name": "stdout",
     "output_type": "stream",
     "text": [
      "Validation Loss: 1.4817, Validation AUC-ROC: 0.8756\n",
      "Epoch 2/5\n"
     ]
    },
    {
     "name": "stderr",
     "output_type": "stream",
     "text": [
      "Training: 100%|██████████| 237/237 [00:15<00:00, 15.14it/s]\n"
     ]
    },
    {
     "name": "stdout",
     "output_type": "stream",
     "text": [
      "Validation Loss: 1.2056, Validation AUC-ROC: 0.8960\n",
      "Epoch 3/5\n"
     ]
    },
    {
     "name": "stderr",
     "output_type": "stream",
     "text": [
      "Training: 100%|██████████| 237/237 [00:15<00:00, 15.46it/s]\n"
     ]
    },
    {
     "name": "stdout",
     "output_type": "stream",
     "text": [
      "Validation Loss: 1.1651, Validation AUC-ROC: 0.8997\n",
      "Epoch 4/5\n"
     ]
    },
    {
     "name": "stderr",
     "output_type": "stream",
     "text": [
      "Training: 100%|██████████| 237/237 [00:14<00:00, 16.06it/s]\n"
     ]
    },
    {
     "name": "stdout",
     "output_type": "stream",
     "text": [
      "Validation Loss: 1.1589, Validation AUC-ROC: 0.9049\n",
      "Epoch 5/5\n"
     ]
    },
    {
     "name": "stderr",
     "output_type": "stream",
     "text": [
      "Training: 100%|██████████| 237/237 [00:14<00:00, 16.02it/s]\n"
     ]
    },
    {
     "name": "stdout",
     "output_type": "stream",
     "text": [
      "Validation Loss: 1.1466, Validation AUC-ROC: 0.9041\n",
      "Test AUC-ROC: 0.9085, Parameters: {'dropout': 0.8, 'hidden_dim': 256, 'lr': 0.001, 'momentum': 0.9, 'num_layers': 2, 'optimizer': 'adam', 'weight_decay': 0.01}\n",
      "Training with parameters: {'dropout': 0.8, 'hidden_dim': 256, 'lr': 0.001, 'momentum': 0.9, 'num_layers': 2, 'optimizer': 'adam', 'weight_decay': 0.0001}\n",
      "Epoch 1/5\n"
     ]
    },
    {
     "name": "stderr",
     "output_type": "stream",
     "text": [
      "Training: 100%|██████████| 237/237 [00:15<00:00, 15.28it/s]\n"
     ]
    },
    {
     "name": "stdout",
     "output_type": "stream",
     "text": [
      "Validation Loss: 1.2030, Validation AUC-ROC: 0.8955\n",
      "Epoch 2/5\n"
     ]
    },
    {
     "name": "stderr",
     "output_type": "stream",
     "text": [
      "Training: 100%|██████████| 237/237 [00:14<00:00, 16.24it/s]\n"
     ]
    },
    {
     "name": "stdout",
     "output_type": "stream",
     "text": [
      "Validation Loss: 1.0032, Validation AUC-ROC: 0.9182\n",
      "Epoch 3/5\n"
     ]
    },
    {
     "name": "stderr",
     "output_type": "stream",
     "text": [
      "Training: 100%|██████████| 237/237 [00:14<00:00, 15.96it/s]\n"
     ]
    },
    {
     "name": "stdout",
     "output_type": "stream",
     "text": [
      "Validation Loss: 1.1524, Validation AUC-ROC: 0.9161\n",
      "Epoch 4/5\n"
     ]
    },
    {
     "name": "stderr",
     "output_type": "stream",
     "text": [
      "Training: 100%|██████████| 237/237 [00:14<00:00, 16.32it/s]\n"
     ]
    },
    {
     "name": "stdout",
     "output_type": "stream",
     "text": [
      "Validation Loss: 1.2250, Validation AUC-ROC: 0.9160\n",
      "Epoch 5/5\n"
     ]
    },
    {
     "name": "stderr",
     "output_type": "stream",
     "text": [
      "Training: 100%|██████████| 237/237 [00:14<00:00, 16.00it/s]\n"
     ]
    },
    {
     "name": "stdout",
     "output_type": "stream",
     "text": [
      "Validation Loss: 1.3535, Validation AUC-ROC: 0.9143\n",
      "Test AUC-ROC: 0.9135, Parameters: {'dropout': 0.8, 'hidden_dim': 256, 'lr': 0.001, 'momentum': 0.9, 'num_layers': 2, 'optimizer': 'adam', 'weight_decay': 0.0001}\n",
      "Training with parameters: {'dropout': 0.8, 'hidden_dim': 256, 'lr': 0.001, 'momentum': 0.9, 'num_layers': 2, 'optimizer': 'sgd', 'weight_decay': 0.01}\n",
      "Epoch 1/5\n"
     ]
    },
    {
     "name": "stderr",
     "output_type": "stream",
     "text": [
      "Training: 100%|██████████| 237/237 [00:12<00:00, 19.10it/s]\n"
     ]
    },
    {
     "name": "stdout",
     "output_type": "stream",
     "text": [
      "Validation Loss: 2.4397, Validation AUC-ROC: 0.6431\n",
      "Epoch 2/5\n"
     ]
    },
    {
     "name": "stderr",
     "output_type": "stream",
     "text": [
      "Training: 100%|██████████| 237/237 [00:12<00:00, 19.63it/s]\n"
     ]
    },
    {
     "name": "stdout",
     "output_type": "stream",
     "text": [
      "Validation Loss: 2.3188, Validation AUC-ROC: 0.6332\n",
      "Epoch 3/5\n"
     ]
    },
    {
     "name": "stderr",
     "output_type": "stream",
     "text": [
      "Training: 100%|██████████| 237/237 [00:12<00:00, 19.28it/s]\n"
     ]
    },
    {
     "name": "stdout",
     "output_type": "stream",
     "text": [
      "Validation Loss: 2.2303, Validation AUC-ROC: 0.6986\n",
      "Epoch 4/5\n"
     ]
    },
    {
     "name": "stderr",
     "output_type": "stream",
     "text": [
      "Training: 100%|██████████| 237/237 [00:12<00:00, 19.27it/s]\n"
     ]
    },
    {
     "name": "stdout",
     "output_type": "stream",
     "text": [
      "Validation Loss: 2.1228, Validation AUC-ROC: 0.7623\n",
      "Epoch 5/5\n"
     ]
    },
    {
     "name": "stderr",
     "output_type": "stream",
     "text": [
      "Training: 100%|██████████| 237/237 [00:12<00:00, 19.13it/s]\n"
     ]
    },
    {
     "name": "stdout",
     "output_type": "stream",
     "text": [
      "Validation Loss: 2.0042, Validation AUC-ROC: 0.7742\n",
      "Test AUC-ROC: 0.7756, Parameters: {'dropout': 0.8, 'hidden_dim': 256, 'lr': 0.001, 'momentum': 0.9, 'num_layers': 2, 'optimizer': 'sgd', 'weight_decay': 0.01}\n",
      "Training with parameters: {'dropout': 0.8, 'hidden_dim': 256, 'lr': 0.001, 'momentum': 0.9, 'num_layers': 2, 'optimizer': 'sgd', 'weight_decay': 0.0001}\n",
      "Epoch 1/5\n"
     ]
    },
    {
     "name": "stderr",
     "output_type": "stream",
     "text": [
      "Training: 100%|██████████| 237/237 [00:13<00:00, 17.44it/s]\n"
     ]
    },
    {
     "name": "stdout",
     "output_type": "stream",
     "text": [
      "Validation Loss: 2.4188, Validation AUC-ROC: 0.6332\n",
      "Epoch 2/5\n"
     ]
    },
    {
     "name": "stderr",
     "output_type": "stream",
     "text": [
      "Training: 100%|██████████| 237/237 [00:12<00:00, 19.18it/s]\n"
     ]
    },
    {
     "name": "stdout",
     "output_type": "stream",
     "text": [
      "Validation Loss: 2.2857, Validation AUC-ROC: 0.6548\n",
      "Epoch 3/5\n"
     ]
    },
    {
     "name": "stderr",
     "output_type": "stream",
     "text": [
      "Training: 100%|██████████| 237/237 [00:12<00:00, 19.32it/s]\n"
     ]
    },
    {
     "name": "stdout",
     "output_type": "stream",
     "text": [
      "Validation Loss: 2.1906, Validation AUC-ROC: 0.7303\n",
      "Epoch 4/5\n"
     ]
    },
    {
     "name": "stderr",
     "output_type": "stream",
     "text": [
      "Training: 100%|██████████| 237/237 [00:12<00:00, 19.23it/s]\n"
     ]
    },
    {
     "name": "stdout",
     "output_type": "stream",
     "text": [
      "Validation Loss: 2.0564, Validation AUC-ROC: 0.7725\n",
      "Epoch 5/5\n"
     ]
    },
    {
     "name": "stderr",
     "output_type": "stream",
     "text": [
      "Training: 100%|██████████| 237/237 [00:12<00:00, 19.12it/s]\n"
     ]
    },
    {
     "name": "stdout",
     "output_type": "stream",
     "text": [
      "Validation Loss: 1.9475, Validation AUC-ROC: 0.7864\n",
      "Test AUC-ROC: 0.7882, Parameters: {'dropout': 0.8, 'hidden_dim': 256, 'lr': 0.001, 'momentum': 0.9, 'num_layers': 2, 'optimizer': 'sgd', 'weight_decay': 0.0001}\n",
      "Training with parameters: {'dropout': 0.8, 'hidden_dim': 256, 'lr': 0.001, 'momentum': 0.9, 'num_layers': 3, 'optimizer': 'adam', 'weight_decay': 0.01}\n",
      "Epoch 1/5\n"
     ]
    },
    {
     "name": "stderr",
     "output_type": "stream",
     "text": [
      "Training: 100%|██████████| 237/237 [00:15<00:00, 15.11it/s]\n"
     ]
    },
    {
     "name": "stdout",
     "output_type": "stream",
     "text": [
      "Validation Loss: 1.7593, Validation AUC-ROC: 0.8064\n",
      "Epoch 2/5\n"
     ]
    },
    {
     "name": "stderr",
     "output_type": "stream",
     "text": [
      "Training: 100%|██████████| 237/237 [00:15<00:00, 15.60it/s]\n"
     ]
    },
    {
     "name": "stdout",
     "output_type": "stream",
     "text": [
      "Validation Loss: 1.4353, Validation AUC-ROC: 0.8608\n",
      "Epoch 3/5\n"
     ]
    },
    {
     "name": "stderr",
     "output_type": "stream",
     "text": [
      "Training: 100%|██████████| 237/237 [00:15<00:00, 15.47it/s]\n"
     ]
    },
    {
     "name": "stdout",
     "output_type": "stream",
     "text": [
      "Validation Loss: 1.2700, Validation AUC-ROC: 0.8835\n",
      "Epoch 4/5\n"
     ]
    },
    {
     "name": "stderr",
     "output_type": "stream",
     "text": [
      "Training: 100%|██████████| 237/237 [00:14<00:00, 16.21it/s]\n"
     ]
    },
    {
     "name": "stdout",
     "output_type": "stream",
     "text": [
      "Validation Loss: 1.2458, Validation AUC-ROC: 0.8897\n",
      "Epoch 5/5\n"
     ]
    },
    {
     "name": "stderr",
     "output_type": "stream",
     "text": [
      "Training: 100%|██████████| 237/237 [00:14<00:00, 16.10it/s]\n"
     ]
    },
    {
     "name": "stdout",
     "output_type": "stream",
     "text": [
      "Validation Loss: 1.2196, Validation AUC-ROC: 0.8946\n",
      "Test AUC-ROC: 0.8962, Parameters: {'dropout': 0.8, 'hidden_dim': 256, 'lr': 0.001, 'momentum': 0.9, 'num_layers': 3, 'optimizer': 'adam', 'weight_decay': 0.01}\n",
      "Training with parameters: {'dropout': 0.8, 'hidden_dim': 256, 'lr': 0.001, 'momentum': 0.9, 'num_layers': 3, 'optimizer': 'adam', 'weight_decay': 0.0001}\n",
      "Epoch 1/5\n"
     ]
    },
    {
     "name": "stderr",
     "output_type": "stream",
     "text": [
      "Training: 100%|██████████| 237/237 [00:15<00:00, 15.71it/s]\n"
     ]
    },
    {
     "name": "stdout",
     "output_type": "stream",
     "text": [
      "Validation Loss: 1.6638, Validation AUC-ROC: 0.8367\n",
      "Epoch 2/5\n"
     ]
    },
    {
     "name": "stderr",
     "output_type": "stream",
     "text": [
      "Training: 100%|██████████| 237/237 [00:14<00:00, 15.89it/s]\n"
     ]
    },
    {
     "name": "stdout",
     "output_type": "stream",
     "text": [
      "Validation Loss: 1.0545, Validation AUC-ROC: 0.9105\n",
      "Epoch 3/5\n"
     ]
    },
    {
     "name": "stderr",
     "output_type": "stream",
     "text": [
      "Training: 100%|██████████| 237/237 [00:14<00:00, 15.90it/s]\n"
     ]
    },
    {
     "name": "stdout",
     "output_type": "stream",
     "text": [
      "Validation Loss: 1.1649, Validation AUC-ROC: 0.9089\n",
      "Epoch 4/5\n"
     ]
    },
    {
     "name": "stderr",
     "output_type": "stream",
     "text": [
      "Training: 100%|██████████| 237/237 [00:14<00:00, 15.89it/s]\n"
     ]
    },
    {
     "name": "stdout",
     "output_type": "stream",
     "text": [
      "Validation Loss: 1.3500, Validation AUC-ROC: 0.9092\n",
      "Epoch 5/5\n"
     ]
    },
    {
     "name": "stderr",
     "output_type": "stream",
     "text": [
      "Training: 100%|██████████| 237/237 [00:14<00:00, 15.99it/s]\n"
     ]
    },
    {
     "name": "stdout",
     "output_type": "stream",
     "text": [
      "Validation Loss: 1.5515, Validation AUC-ROC: 0.9105\n",
      "Test AUC-ROC: 0.9095, Parameters: {'dropout': 0.8, 'hidden_dim': 256, 'lr': 0.001, 'momentum': 0.9, 'num_layers': 3, 'optimizer': 'adam', 'weight_decay': 0.0001}\n",
      "Training with parameters: {'dropout': 0.8, 'hidden_dim': 256, 'lr': 0.001, 'momentum': 0.9, 'num_layers': 3, 'optimizer': 'sgd', 'weight_decay': 0.01}\n",
      "Epoch 1/5\n"
     ]
    },
    {
     "name": "stderr",
     "output_type": "stream",
     "text": [
      "Training: 100%|██████████| 237/237 [00:12<00:00, 18.97it/s]\n"
     ]
    },
    {
     "name": "stdout",
     "output_type": "stream",
     "text": [
      "Validation Loss: 2.4307, Validation AUC-ROC: 0.5881\n",
      "Epoch 2/5\n"
     ]
    },
    {
     "name": "stderr",
     "output_type": "stream",
     "text": [
      "Training: 100%|██████████| 237/237 [00:12<00:00, 19.17it/s]\n"
     ]
    },
    {
     "name": "stdout",
     "output_type": "stream",
     "text": [
      "Validation Loss: 2.3400, Validation AUC-ROC: 0.6146\n",
      "Epoch 3/5\n"
     ]
    },
    {
     "name": "stderr",
     "output_type": "stream",
     "text": [
      "Training: 100%|██████████| 237/237 [00:12<00:00, 19.56it/s]\n"
     ]
    },
    {
     "name": "stdout",
     "output_type": "stream",
     "text": [
      "Validation Loss: 2.2938, Validation AUC-ROC: 0.6174\n",
      "Epoch 4/5\n"
     ]
    },
    {
     "name": "stderr",
     "output_type": "stream",
     "text": [
      "Training: 100%|██████████| 237/237 [00:12<00:00, 19.21it/s]\n"
     ]
    },
    {
     "name": "stdout",
     "output_type": "stream",
     "text": [
      "Validation Loss: 2.2689, Validation AUC-ROC: 0.6475\n",
      "Epoch 5/5\n"
     ]
    },
    {
     "name": "stderr",
     "output_type": "stream",
     "text": [
      "Training: 100%|██████████| 237/237 [00:12<00:00, 19.03it/s]\n"
     ]
    },
    {
     "name": "stdout",
     "output_type": "stream",
     "text": [
      "Validation Loss: 2.2408, Validation AUC-ROC: 0.7011\n",
      "Test AUC-ROC: 0.6983, Parameters: {'dropout': 0.8, 'hidden_dim': 256, 'lr': 0.001, 'momentum': 0.9, 'num_layers': 3, 'optimizer': 'sgd', 'weight_decay': 0.01}\n",
      "Training with parameters: {'dropout': 0.8, 'hidden_dim': 256, 'lr': 0.001, 'momentum': 0.9, 'num_layers': 3, 'optimizer': 'sgd', 'weight_decay': 0.0001}\n",
      "Epoch 1/5\n"
     ]
    },
    {
     "name": "stderr",
     "output_type": "stream",
     "text": [
      "Training: 100%|██████████| 237/237 [00:12<00:00, 18.88it/s]\n"
     ]
    },
    {
     "name": "stdout",
     "output_type": "stream",
     "text": [
      "Validation Loss: 2.4257, Validation AUC-ROC: 0.6102\n",
      "Epoch 2/5\n"
     ]
    },
    {
     "name": "stderr",
     "output_type": "stream",
     "text": [
      "Training: 100%|██████████| 237/237 [00:12<00:00, 19.42it/s]\n"
     ]
    },
    {
     "name": "stdout",
     "output_type": "stream",
     "text": [
      "Validation Loss: 2.3343, Validation AUC-ROC: 0.6548\n",
      "Epoch 3/5\n"
     ]
    },
    {
     "name": "stderr",
     "output_type": "stream",
     "text": [
      "Training: 100%|██████████| 237/237 [00:12<00:00, 18.97it/s]\n"
     ]
    },
    {
     "name": "stdout",
     "output_type": "stream",
     "text": [
      "Validation Loss: 2.2845, Validation AUC-ROC: 0.6727\n",
      "Epoch 4/5\n"
     ]
    },
    {
     "name": "stderr",
     "output_type": "stream",
     "text": [
      "Training: 100%|██████████| 237/237 [00:12<00:00, 18.41it/s]\n"
     ]
    },
    {
     "name": "stdout",
     "output_type": "stream",
     "text": [
      "Validation Loss: 2.2441, Validation AUC-ROC: 0.7152\n",
      "Epoch 5/5\n"
     ]
    },
    {
     "name": "stderr",
     "output_type": "stream",
     "text": [
      "Training: 100%|██████████| 237/237 [00:12<00:00, 19.27it/s]\n"
     ]
    },
    {
     "name": "stdout",
     "output_type": "stream",
     "text": [
      "Validation Loss: 2.1638, Validation AUC-ROC: 0.7408\n",
      "Test AUC-ROC: 0.7432, Parameters: {'dropout': 0.8, 'hidden_dim': 256, 'lr': 0.001, 'momentum': 0.9, 'num_layers': 3, 'optimizer': 'sgd', 'weight_decay': 0.0001}\n",
      "Training with parameters: {'dropout': 0.8, 'hidden_dim': 256, 'lr': 0.001, 'momentum': 0.99, 'num_layers': 2, 'optimizer': 'adam', 'weight_decay': 0.01}\n",
      "Epoch 1/5\n"
     ]
    },
    {
     "name": "stderr",
     "output_type": "stream",
     "text": [
      "Training: 100%|██████████| 237/237 [00:14<00:00, 15.86it/s]\n"
     ]
    },
    {
     "name": "stdout",
     "output_type": "stream",
     "text": [
      "Validation Loss: 1.4493, Validation AUC-ROC: 0.8781\n",
      "Epoch 2/5\n"
     ]
    },
    {
     "name": "stderr",
     "output_type": "stream",
     "text": [
      "Training: 100%|██████████| 237/237 [00:14<00:00, 16.04it/s]\n"
     ]
    },
    {
     "name": "stdout",
     "output_type": "stream",
     "text": [
      "Validation Loss: 1.2525, Validation AUC-ROC: 0.8926\n",
      "Epoch 3/5\n"
     ]
    },
    {
     "name": "stderr",
     "output_type": "stream",
     "text": [
      "Training: 100%|██████████| 237/237 [00:14<00:00, 16.31it/s]\n"
     ]
    },
    {
     "name": "stdout",
     "output_type": "stream",
     "text": [
      "Validation Loss: 1.1800, Validation AUC-ROC: 0.9008\n",
      "Epoch 4/5\n"
     ]
    },
    {
     "name": "stderr",
     "output_type": "stream",
     "text": [
      "Training: 100%|██████████| 237/237 [00:14<00:00, 16.06it/s]\n"
     ]
    },
    {
     "name": "stdout",
     "output_type": "stream",
     "text": [
      "Validation Loss: 1.1728, Validation AUC-ROC: 0.9022\n",
      "Epoch 5/5\n"
     ]
    },
    {
     "name": "stderr",
     "output_type": "stream",
     "text": [
      "Training: 100%|██████████| 237/237 [00:14<00:00, 16.08it/s]\n"
     ]
    },
    {
     "name": "stdout",
     "output_type": "stream",
     "text": [
      "Validation Loss: 1.1447, Validation AUC-ROC: 0.9037\n",
      "Test AUC-ROC: 0.9072, Parameters: {'dropout': 0.8, 'hidden_dim': 256, 'lr': 0.001, 'momentum': 0.99, 'num_layers': 2, 'optimizer': 'adam', 'weight_decay': 0.01}\n",
      "Training with parameters: {'dropout': 0.8, 'hidden_dim': 256, 'lr': 0.001, 'momentum': 0.99, 'num_layers': 2, 'optimizer': 'adam', 'weight_decay': 0.0001}\n",
      "Epoch 1/5\n"
     ]
    },
    {
     "name": "stderr",
     "output_type": "stream",
     "text": [
      "Training: 100%|██████████| 237/237 [00:14<00:00, 15.88it/s]\n"
     ]
    },
    {
     "name": "stdout",
     "output_type": "stream",
     "text": [
      "Validation Loss: 1.2297, Validation AUC-ROC: 0.8913\n",
      "Epoch 2/5\n"
     ]
    },
    {
     "name": "stderr",
     "output_type": "stream",
     "text": [
      "Training: 100%|██████████| 237/237 [00:14<00:00, 16.19it/s]\n"
     ]
    },
    {
     "name": "stdout",
     "output_type": "stream",
     "text": [
      "Validation Loss: 1.0066, Validation AUC-ROC: 0.9180\n",
      "Epoch 3/5\n"
     ]
    },
    {
     "name": "stderr",
     "output_type": "stream",
     "text": [
      "Training: 100%|██████████| 237/237 [00:14<00:00, 16.10it/s]\n"
     ]
    },
    {
     "name": "stdout",
     "output_type": "stream",
     "text": [
      "Validation Loss: 1.1080, Validation AUC-ROC: 0.9164\n",
      "Epoch 4/5\n"
     ]
    },
    {
     "name": "stderr",
     "output_type": "stream",
     "text": [
      "Training: 100%|██████████| 237/237 [00:14<00:00, 15.96it/s]\n"
     ]
    },
    {
     "name": "stdout",
     "output_type": "stream",
     "text": [
      "Validation Loss: 1.2105, Validation AUC-ROC: 0.9173\n",
      "Epoch 5/5\n"
     ]
    },
    {
     "name": "stderr",
     "output_type": "stream",
     "text": [
      "Training: 100%|██████████| 237/237 [00:14<00:00, 15.85it/s]\n"
     ]
    },
    {
     "name": "stdout",
     "output_type": "stream",
     "text": [
      "Validation Loss: 1.2800, Validation AUC-ROC: 0.9143\n",
      "Test AUC-ROC: 0.9115, Parameters: {'dropout': 0.8, 'hidden_dim': 256, 'lr': 0.001, 'momentum': 0.99, 'num_layers': 2, 'optimizer': 'adam', 'weight_decay': 0.0001}\n",
      "Training with parameters: {'dropout': 0.8, 'hidden_dim': 256, 'lr': 0.001, 'momentum': 0.99, 'num_layers': 2, 'optimizer': 'sgd', 'weight_decay': 0.01}\n",
      "Epoch 1/5\n"
     ]
    },
    {
     "name": "stderr",
     "output_type": "stream",
     "text": [
      "Training: 100%|██████████| 237/237 [00:12<00:00, 18.41it/s]\n"
     ]
    },
    {
     "name": "stdout",
     "output_type": "stream",
     "text": [
      "Validation Loss: 2.1813, Validation AUC-ROC: 0.7537\n",
      "Epoch 2/5\n"
     ]
    },
    {
     "name": "stderr",
     "output_type": "stream",
     "text": [
      "Training: 100%|██████████| 237/237 [00:12<00:00, 18.62it/s]\n"
     ]
    },
    {
     "name": "stdout",
     "output_type": "stream",
     "text": [
      "Validation Loss: 1.8603, Validation AUC-ROC: 0.7836\n",
      "Epoch 3/5\n"
     ]
    },
    {
     "name": "stderr",
     "output_type": "stream",
     "text": [
      "Training: 100%|██████████| 237/237 [00:12<00:00, 18.91it/s]\n"
     ]
    },
    {
     "name": "stdout",
     "output_type": "stream",
     "text": [
      "Validation Loss: 1.7047, Validation AUC-ROC: 0.8323\n",
      "Epoch 4/5\n"
     ]
    },
    {
     "name": "stderr",
     "output_type": "stream",
     "text": [
      "Training: 100%|██████████| 237/237 [00:12<00:00, 18.66it/s]\n"
     ]
    },
    {
     "name": "stdout",
     "output_type": "stream",
     "text": [
      "Validation Loss: 1.5440, Validation AUC-ROC: 0.8585\n",
      "Epoch 5/5\n"
     ]
    },
    {
     "name": "stderr",
     "output_type": "stream",
     "text": [
      "Training: 100%|██████████| 237/237 [00:12<00:00, 18.56it/s]\n"
     ]
    },
    {
     "name": "stdout",
     "output_type": "stream",
     "text": [
      "Validation Loss: 1.3577, Validation AUC-ROC: 0.8808\n",
      "Test AUC-ROC: 0.8851, Parameters: {'dropout': 0.8, 'hidden_dim': 256, 'lr': 0.001, 'momentum': 0.99, 'num_layers': 2, 'optimizer': 'sgd', 'weight_decay': 0.01}\n",
      "Training with parameters: {'dropout': 0.8, 'hidden_dim': 256, 'lr': 0.001, 'momentum': 0.99, 'num_layers': 2, 'optimizer': 'sgd', 'weight_decay': 0.0001}\n",
      "Epoch 1/5\n"
     ]
    },
    {
     "name": "stderr",
     "output_type": "stream",
     "text": [
      "Training: 100%|██████████| 237/237 [00:12<00:00, 18.47it/s]\n"
     ]
    },
    {
     "name": "stdout",
     "output_type": "stream",
     "text": [
      "Validation Loss: 2.1559, Validation AUC-ROC: 0.7748\n",
      "Epoch 2/5\n"
     ]
    },
    {
     "name": "stderr",
     "output_type": "stream",
     "text": [
      "Training: 100%|██████████| 237/237 [00:12<00:00, 18.86it/s]\n"
     ]
    },
    {
     "name": "stdout",
     "output_type": "stream",
     "text": [
      "Validation Loss: 1.7941, Validation AUC-ROC: 0.8213\n",
      "Epoch 3/5\n"
     ]
    },
    {
     "name": "stderr",
     "output_type": "stream",
     "text": [
      "Training: 100%|██████████| 237/237 [00:12<00:00, 18.60it/s]\n"
     ]
    },
    {
     "name": "stdout",
     "output_type": "stream",
     "text": [
      "Validation Loss: 1.4653, Validation AUC-ROC: 0.8654\n",
      "Epoch 4/5\n"
     ]
    },
    {
     "name": "stderr",
     "output_type": "stream",
     "text": [
      "Training: 100%|██████████| 237/237 [00:12<00:00, 18.80it/s]\n"
     ]
    },
    {
     "name": "stdout",
     "output_type": "stream",
     "text": [
      "Validation Loss: 1.2075, Validation AUC-ROC: 0.8946\n",
      "Epoch 5/5\n"
     ]
    },
    {
     "name": "stderr",
     "output_type": "stream",
     "text": [
      "Training: 100%|██████████| 237/237 [01:12<00:00,  3.26it/s]\n"
     ]
    },
    {
     "name": "stdout",
     "output_type": "stream",
     "text": [
      "Validation Loss: 1.1083, Validation AUC-ROC: 0.9060\n",
      "Test AUC-ROC: 0.9099, Parameters: {'dropout': 0.8, 'hidden_dim': 256, 'lr': 0.001, 'momentum': 0.99, 'num_layers': 2, 'optimizer': 'sgd', 'weight_decay': 0.0001}\n",
      "Training with parameters: {'dropout': 0.8, 'hidden_dim': 256, 'lr': 0.001, 'momentum': 0.99, 'num_layers': 3, 'optimizer': 'adam', 'weight_decay': 0.01}\n",
      "Epoch 1/5\n"
     ]
    },
    {
     "name": "stderr",
     "output_type": "stream",
     "text": [
      "Training: 100%|██████████| 237/237 [04:49<00:00,  1.22s/it] \n"
     ]
    },
    {
     "name": "stdout",
     "output_type": "stream",
     "text": [
      "Validation Loss: 1.7614, Validation AUC-ROC: 0.7985\n",
      "Epoch 2/5\n"
     ]
    },
    {
     "name": "stderr",
     "output_type": "stream",
     "text": [
      "Training: 100%|██████████| 237/237 [00:14<00:00, 15.84it/s]\n"
     ]
    },
    {
     "name": "stdout",
     "output_type": "stream",
     "text": [
      "Validation Loss: 1.4047, Validation AUC-ROC: 0.8633\n",
      "Epoch 3/5\n"
     ]
    },
    {
     "name": "stderr",
     "output_type": "stream",
     "text": [
      "Training: 100%|██████████| 237/237 [00:14<00:00, 15.96it/s]\n"
     ]
    },
    {
     "name": "stdout",
     "output_type": "stream",
     "text": [
      "Validation Loss: 1.2951, Validation AUC-ROC: 0.8805\n",
      "Epoch 4/5\n"
     ]
    },
    {
     "name": "stderr",
     "output_type": "stream",
     "text": [
      "Training: 100%|██████████| 237/237 [00:14<00:00, 15.82it/s]\n"
     ]
    },
    {
     "name": "stdout",
     "output_type": "stream",
     "text": [
      "Validation Loss: 1.2311, Validation AUC-ROC: 0.8917\n",
      "Epoch 5/5\n"
     ]
    },
    {
     "name": "stderr",
     "output_type": "stream",
     "text": [
      "Training: 100%|██████████| 237/237 [00:15<00:00, 15.55it/s]\n"
     ]
    },
    {
     "name": "stdout",
     "output_type": "stream",
     "text": [
      "Validation Loss: 1.2093, Validation AUC-ROC: 0.8952\n",
      "Test AUC-ROC: 0.8975, Parameters: {'dropout': 0.8, 'hidden_dim': 256, 'lr': 0.001, 'momentum': 0.99, 'num_layers': 3, 'optimizer': 'adam', 'weight_decay': 0.01}\n",
      "Training with parameters: {'dropout': 0.8, 'hidden_dim': 256, 'lr': 0.001, 'momentum': 0.99, 'num_layers': 3, 'optimizer': 'adam', 'weight_decay': 0.0001}\n",
      "Epoch 1/5\n"
     ]
    },
    {
     "name": "stderr",
     "output_type": "stream",
     "text": [
      "Training: 100%|██████████| 237/237 [00:15<00:00, 15.66it/s]\n"
     ]
    },
    {
     "name": "stdout",
     "output_type": "stream",
     "text": [
      "Validation Loss: 1.6162, Validation AUC-ROC: 0.8517\n",
      "Epoch 2/5\n"
     ]
    },
    {
     "name": "stderr",
     "output_type": "stream",
     "text": [
      "Training: 100%|██████████| 237/237 [00:15<00:00, 15.64it/s]\n"
     ]
    },
    {
     "name": "stdout",
     "output_type": "stream",
     "text": [
      "Validation Loss: 1.0830, Validation AUC-ROC: 0.9075\n",
      "Epoch 3/5\n"
     ]
    },
    {
     "name": "stderr",
     "output_type": "stream",
     "text": [
      "Training: 100%|██████████| 237/237 [00:14<00:00, 15.85it/s]\n"
     ]
    },
    {
     "name": "stdout",
     "output_type": "stream",
     "text": [
      "Validation Loss: 1.1225, Validation AUC-ROC: 0.9135\n",
      "Epoch 4/5\n"
     ]
    },
    {
     "name": "stderr",
     "output_type": "stream",
     "text": [
      "Training: 100%|██████████| 237/237 [00:14<00:00, 15.81it/s]\n"
     ]
    },
    {
     "name": "stdout",
     "output_type": "stream",
     "text": [
      "Validation Loss: 1.3390, Validation AUC-ROC: 0.9114\n",
      "Epoch 5/5\n"
     ]
    },
    {
     "name": "stderr",
     "output_type": "stream",
     "text": [
      "Training: 100%|██████████| 237/237 [00:14<00:00, 16.03it/s]\n"
     ]
    },
    {
     "name": "stdout",
     "output_type": "stream",
     "text": [
      "Validation Loss: 1.5734, Validation AUC-ROC: 0.9087\n",
      "Test AUC-ROC: 0.9072, Parameters: {'dropout': 0.8, 'hidden_dim': 256, 'lr': 0.001, 'momentum': 0.99, 'num_layers': 3, 'optimizer': 'adam', 'weight_decay': 0.0001}\n",
      "Training with parameters: {'dropout': 0.8, 'hidden_dim': 256, 'lr': 0.001, 'momentum': 0.99, 'num_layers': 3, 'optimizer': 'sgd', 'weight_decay': 0.01}\n",
      "Epoch 1/5\n"
     ]
    },
    {
     "name": "stderr",
     "output_type": "stream",
     "text": [
      "Training: 100%|██████████| 237/237 [00:12<00:00, 18.88it/s]\n"
     ]
    },
    {
     "name": "stdout",
     "output_type": "stream",
     "text": [
      "Validation Loss: 2.2770, Validation AUC-ROC: 0.6553\n",
      "Epoch 2/5\n"
     ]
    },
    {
     "name": "stderr",
     "output_type": "stream",
     "text": [
      "Training: 100%|██████████| 237/237 [00:12<00:00, 19.36it/s]\n"
     ]
    },
    {
     "name": "stdout",
     "output_type": "stream",
     "text": [
      "Validation Loss: 2.0619, Validation AUC-ROC: 0.7203\n",
      "Epoch 3/5\n"
     ]
    },
    {
     "name": "stderr",
     "output_type": "stream",
     "text": [
      "Training: 100%|██████████| 237/237 [00:12<00:00, 18.87it/s]\n"
     ]
    },
    {
     "name": "stdout",
     "output_type": "stream",
     "text": [
      "Validation Loss: 1.8754, Validation AUC-ROC: 0.7260\n",
      "Epoch 4/5\n"
     ]
    },
    {
     "name": "stderr",
     "output_type": "stream",
     "text": [
      "Training: 100%|██████████| 237/237 [00:12<00:00, 19.10it/s]\n"
     ]
    },
    {
     "name": "stdout",
     "output_type": "stream",
     "text": [
      "Validation Loss: 1.8332, Validation AUC-ROC: 0.7413\n",
      "Epoch 5/5\n"
     ]
    },
    {
     "name": "stderr",
     "output_type": "stream",
     "text": [
      "Training: 100%|██████████| 237/237 [00:12<00:00, 19.05it/s]\n"
     ]
    },
    {
     "name": "stdout",
     "output_type": "stream",
     "text": [
      "Validation Loss: 1.7923, Validation AUC-ROC: 0.7539\n",
      "Test AUC-ROC: 0.7586, Parameters: {'dropout': 0.8, 'hidden_dim': 256, 'lr': 0.001, 'momentum': 0.99, 'num_layers': 3, 'optimizer': 'sgd', 'weight_decay': 0.01}\n",
      "Training with parameters: {'dropout': 0.8, 'hidden_dim': 256, 'lr': 0.001, 'momentum': 0.99, 'num_layers': 3, 'optimizer': 'sgd', 'weight_decay': 0.0001}\n",
      "Epoch 1/5\n"
     ]
    },
    {
     "name": "stderr",
     "output_type": "stream",
     "text": [
      "Training: 100%|██████████| 237/237 [00:12<00:00, 18.69it/s]\n"
     ]
    },
    {
     "name": "stdout",
     "output_type": "stream",
     "text": [
      "Validation Loss: 2.2677, Validation AUC-ROC: 0.7182\n",
      "Epoch 2/5\n"
     ]
    },
    {
     "name": "stderr",
     "output_type": "stream",
     "text": [
      "Training: 100%|██████████| 237/237 [00:12<00:00, 19.20it/s]\n"
     ]
    },
    {
     "name": "stdout",
     "output_type": "stream",
     "text": [
      "Validation Loss: 1.9490, Validation AUC-ROC: 0.7593\n",
      "Epoch 3/5\n"
     ]
    },
    {
     "name": "stderr",
     "output_type": "stream",
     "text": [
      "Training: 100%|██████████| 237/237 [00:12<00:00, 18.73it/s]\n"
     ]
    },
    {
     "name": "stdout",
     "output_type": "stream",
     "text": [
      "Validation Loss: 1.8128, Validation AUC-ROC: 0.7847\n",
      "Epoch 4/5\n"
     ]
    },
    {
     "name": "stderr",
     "output_type": "stream",
     "text": [
      "Training: 100%|██████████| 237/237 [00:12<00:00, 18.36it/s]\n"
     ]
    },
    {
     "name": "stdout",
     "output_type": "stream",
     "text": [
      "Validation Loss: 1.6960, Validation AUC-ROC: 0.8225\n",
      "Epoch 5/5\n"
     ]
    },
    {
     "name": "stderr",
     "output_type": "stream",
     "text": [
      "Training: 100%|██████████| 237/237 [00:12<00:00, 18.83it/s]\n"
     ]
    },
    {
     "name": "stdout",
     "output_type": "stream",
     "text": [
      "Validation Loss: 1.4557, Validation AUC-ROC: 0.8590\n",
      "Test AUC-ROC: 0.8634, Parameters: {'dropout': 0.8, 'hidden_dim': 256, 'lr': 0.001, 'momentum': 0.99, 'num_layers': 3, 'optimizer': 'sgd', 'weight_decay': 0.0001}\n",
      "Training with parameters: {'dropout': 0.8, 'hidden_dim': 256, 'lr': 0.01, 'momentum': 0.9, 'num_layers': 2, 'optimizer': 'adam', 'weight_decay': 0.01}\n",
      "Epoch 1/5\n"
     ]
    },
    {
     "name": "stderr",
     "output_type": "stream",
     "text": [
      "Training: 100%|██████████| 237/237 [00:15<00:00, 15.12it/s]\n"
     ]
    },
    {
     "name": "stdout",
     "output_type": "stream",
     "text": [
      "Validation Loss: 1.6801, Validation AUC-ROC: 0.8484\n",
      "Epoch 2/5\n"
     ]
    },
    {
     "name": "stderr",
     "output_type": "stream",
     "text": [
      "Training: 100%|██████████| 237/237 [03:23<00:00,  1.17it/s]\n"
     ]
    },
    {
     "name": "stdout",
     "output_type": "stream",
     "text": [
      "Validation Loss: 1.3268, Validation AUC-ROC: 0.8824\n",
      "Epoch 3/5\n"
     ]
    },
    {
     "name": "stderr",
     "output_type": "stream",
     "text": [
      "Training: 100%|██████████| 237/237 [00:15<00:00, 14.83it/s]\n"
     ]
    },
    {
     "name": "stdout",
     "output_type": "stream",
     "text": [
      "Validation Loss: 1.3086, Validation AUC-ROC: 0.8841\n",
      "Epoch 4/5\n"
     ]
    },
    {
     "name": "stderr",
     "output_type": "stream",
     "text": [
      "Training: 100%|██████████| 237/237 [00:15<00:00, 15.43it/s]\n"
     ]
    },
    {
     "name": "stdout",
     "output_type": "stream",
     "text": [
      "Validation Loss: 1.2725, Validation AUC-ROC: 0.8881\n",
      "Epoch 5/5\n"
     ]
    },
    {
     "name": "stderr",
     "output_type": "stream",
     "text": [
      "Training: 100%|██████████| 237/237 [00:15<00:00, 15.53it/s]\n"
     ]
    },
    {
     "name": "stdout",
     "output_type": "stream",
     "text": [
      "Validation Loss: 1.2366, Validation AUC-ROC: 0.8908\n",
      "Test AUC-ROC: 0.8936, Parameters: {'dropout': 0.8, 'hidden_dim': 256, 'lr': 0.01, 'momentum': 0.9, 'num_layers': 2, 'optimizer': 'adam', 'weight_decay': 0.01}\n",
      "Training with parameters: {'dropout': 0.8, 'hidden_dim': 256, 'lr': 0.01, 'momentum': 0.9, 'num_layers': 2, 'optimizer': 'adam', 'weight_decay': 0.0001}\n",
      "Epoch 1/5\n"
     ]
    },
    {
     "name": "stderr",
     "output_type": "stream",
     "text": [
      "Training: 100%|██████████| 237/237 [00:14<00:00, 15.87it/s]\n"
     ]
    },
    {
     "name": "stdout",
     "output_type": "stream",
     "text": [
      "Validation Loss: 1.6980, Validation AUC-ROC: 0.8479\n",
      "Epoch 2/5\n"
     ]
    },
    {
     "name": "stderr",
     "output_type": "stream",
     "text": [
      "Training: 100%|██████████| 237/237 [00:14<00:00, 16.13it/s]\n"
     ]
    },
    {
     "name": "stdout",
     "output_type": "stream",
     "text": [
      "Validation Loss: 1.0846, Validation AUC-ROC: 0.9060\n",
      "Epoch 3/5\n"
     ]
    },
    {
     "name": "stderr",
     "output_type": "stream",
     "text": [
      "Training: 100%|██████████| 237/237 [00:14<00:00, 16.00it/s]\n"
     ]
    },
    {
     "name": "stdout",
     "output_type": "stream",
     "text": [
      "Validation Loss: 1.1448, Validation AUC-ROC: 0.9070\n",
      "Epoch 4/5\n"
     ]
    },
    {
     "name": "stderr",
     "output_type": "stream",
     "text": [
      "Training: 100%|██████████| 237/237 [00:14<00:00, 16.10it/s]\n"
     ]
    },
    {
     "name": "stdout",
     "output_type": "stream",
     "text": [
      "Validation Loss: 1.2129, Validation AUC-ROC: 0.9042\n",
      "Epoch 5/5\n"
     ]
    },
    {
     "name": "stderr",
     "output_type": "stream",
     "text": [
      "Training: 100%|██████████| 237/237 [00:14<00:00, 16.00it/s]\n"
     ]
    },
    {
     "name": "stdout",
     "output_type": "stream",
     "text": [
      "Validation Loss: 1.2551, Validation AUC-ROC: 0.9018\n",
      "Test AUC-ROC: 0.9029, Parameters: {'dropout': 0.8, 'hidden_dim': 256, 'lr': 0.01, 'momentum': 0.9, 'num_layers': 2, 'optimizer': 'adam', 'weight_decay': 0.0001}\n",
      "Training with parameters: {'dropout': 0.8, 'hidden_dim': 256, 'lr': 0.01, 'momentum': 0.9, 'num_layers': 2, 'optimizer': 'sgd', 'weight_decay': 0.01}\n",
      "Epoch 1/5\n"
     ]
    },
    {
     "name": "stderr",
     "output_type": "stream",
     "text": [
      "Training: 100%|██████████| 237/237 [00:12<00:00, 19.27it/s]\n"
     ]
    },
    {
     "name": "stdout",
     "output_type": "stream",
     "text": [
      "Validation Loss: 1.9015, Validation AUC-ROC: 0.7969\n",
      "Epoch 2/5\n"
     ]
    },
    {
     "name": "stderr",
     "output_type": "stream",
     "text": [
      "Training: 100%|██████████| 237/237 [00:12<00:00, 19.58it/s]\n"
     ]
    },
    {
     "name": "stdout",
     "output_type": "stream",
     "text": [
      "Validation Loss: 1.6706, Validation AUC-ROC: 0.8506\n",
      "Epoch 3/5\n"
     ]
    },
    {
     "name": "stderr",
     "output_type": "stream",
     "text": [
      "Training: 100%|██████████| 237/237 [00:12<00:00, 19.33it/s]\n"
     ]
    },
    {
     "name": "stdout",
     "output_type": "stream",
     "text": [
      "Validation Loss: 1.4204, Validation AUC-ROC: 0.8765\n",
      "Epoch 4/5\n"
     ]
    },
    {
     "name": "stderr",
     "output_type": "stream",
     "text": [
      "Training: 100%|██████████| 237/237 [00:12<00:00, 19.29it/s]\n"
     ]
    },
    {
     "name": "stdout",
     "output_type": "stream",
     "text": [
      "Validation Loss: 1.2587, Validation AUC-ROC: 0.8948\n",
      "Epoch 5/5\n"
     ]
    },
    {
     "name": "stderr",
     "output_type": "stream",
     "text": [
      "Training: 100%|██████████| 237/237 [00:12<00:00, 19.38it/s]\n"
     ]
    },
    {
     "name": "stdout",
     "output_type": "stream",
     "text": [
      "Validation Loss: 1.1962, Validation AUC-ROC: 0.9002\n",
      "Test AUC-ROC: 0.9035, Parameters: {'dropout': 0.8, 'hidden_dim': 256, 'lr': 0.01, 'momentum': 0.9, 'num_layers': 2, 'optimizer': 'sgd', 'weight_decay': 0.01}\n",
      "Training with parameters: {'dropout': 0.8, 'hidden_dim': 256, 'lr': 0.01, 'momentum': 0.9, 'num_layers': 2, 'optimizer': 'sgd', 'weight_decay': 0.0001}\n",
      "Epoch 1/5\n"
     ]
    },
    {
     "name": "stderr",
     "output_type": "stream",
     "text": [
      "Training: 100%|██████████| 237/237 [00:12<00:00, 19.13it/s]\n"
     ]
    },
    {
     "name": "stdout",
     "output_type": "stream",
     "text": [
      "Validation Loss: 1.8745, Validation AUC-ROC: 0.8057\n",
      "Epoch 2/5\n"
     ]
    },
    {
     "name": "stderr",
     "output_type": "stream",
     "text": [
      "Training: 100%|██████████| 237/237 [00:12<00:00, 19.24it/s]\n"
     ]
    },
    {
     "name": "stdout",
     "output_type": "stream",
     "text": [
      "Validation Loss: 1.4747, Validation AUC-ROC: 0.8711\n",
      "Epoch 3/5\n"
     ]
    },
    {
     "name": "stderr",
     "output_type": "stream",
     "text": [
      "Training: 100%|██████████| 237/237 [00:12<00:00, 18.68it/s]\n"
     ]
    },
    {
     "name": "stdout",
     "output_type": "stream",
     "text": [
      "Validation Loss: 1.1837, Validation AUC-ROC: 0.9000\n",
      "Epoch 4/5\n"
     ]
    },
    {
     "name": "stderr",
     "output_type": "stream",
     "text": [
      "Training: 100%|██████████| 237/237 [00:12<00:00, 19.39it/s]\n"
     ]
    },
    {
     "name": "stdout",
     "output_type": "stream",
     "text": [
      "Validation Loss: 1.0873, Validation AUC-ROC: 0.9114\n",
      "Epoch 5/5\n"
     ]
    },
    {
     "name": "stderr",
     "output_type": "stream",
     "text": [
      "Training: 100%|██████████| 237/237 [00:11<00:00, 19.75it/s]\n"
     ]
    },
    {
     "name": "stdout",
     "output_type": "stream",
     "text": [
      "Validation Loss: 1.0575, Validation AUC-ROC: 0.9154\n",
      "Test AUC-ROC: 0.9174, Parameters: {'dropout': 0.8, 'hidden_dim': 256, 'lr': 0.01, 'momentum': 0.9, 'num_layers': 2, 'optimizer': 'sgd', 'weight_decay': 0.0001}\n",
      "Training with parameters: {'dropout': 0.8, 'hidden_dim': 256, 'lr': 0.01, 'momentum': 0.9, 'num_layers': 3, 'optimizer': 'adam', 'weight_decay': 0.01}\n",
      "Epoch 1/5\n"
     ]
    },
    {
     "name": "stderr",
     "output_type": "stream",
     "text": [
      "Training: 100%|██████████| 237/237 [00:15<00:00, 15.68it/s]\n"
     ]
    },
    {
     "name": "stdout",
     "output_type": "stream",
     "text": [
      "Validation Loss: 1.9215, Validation AUC-ROC: 0.7611\n",
      "Epoch 2/5\n"
     ]
    },
    {
     "name": "stderr",
     "output_type": "stream",
     "text": [
      "Training: 100%|██████████| 237/237 [00:14<00:00, 16.10it/s]\n"
     ]
    },
    {
     "name": "stdout",
     "output_type": "stream",
     "text": [
      "Validation Loss: 1.3673, Validation AUC-ROC: 0.8734\n",
      "Epoch 3/5\n"
     ]
    },
    {
     "name": "stderr",
     "output_type": "stream",
     "text": [
      "Training: 100%|██████████| 237/237 [00:14<00:00, 16.03it/s]\n"
     ]
    },
    {
     "name": "stdout",
     "output_type": "stream",
     "text": [
      "Validation Loss: 1.3151, Validation AUC-ROC: 0.8768\n",
      "Epoch 4/5\n"
     ]
    },
    {
     "name": "stderr",
     "output_type": "stream",
     "text": [
      "Training: 100%|██████████| 237/237 [00:15<00:00, 15.78it/s]\n"
     ]
    },
    {
     "name": "stdout",
     "output_type": "stream",
     "text": [
      "Validation Loss: 1.3490, Validation AUC-ROC: 0.8769\n",
      "Epoch 5/5\n"
     ]
    },
    {
     "name": "stderr",
     "output_type": "stream",
     "text": [
      "Training: 100%|██████████| 237/237 [00:14<00:00, 15.84it/s]\n"
     ]
    },
    {
     "name": "stdout",
     "output_type": "stream",
     "text": [
      "Validation Loss: 1.2751, Validation AUC-ROC: 0.8845\n",
      "Test AUC-ROC: 0.8862, Parameters: {'dropout': 0.8, 'hidden_dim': 256, 'lr': 0.01, 'momentum': 0.9, 'num_layers': 3, 'optimizer': 'adam', 'weight_decay': 0.01}\n",
      "Training with parameters: {'dropout': 0.8, 'hidden_dim': 256, 'lr': 0.01, 'momentum': 0.9, 'num_layers': 3, 'optimizer': 'adam', 'weight_decay': 0.0001}\n",
      "Epoch 1/5\n"
     ]
    },
    {
     "name": "stderr",
     "output_type": "stream",
     "text": [
      "Training: 100%|██████████| 237/237 [00:15<00:00, 15.09it/s]\n"
     ]
    },
    {
     "name": "stdout",
     "output_type": "stream",
     "text": [
      "Validation Loss: 2.0150, Validation AUC-ROC: 0.7078\n",
      "Epoch 2/5\n"
     ]
    },
    {
     "name": "stderr",
     "output_type": "stream",
     "text": [
      "Training: 100%|██████████| 237/237 [00:15<00:00, 15.56it/s]\n"
     ]
    },
    {
     "name": "stdout",
     "output_type": "stream",
     "text": [
      "Validation Loss: 1.1739, Validation AUC-ROC: 0.8945\n",
      "Epoch 3/5\n"
     ]
    },
    {
     "name": "stderr",
     "output_type": "stream",
     "text": [
      "Training: 100%|██████████| 237/237 [00:15<00:00, 15.69it/s]\n"
     ]
    },
    {
     "name": "stdout",
     "output_type": "stream",
     "text": [
      "Validation Loss: 1.1455, Validation AUC-ROC: 0.8993\n",
      "Epoch 4/5\n"
     ]
    },
    {
     "name": "stderr",
     "output_type": "stream",
     "text": [
      "Training: 100%|██████████| 237/237 [00:14<00:00, 16.06it/s]\n"
     ]
    },
    {
     "name": "stdout",
     "output_type": "stream",
     "text": [
      "Validation Loss: 1.2063, Validation AUC-ROC: 0.8991\n",
      "Epoch 5/5\n"
     ]
    },
    {
     "name": "stderr",
     "output_type": "stream",
     "text": [
      "Training: 100%|██████████| 237/237 [00:14<00:00, 15.99it/s]\n"
     ]
    },
    {
     "name": "stdout",
     "output_type": "stream",
     "text": [
      "Validation Loss: 1.1609, Validation AUC-ROC: 0.9022\n",
      "Test AUC-ROC: 0.9035, Parameters: {'dropout': 0.8, 'hidden_dim': 256, 'lr': 0.01, 'momentum': 0.9, 'num_layers': 3, 'optimizer': 'adam', 'weight_decay': 0.0001}\n",
      "Training with parameters: {'dropout': 0.8, 'hidden_dim': 256, 'lr': 0.01, 'momentum': 0.9, 'num_layers': 3, 'optimizer': 'sgd', 'weight_decay': 0.01}\n",
      "Epoch 1/5\n"
     ]
    },
    {
     "name": "stderr",
     "output_type": "stream",
     "text": [
      "Training: 100%|██████████| 237/237 [00:12<00:00, 18.82it/s]\n"
     ]
    },
    {
     "name": "stdout",
     "output_type": "stream",
     "text": [
      "Validation Loss: 2.1148, Validation AUC-ROC: 0.7201\n",
      "Epoch 2/5\n"
     ]
    },
    {
     "name": "stderr",
     "output_type": "stream",
     "text": [
      "Training: 100%|██████████| 237/237 [00:12<00:00, 19.34it/s]\n"
     ]
    },
    {
     "name": "stdout",
     "output_type": "stream",
     "text": [
      "Validation Loss: 1.8624, Validation AUC-ROC: 0.7499\n",
      "Epoch 3/5\n"
     ]
    },
    {
     "name": "stderr",
     "output_type": "stream",
     "text": [
      "Training: 100%|██████████| 237/237 [00:12<00:00, 19.62it/s]\n"
     ]
    },
    {
     "name": "stdout",
     "output_type": "stream",
     "text": [
      "Validation Loss: 1.7950, Validation AUC-ROC: 0.7670\n",
      "Epoch 4/5\n"
     ]
    },
    {
     "name": "stderr",
     "output_type": "stream",
     "text": [
      "Training: 100%|██████████| 237/237 [00:12<00:00, 19.26it/s]\n"
     ]
    },
    {
     "name": "stdout",
     "output_type": "stream",
     "text": [
      "Validation Loss: 1.7470, Validation AUC-ROC: 0.7905\n",
      "Epoch 5/5\n"
     ]
    },
    {
     "name": "stderr",
     "output_type": "stream",
     "text": [
      "Training: 100%|██████████| 237/237 [00:12<00:00, 19.01it/s]\n"
     ]
    },
    {
     "name": "stdout",
     "output_type": "stream",
     "text": [
      "Validation Loss: 1.7181, Validation AUC-ROC: 0.8149\n",
      "Test AUC-ROC: 0.8198, Parameters: {'dropout': 0.8, 'hidden_dim': 256, 'lr': 0.01, 'momentum': 0.9, 'num_layers': 3, 'optimizer': 'sgd', 'weight_decay': 0.01}\n",
      "Training with parameters: {'dropout': 0.8, 'hidden_dim': 256, 'lr': 0.01, 'momentum': 0.9, 'num_layers': 3, 'optimizer': 'sgd', 'weight_decay': 0.0001}\n",
      "Epoch 1/5\n"
     ]
    },
    {
     "name": "stderr",
     "output_type": "stream",
     "text": [
      "Training: 100%|██████████| 237/237 [00:13<00:00, 17.66it/s]\n"
     ]
    },
    {
     "name": "stdout",
     "output_type": "stream",
     "text": [
      "Validation Loss: 1.9837, Validation AUC-ROC: 0.7257\n",
      "Epoch 2/5\n"
     ]
    },
    {
     "name": "stderr",
     "output_type": "stream",
     "text": [
      "Training: 100%|██████████| 237/237 [00:12<00:00, 19.39it/s]\n"
     ]
    },
    {
     "name": "stdout",
     "output_type": "stream",
     "text": [
      "Validation Loss: 1.8330, Validation AUC-ROC: 0.8003\n",
      "Epoch 3/5\n"
     ]
    },
    {
     "name": "stderr",
     "output_type": "stream",
     "text": [
      "Training: 100%|██████████| 237/237 [00:12<00:00, 19.13it/s]\n"
     ]
    },
    {
     "name": "stdout",
     "output_type": "stream",
     "text": [
      "Validation Loss: 1.5775, Validation AUC-ROC: 0.8504\n",
      "Epoch 4/5\n"
     ]
    },
    {
     "name": "stderr",
     "output_type": "stream",
     "text": [
      "Training: 100%|██████████| 237/237 [00:12<00:00, 19.38it/s]\n"
     ]
    },
    {
     "name": "stdout",
     "output_type": "stream",
     "text": [
      "Validation Loss: 1.3262, Validation AUC-ROC: 0.8847\n",
      "Epoch 5/5\n"
     ]
    },
    {
     "name": "stderr",
     "output_type": "stream",
     "text": [
      "Training: 100%|██████████| 237/237 [00:12<00:00, 19.11it/s]\n"
     ]
    },
    {
     "name": "stdout",
     "output_type": "stream",
     "text": [
      "Validation Loss: 1.2004, Validation AUC-ROC: 0.8992\n",
      "Test AUC-ROC: 0.9025, Parameters: {'dropout': 0.8, 'hidden_dim': 256, 'lr': 0.01, 'momentum': 0.9, 'num_layers': 3, 'optimizer': 'sgd', 'weight_decay': 0.0001}\n",
      "Training with parameters: {'dropout': 0.8, 'hidden_dim': 256, 'lr': 0.01, 'momentum': 0.99, 'num_layers': 2, 'optimizer': 'adam', 'weight_decay': 0.01}\n",
      "Epoch 1/5\n"
     ]
    },
    {
     "name": "stderr",
     "output_type": "stream",
     "text": [
      "Training: 100%|██████████| 237/237 [00:15<00:00, 15.22it/s]\n"
     ]
    },
    {
     "name": "stdout",
     "output_type": "stream",
     "text": [
      "Validation Loss: 1.7039, Validation AUC-ROC: 0.8489\n",
      "Epoch 2/5\n"
     ]
    },
    {
     "name": "stderr",
     "output_type": "stream",
     "text": [
      "Training: 100%|██████████| 237/237 [00:15<00:00, 15.65it/s]\n"
     ]
    },
    {
     "name": "stdout",
     "output_type": "stream",
     "text": [
      "Validation Loss: 1.3104, Validation AUC-ROC: 0.8823\n",
      "Epoch 3/5\n"
     ]
    },
    {
     "name": "stderr",
     "output_type": "stream",
     "text": [
      "Training: 100%|██████████| 237/237 [00:15<00:00, 15.60it/s]\n"
     ]
    },
    {
     "name": "stdout",
     "output_type": "stream",
     "text": [
      "Validation Loss: 1.2934, Validation AUC-ROC: 0.8812\n",
      "Epoch 4/5\n"
     ]
    },
    {
     "name": "stderr",
     "output_type": "stream",
     "text": [
      "Training: 100%|██████████| 237/237 [00:15<00:00, 15.46it/s]\n"
     ]
    },
    {
     "name": "stdout",
     "output_type": "stream",
     "text": [
      "Validation Loss: 1.2752, Validation AUC-ROC: 0.8848\n",
      "Epoch 5/5\n"
     ]
    },
    {
     "name": "stderr",
     "output_type": "stream",
     "text": [
      "Training: 100%|██████████| 237/237 [00:15<00:00, 15.58it/s]\n"
     ]
    },
    {
     "name": "stdout",
     "output_type": "stream",
     "text": [
      "Validation Loss: 1.2413, Validation AUC-ROC: 0.8908\n",
      "Test AUC-ROC: 0.8921, Parameters: {'dropout': 0.8, 'hidden_dim': 256, 'lr': 0.01, 'momentum': 0.99, 'num_layers': 2, 'optimizer': 'adam', 'weight_decay': 0.01}\n",
      "Training with parameters: {'dropout': 0.8, 'hidden_dim': 256, 'lr': 0.01, 'momentum': 0.99, 'num_layers': 2, 'optimizer': 'adam', 'weight_decay': 0.0001}\n",
      "Epoch 1/5\n"
     ]
    },
    {
     "name": "stderr",
     "output_type": "stream",
     "text": [
      "Training: 100%|██████████| 237/237 [00:15<00:00, 15.77it/s]\n"
     ]
    },
    {
     "name": "stdout",
     "output_type": "stream",
     "text": [
      "Validation Loss: 1.6391, Validation AUC-ROC: 0.8550\n",
      "Epoch 2/5\n"
     ]
    },
    {
     "name": "stderr",
     "output_type": "stream",
     "text": [
      "Training: 100%|██████████| 237/237 [00:14<00:00, 16.15it/s]\n"
     ]
    },
    {
     "name": "stdout",
     "output_type": "stream",
     "text": [
      "Validation Loss: 1.0841, Validation AUC-ROC: 0.9069\n",
      "Epoch 3/5\n"
     ]
    },
    {
     "name": "stderr",
     "output_type": "stream",
     "text": [
      "Training: 100%|██████████| 237/237 [00:14<00:00, 15.97it/s]\n"
     ]
    },
    {
     "name": "stdout",
     "output_type": "stream",
     "text": [
      "Validation Loss: 1.1299, Validation AUC-ROC: 0.9090\n",
      "Epoch 4/5\n"
     ]
    },
    {
     "name": "stderr",
     "output_type": "stream",
     "text": [
      "Training: 100%|██████████| 237/237 [00:14<00:00, 16.18it/s]\n"
     ]
    },
    {
     "name": "stdout",
     "output_type": "stream",
     "text": [
      "Validation Loss: 1.2129, Validation AUC-ROC: 0.9060\n",
      "Epoch 5/5\n"
     ]
    },
    {
     "name": "stderr",
     "output_type": "stream",
     "text": [
      "Training: 100%|██████████| 237/237 [00:14<00:00, 16.12it/s]\n"
     ]
    },
    {
     "name": "stdout",
     "output_type": "stream",
     "text": [
      "Validation Loss: 1.2785, Validation AUC-ROC: 0.9030\n",
      "Test AUC-ROC: 0.9060, Parameters: {'dropout': 0.8, 'hidden_dim': 256, 'lr': 0.01, 'momentum': 0.99, 'num_layers': 2, 'optimizer': 'adam', 'weight_decay': 0.0001}\n",
      "Training with parameters: {'dropout': 0.8, 'hidden_dim': 256, 'lr': 0.01, 'momentum': 0.99, 'num_layers': 2, 'optimizer': 'sgd', 'weight_decay': 0.01}\n",
      "Epoch 1/5\n"
     ]
    },
    {
     "name": "stderr",
     "output_type": "stream",
     "text": [
      "Training: 100%|██████████| 237/237 [00:12<00:00, 19.02it/s]\n"
     ]
    },
    {
     "name": "stdout",
     "output_type": "stream",
     "text": [
      "Validation Loss: 1.6971, Validation AUC-ROC: 0.8249\n",
      "Epoch 2/5\n"
     ]
    },
    {
     "name": "stderr",
     "output_type": "stream",
     "text": [
      "Training: 100%|██████████| 237/237 [00:12<00:00, 19.59it/s]\n"
     ]
    },
    {
     "name": "stdout",
     "output_type": "stream",
     "text": [
      "Validation Loss: 1.2441, Validation AUC-ROC: 0.8910\n",
      "Epoch 3/5\n"
     ]
    },
    {
     "name": "stderr",
     "output_type": "stream",
     "text": [
      "Training: 100%|██████████| 237/237 [00:12<00:00, 19.59it/s]\n"
     ]
    },
    {
     "name": "stdout",
     "output_type": "stream",
     "text": [
      "Validation Loss: 1.2247, Validation AUC-ROC: 0.8940\n",
      "Epoch 4/5\n"
     ]
    },
    {
     "name": "stderr",
     "output_type": "stream",
     "text": [
      "Training: 100%|██████████| 237/237 [00:12<00:00, 19.20it/s]\n"
     ]
    },
    {
     "name": "stdout",
     "output_type": "stream",
     "text": [
      "Validation Loss: 1.2004, Validation AUC-ROC: 0.9022\n",
      "Epoch 5/5\n"
     ]
    },
    {
     "name": "stderr",
     "output_type": "stream",
     "text": [
      "Training: 100%|██████████| 237/237 [00:12<00:00, 19.10it/s]\n"
     ]
    },
    {
     "name": "stdout",
     "output_type": "stream",
     "text": [
      "Validation Loss: 1.1733, Validation AUC-ROC: 0.9037\n",
      "Test AUC-ROC: 0.9061, Parameters: {'dropout': 0.8, 'hidden_dim': 256, 'lr': 0.01, 'momentum': 0.99, 'num_layers': 2, 'optimizer': 'sgd', 'weight_decay': 0.01}\n",
      "Training with parameters: {'dropout': 0.8, 'hidden_dim': 256, 'lr': 0.01, 'momentum': 0.99, 'num_layers': 2, 'optimizer': 'sgd', 'weight_decay': 0.0001}\n",
      "Epoch 1/5\n"
     ]
    },
    {
     "name": "stderr",
     "output_type": "stream",
     "text": [
      "Training: 100%|██████████| 237/237 [00:12<00:00, 18.41it/s]\n"
     ]
    },
    {
     "name": "stdout",
     "output_type": "stream",
     "text": [
      "Validation Loss: 1.6021, Validation AUC-ROC: 0.8556\n",
      "Epoch 2/5\n"
     ]
    },
    {
     "name": "stderr",
     "output_type": "stream",
     "text": [
      "Training: 100%|██████████| 237/237 [00:13<00:00, 17.71it/s]\n"
     ]
    },
    {
     "name": "stdout",
     "output_type": "stream",
     "text": [
      "Validation Loss: 1.0894, Validation AUC-ROC: 0.9063\n",
      "Epoch 3/5\n"
     ]
    },
    {
     "name": "stderr",
     "output_type": "stream",
     "text": [
      "Training: 100%|██████████| 237/237 [00:12<00:00, 19.39it/s]\n"
     ]
    },
    {
     "name": "stdout",
     "output_type": "stream",
     "text": [
      "Validation Loss: 1.1005, Validation AUC-ROC: 0.9130\n",
      "Epoch 4/5\n"
     ]
    },
    {
     "name": "stderr",
     "output_type": "stream",
     "text": [
      "Training: 100%|██████████| 237/237 [00:12<00:00, 19.50it/s]\n"
     ]
    },
    {
     "name": "stdout",
     "output_type": "stream",
     "text": [
      "Validation Loss: 1.2999, Validation AUC-ROC: 0.9096\n",
      "Epoch 5/5\n"
     ]
    },
    {
     "name": "stderr",
     "output_type": "stream",
     "text": [
      "Training: 100%|██████████| 237/237 [00:12<00:00, 19.16it/s]\n"
     ]
    },
    {
     "name": "stdout",
     "output_type": "stream",
     "text": [
      "Validation Loss: 1.3905, Validation AUC-ROC: 0.9090\n",
      "Test AUC-ROC: 0.9099, Parameters: {'dropout': 0.8, 'hidden_dim': 256, 'lr': 0.01, 'momentum': 0.99, 'num_layers': 2, 'optimizer': 'sgd', 'weight_decay': 0.0001}\n",
      "Training with parameters: {'dropout': 0.8, 'hidden_dim': 256, 'lr': 0.01, 'momentum': 0.99, 'num_layers': 3, 'optimizer': 'adam', 'weight_decay': 0.01}\n",
      "Epoch 1/5\n"
     ]
    },
    {
     "name": "stderr",
     "output_type": "stream",
     "text": [
      "Training: 100%|██████████| 237/237 [00:15<00:00, 15.69it/s]\n"
     ]
    },
    {
     "name": "stdout",
     "output_type": "stream",
     "text": [
      "Validation Loss: 1.9304, Validation AUC-ROC: 0.7755\n",
      "Epoch 2/5\n"
     ]
    },
    {
     "name": "stderr",
     "output_type": "stream",
     "text": [
      "Training: 100%|██████████| 237/237 [00:15<00:00, 15.70it/s]\n"
     ]
    },
    {
     "name": "stdout",
     "output_type": "stream",
     "text": [
      "Validation Loss: 1.4228, Validation AUC-ROC: 0.8743\n",
      "Epoch 3/5\n"
     ]
    },
    {
     "name": "stderr",
     "output_type": "stream",
     "text": [
      "Training: 100%|██████████| 237/237 [00:14<00:00, 16.12it/s]\n"
     ]
    },
    {
     "name": "stdout",
     "output_type": "stream",
     "text": [
      "Validation Loss: 1.3222, Validation AUC-ROC: 0.8747\n",
      "Epoch 4/5\n"
     ]
    },
    {
     "name": "stderr",
     "output_type": "stream",
     "text": [
      "Training: 100%|██████████| 237/237 [00:14<00:00, 15.98it/s]\n"
     ]
    },
    {
     "name": "stdout",
     "output_type": "stream",
     "text": [
      "Validation Loss: 1.3659, Validation AUC-ROC: 0.8722\n",
      "Epoch 5/5\n"
     ]
    },
    {
     "name": "stderr",
     "output_type": "stream",
     "text": [
      "Training: 100%|██████████| 237/237 [00:14<00:00, 15.80it/s]\n"
     ]
    },
    {
     "name": "stdout",
     "output_type": "stream",
     "text": [
      "Validation Loss: 1.2958, Validation AUC-ROC: 0.8768\n",
      "Test AUC-ROC: 0.8807, Parameters: {'dropout': 0.8, 'hidden_dim': 256, 'lr': 0.01, 'momentum': 0.99, 'num_layers': 3, 'optimizer': 'adam', 'weight_decay': 0.01}\n",
      "Training with parameters: {'dropout': 0.8, 'hidden_dim': 256, 'lr': 0.01, 'momentum': 0.99, 'num_layers': 3, 'optimizer': 'adam', 'weight_decay': 0.0001}\n",
      "Epoch 1/5\n"
     ]
    },
    {
     "name": "stderr",
     "output_type": "stream",
     "text": [
      "Training: 100%|██████████| 237/237 [00:15<00:00, 15.71it/s]\n"
     ]
    },
    {
     "name": "stdout",
     "output_type": "stream",
     "text": [
      "Validation Loss: 1.9787, Validation AUC-ROC: 0.7198\n",
      "Epoch 2/5\n"
     ]
    },
    {
     "name": "stderr",
     "output_type": "stream",
     "text": [
      "Training: 100%|██████████| 237/237 [00:14<00:00, 16.17it/s]\n"
     ]
    },
    {
     "name": "stdout",
     "output_type": "stream",
     "text": [
      "Validation Loss: 1.1774, Validation AUC-ROC: 0.8917\n",
      "Epoch 3/5\n"
     ]
    },
    {
     "name": "stderr",
     "output_type": "stream",
     "text": [
      "Training: 100%|██████████| 237/237 [00:14<00:00, 15.94it/s]\n"
     ]
    },
    {
     "name": "stdout",
     "output_type": "stream",
     "text": [
      "Validation Loss: 1.1418, Validation AUC-ROC: 0.8979\n",
      "Epoch 4/5\n"
     ]
    },
    {
     "name": "stderr",
     "output_type": "stream",
     "text": [
      "Training: 100%|██████████| 237/237 [00:14<00:00, 16.02it/s]\n"
     ]
    },
    {
     "name": "stdout",
     "output_type": "stream",
     "text": [
      "Validation Loss: 1.1943, Validation AUC-ROC: 0.8999\n",
      "Epoch 5/5\n"
     ]
    },
    {
     "name": "stderr",
     "output_type": "stream",
     "text": [
      "Training: 100%|██████████| 237/237 [00:14<00:00, 16.09it/s]\n"
     ]
    },
    {
     "name": "stdout",
     "output_type": "stream",
     "text": [
      "Validation Loss: 1.1996, Validation AUC-ROC: 0.9027\n",
      "Test AUC-ROC: 0.9046, Parameters: {'dropout': 0.8, 'hidden_dim': 256, 'lr': 0.01, 'momentum': 0.99, 'num_layers': 3, 'optimizer': 'adam', 'weight_decay': 0.0001}\n",
      "Training with parameters: {'dropout': 0.8, 'hidden_dim': 256, 'lr': 0.01, 'momentum': 0.99, 'num_layers': 3, 'optimizer': 'sgd', 'weight_decay': 0.01}\n",
      "Epoch 1/5\n"
     ]
    },
    {
     "name": "stderr",
     "output_type": "stream",
     "text": [
      "Training: 100%|██████████| 237/237 [00:13<00:00, 18.04it/s]\n"
     ]
    },
    {
     "name": "stdout",
     "output_type": "stream",
     "text": [
      "Validation Loss: 2.0222, Validation AUC-ROC: 0.7137\n",
      "Epoch 2/5\n"
     ]
    },
    {
     "name": "stderr",
     "output_type": "stream",
     "text": [
      "Training: 100%|██████████| 237/237 [00:12<00:00, 19.34it/s]\n"
     ]
    },
    {
     "name": "stdout",
     "output_type": "stream",
     "text": [
      "Validation Loss: 1.7819, Validation AUC-ROC: 0.7569\n",
      "Epoch 3/5\n"
     ]
    },
    {
     "name": "stderr",
     "output_type": "stream",
     "text": [
      "Training: 100%|██████████| 237/237 [00:12<00:00, 19.38it/s]\n"
     ]
    },
    {
     "name": "stdout",
     "output_type": "stream",
     "text": [
      "Validation Loss: 1.7142, Validation AUC-ROC: 0.7901\n",
      "Epoch 4/5\n"
     ]
    },
    {
     "name": "stderr",
     "output_type": "stream",
     "text": [
      "Training: 100%|██████████| 237/237 [00:12<00:00, 19.22it/s]\n"
     ]
    },
    {
     "name": "stdout",
     "output_type": "stream",
     "text": [
      "Validation Loss: 1.5747, Validation AUC-ROC: 0.8421\n",
      "Epoch 5/5\n"
     ]
    },
    {
     "name": "stderr",
     "output_type": "stream",
     "text": [
      "Training: 100%|██████████| 237/237 [00:12<00:00, 19.17it/s]\n"
     ]
    },
    {
     "name": "stdout",
     "output_type": "stream",
     "text": [
      "Validation Loss: 1.4584, Validation AUC-ROC: 0.8595\n",
      "Test AUC-ROC: 0.8661, Parameters: {'dropout': 0.8, 'hidden_dim': 256, 'lr': 0.01, 'momentum': 0.99, 'num_layers': 3, 'optimizer': 'sgd', 'weight_decay': 0.01}\n",
      "Training with parameters: {'dropout': 0.8, 'hidden_dim': 256, 'lr': 0.01, 'momentum': 0.99, 'num_layers': 3, 'optimizer': 'sgd', 'weight_decay': 0.0001}\n",
      "Epoch 1/5\n"
     ]
    },
    {
     "name": "stderr",
     "output_type": "stream",
     "text": [
      "Training: 100%|██████████| 237/237 [00:12<00:00, 18.80it/s]\n"
     ]
    },
    {
     "name": "stdout",
     "output_type": "stream",
     "text": [
      "Validation Loss: 1.9258, Validation AUC-ROC: 0.6933\n",
      "Epoch 2/5\n"
     ]
    },
    {
     "name": "stderr",
     "output_type": "stream",
     "text": [
      "Training: 100%|██████████| 237/237 [00:12<00:00, 19.06it/s]\n"
     ]
    },
    {
     "name": "stdout",
     "output_type": "stream",
     "text": [
      "Validation Loss: 1.4091, Validation AUC-ROC: 0.8708\n",
      "Epoch 3/5\n"
     ]
    },
    {
     "name": "stderr",
     "output_type": "stream",
     "text": [
      "Training: 100%|██████████| 237/237 [00:12<00:00, 19.34it/s]\n"
     ]
    },
    {
     "name": "stdout",
     "output_type": "stream",
     "text": [
      "Validation Loss: 1.1567, Validation AUC-ROC: 0.9056\n",
      "Epoch 4/5\n"
     ]
    },
    {
     "name": "stderr",
     "output_type": "stream",
     "text": [
      "Training: 100%|██████████| 237/237 [00:13<00:00, 17.92it/s]\n"
     ]
    },
    {
     "name": "stdout",
     "output_type": "stream",
     "text": [
      "Validation Loss: 1.1681, Validation AUC-ROC: 0.9083\n",
      "Epoch 5/5\n"
     ]
    },
    {
     "name": "stderr",
     "output_type": "stream",
     "text": [
      "Training: 100%|██████████| 237/237 [00:12<00:00, 19.41it/s]\n"
     ]
    },
    {
     "name": "stdout",
     "output_type": "stream",
     "text": [
      "Validation Loss: 1.3404, Validation AUC-ROC: 0.9049\n",
      "Test AUC-ROC: 0.9056, Parameters: {'dropout': 0.8, 'hidden_dim': 256, 'lr': 0.01, 'momentum': 0.99, 'num_layers': 3, 'optimizer': 'sgd', 'weight_decay': 0.0001}\n",
      "Training with parameters: {'dropout': 0.8, 'hidden_dim': 512, 'lr': 0.001, 'momentum': 0.9, 'num_layers': 2, 'optimizer': 'adam', 'weight_decay': 0.01}\n",
      "Epoch 1/5\n"
     ]
    },
    {
     "name": "stderr",
     "output_type": "stream",
     "text": [
      "Training: 100%|██████████| 237/237 [00:24<00:00,  9.51it/s]\n"
     ]
    },
    {
     "name": "stdout",
     "output_type": "stream",
     "text": [
      "Validation Loss: 1.2883, Validation AUC-ROC: 0.8912\n",
      "Epoch 2/5\n"
     ]
    },
    {
     "name": "stderr",
     "output_type": "stream",
     "text": [
      "Training: 100%|██████████| 237/237 [00:24<00:00,  9.83it/s]\n"
     ]
    },
    {
     "name": "stdout",
     "output_type": "stream",
     "text": [
      "Validation Loss: 1.1970, Validation AUC-ROC: 0.8981\n",
      "Epoch 3/5\n"
     ]
    },
    {
     "name": "stderr",
     "output_type": "stream",
     "text": [
      "Training: 100%|██████████| 237/237 [00:23<00:00, 10.07it/s]\n"
     ]
    },
    {
     "name": "stdout",
     "output_type": "stream",
     "text": [
      "Validation Loss: 1.1908, Validation AUC-ROC: 0.9000\n",
      "Epoch 4/5\n"
     ]
    },
    {
     "name": "stderr",
     "output_type": "stream",
     "text": [
      "Training: 100%|██████████| 237/237 [00:23<00:00,  9.95it/s]\n"
     ]
    },
    {
     "name": "stdout",
     "output_type": "stream",
     "text": [
      "Validation Loss: 1.1707, Validation AUC-ROC: 0.9018\n",
      "Epoch 5/5\n"
     ]
    },
    {
     "name": "stderr",
     "output_type": "stream",
     "text": [
      "Training: 100%|██████████| 237/237 [00:23<00:00, 10.09it/s]\n"
     ]
    },
    {
     "name": "stdout",
     "output_type": "stream",
     "text": [
      "Validation Loss: 1.1398, Validation AUC-ROC: 0.9048\n",
      "Test AUC-ROC: 0.9058, Parameters: {'dropout': 0.8, 'hidden_dim': 512, 'lr': 0.001, 'momentum': 0.9, 'num_layers': 2, 'optimizer': 'adam', 'weight_decay': 0.01}\n",
      "Training with parameters: {'dropout': 0.8, 'hidden_dim': 512, 'lr': 0.001, 'momentum': 0.9, 'num_layers': 2, 'optimizer': 'adam', 'weight_decay': 0.0001}\n",
      "Epoch 1/5\n"
     ]
    },
    {
     "name": "stderr",
     "output_type": "stream",
     "text": [
      "Training: 100%|██████████| 237/237 [00:24<00:00,  9.56it/s]\n"
     ]
    },
    {
     "name": "stdout",
     "output_type": "stream",
     "text": [
      "Validation Loss: 1.1302, Validation AUC-ROC: 0.9013\n",
      "Epoch 2/5\n"
     ]
    },
    {
     "name": "stderr",
     "output_type": "stream",
     "text": [
      "Training: 100%|██████████| 237/237 [00:24<00:00,  9.66it/s]\n"
     ]
    },
    {
     "name": "stdout",
     "output_type": "stream",
     "text": [
      "Validation Loss: 0.9961, Validation AUC-ROC: 0.9208\n",
      "Epoch 3/5\n"
     ]
    },
    {
     "name": "stderr",
     "output_type": "stream",
     "text": [
      "Training: 100%|██████████| 237/237 [00:24<00:00,  9.73it/s]\n"
     ]
    },
    {
     "name": "stdout",
     "output_type": "stream",
     "text": [
      "Validation Loss: 1.1251, Validation AUC-ROC: 0.9155\n",
      "Epoch 4/5\n"
     ]
    },
    {
     "name": "stderr",
     "output_type": "stream",
     "text": [
      "Training: 100%|██████████| 237/237 [00:25<00:00,  9.15it/s]\n"
     ]
    },
    {
     "name": "stdout",
     "output_type": "stream",
     "text": [
      "Validation Loss: 1.2682, Validation AUC-ROC: 0.9147\n",
      "Epoch 5/5\n"
     ]
    },
    {
     "name": "stderr",
     "output_type": "stream",
     "text": [
      "Training: 100%|██████████| 237/237 [00:25<00:00,  9.34it/s]\n"
     ]
    },
    {
     "name": "stdout",
     "output_type": "stream",
     "text": [
      "Validation Loss: 1.3921, Validation AUC-ROC: 0.9114\n",
      "Test AUC-ROC: 0.9099, Parameters: {'dropout': 0.8, 'hidden_dim': 512, 'lr': 0.001, 'momentum': 0.9, 'num_layers': 2, 'optimizer': 'adam', 'weight_decay': 0.0001}\n",
      "Training with parameters: {'dropout': 0.8, 'hidden_dim': 512, 'lr': 0.001, 'momentum': 0.9, 'num_layers': 2, 'optimizer': 'sgd', 'weight_decay': 0.01}\n",
      "Epoch 1/5\n"
     ]
    },
    {
     "name": "stderr",
     "output_type": "stream",
     "text": [
      "Training: 100%|██████████| 237/237 [00:19<00:00, 12.14it/s]\n"
     ]
    },
    {
     "name": "stdout",
     "output_type": "stream",
     "text": [
      "Validation Loss: 2.4231, Validation AUC-ROC: 0.6531\n",
      "Epoch 2/5\n"
     ]
    },
    {
     "name": "stderr",
     "output_type": "stream",
     "text": [
      "Training: 100%|██████████| 237/237 [00:19<00:00, 12.45it/s]\n"
     ]
    },
    {
     "name": "stdout",
     "output_type": "stream",
     "text": [
      "Validation Loss: 2.3037, Validation AUC-ROC: 0.6592\n",
      "Epoch 3/5\n"
     ]
    },
    {
     "name": "stderr",
     "output_type": "stream",
     "text": [
      "Training: 100%|██████████| 237/237 [00:19<00:00, 12.46it/s]\n"
     ]
    },
    {
     "name": "stdout",
     "output_type": "stream",
     "text": [
      "Validation Loss: 2.2113, Validation AUC-ROC: 0.7215\n",
      "Epoch 4/5\n"
     ]
    },
    {
     "name": "stderr",
     "output_type": "stream",
     "text": [
      "Training: 100%|██████████| 237/237 [00:18<00:00, 12.70it/s]\n"
     ]
    },
    {
     "name": "stdout",
     "output_type": "stream",
     "text": [
      "Validation Loss: 2.0957, Validation AUC-ROC: 0.7648\n",
      "Epoch 5/5\n"
     ]
    },
    {
     "name": "stderr",
     "output_type": "stream",
     "text": [
      "Training: 100%|██████████| 237/237 [00:18<00:00, 12.75it/s]\n"
     ]
    },
    {
     "name": "stdout",
     "output_type": "stream",
     "text": [
      "Validation Loss: 1.9891, Validation AUC-ROC: 0.7744\n",
      "Test AUC-ROC: 0.7752, Parameters: {'dropout': 0.8, 'hidden_dim': 512, 'lr': 0.001, 'momentum': 0.9, 'num_layers': 2, 'optimizer': 'sgd', 'weight_decay': 0.01}\n",
      "Training with parameters: {'dropout': 0.8, 'hidden_dim': 512, 'lr': 0.001, 'momentum': 0.9, 'num_layers': 2, 'optimizer': 'sgd', 'weight_decay': 0.0001}\n",
      "Epoch 1/5\n"
     ]
    },
    {
     "name": "stderr",
     "output_type": "stream",
     "text": [
      "Training: 100%|██████████| 237/237 [00:19<00:00, 12.37it/s]\n"
     ]
    },
    {
     "name": "stdout",
     "output_type": "stream",
     "text": [
      "Validation Loss: 2.4214, Validation AUC-ROC: 0.6449\n",
      "Epoch 2/5\n"
     ]
    },
    {
     "name": "stderr",
     "output_type": "stream",
     "text": [
      "Training: 100%|██████████| 237/237 [00:18<00:00, 12.58it/s]\n"
     ]
    },
    {
     "name": "stdout",
     "output_type": "stream",
     "text": [
      "Validation Loss: 2.2988, Validation AUC-ROC: 0.6553\n",
      "Epoch 3/5\n"
     ]
    },
    {
     "name": "stderr",
     "output_type": "stream",
     "text": [
      "Training: 100%|██████████| 237/237 [00:18<00:00, 12.74it/s]\n"
     ]
    },
    {
     "name": "stdout",
     "output_type": "stream",
     "text": [
      "Validation Loss: 2.1972, Validation AUC-ROC: 0.7366\n",
      "Epoch 4/5\n"
     ]
    },
    {
     "name": "stderr",
     "output_type": "stream",
     "text": [
      "Training: 100%|██████████| 237/237 [00:18<00:00, 12.66it/s]\n"
     ]
    },
    {
     "name": "stdout",
     "output_type": "stream",
     "text": [
      "Validation Loss: 2.0611, Validation AUC-ROC: 0.7759\n",
      "Epoch 5/5\n"
     ]
    },
    {
     "name": "stderr",
     "output_type": "stream",
     "text": [
      "Training: 100%|██████████| 237/237 [00:18<00:00, 12.54it/s]\n"
     ]
    },
    {
     "name": "stdout",
     "output_type": "stream",
     "text": [
      "Validation Loss: 1.9525, Validation AUC-ROC: 0.7862\n",
      "Test AUC-ROC: 0.7880, Parameters: {'dropout': 0.8, 'hidden_dim': 512, 'lr': 0.001, 'momentum': 0.9, 'num_layers': 2, 'optimizer': 'sgd', 'weight_decay': 0.0001}\n",
      "Training with parameters: {'dropout': 0.8, 'hidden_dim': 512, 'lr': 0.001, 'momentum': 0.9, 'num_layers': 3, 'optimizer': 'adam', 'weight_decay': 0.01}\n",
      "Epoch 1/5\n"
     ]
    },
    {
     "name": "stderr",
     "output_type": "stream",
     "text": [
      "Training: 100%|██████████| 237/237 [00:25<00:00,  9.44it/s]\n"
     ]
    },
    {
     "name": "stdout",
     "output_type": "stream",
     "text": [
      "Validation Loss: 1.7067, Validation AUC-ROC: 0.8285\n",
      "Epoch 2/5\n"
     ]
    },
    {
     "name": "stderr",
     "output_type": "stream",
     "text": [
      "Training: 100%|██████████| 237/237 [00:25<00:00,  9.32it/s]\n"
     ]
    },
    {
     "name": "stdout",
     "output_type": "stream",
     "text": [
      "Validation Loss: 1.2763, Validation AUC-ROC: 0.8846\n",
      "Epoch 3/5\n"
     ]
    },
    {
     "name": "stderr",
     "output_type": "stream",
     "text": [
      "Training: 100%|██████████| 237/237 [00:25<00:00,  9.14it/s]\n"
     ]
    },
    {
     "name": "stdout",
     "output_type": "stream",
     "text": [
      "Validation Loss: 1.2606, Validation AUC-ROC: 0.8888\n",
      "Epoch 4/5\n"
     ]
    },
    {
     "name": "stderr",
     "output_type": "stream",
     "text": [
      "Training: 100%|██████████| 237/237 [00:23<00:00, 10.03it/s]\n"
     ]
    },
    {
     "name": "stdout",
     "output_type": "stream",
     "text": [
      "Validation Loss: 1.2125, Validation AUC-ROC: 0.8943\n",
      "Epoch 5/5\n"
     ]
    },
    {
     "name": "stderr",
     "output_type": "stream",
     "text": [
      "Training: 100%|██████████| 237/237 [00:23<00:00,  9.95it/s]\n"
     ]
    },
    {
     "name": "stdout",
     "output_type": "stream",
     "text": [
      "Validation Loss: 1.2079, Validation AUC-ROC: 0.8953\n",
      "Test AUC-ROC: 0.8972, Parameters: {'dropout': 0.8, 'hidden_dim': 512, 'lr': 0.001, 'momentum': 0.9, 'num_layers': 3, 'optimizer': 'adam', 'weight_decay': 0.01}\n",
      "Training with parameters: {'dropout': 0.8, 'hidden_dim': 512, 'lr': 0.001, 'momentum': 0.9, 'num_layers': 3, 'optimizer': 'adam', 'weight_decay': 0.0001}\n",
      "Epoch 1/5\n"
     ]
    },
    {
     "name": "stderr",
     "output_type": "stream",
     "text": [
      "Training: 100%|██████████| 237/237 [00:25<00:00,  9.39it/s]\n"
     ]
    },
    {
     "name": "stdout",
     "output_type": "stream",
     "text": [
      "Validation Loss: 1.4360, Validation AUC-ROC: 0.8725\n",
      "Epoch 2/5\n"
     ]
    },
    {
     "name": "stderr",
     "output_type": "stream",
     "text": [
      "Training: 100%|██████████| 237/237 [00:24<00:00,  9.56it/s]\n"
     ]
    },
    {
     "name": "stdout",
     "output_type": "stream",
     "text": [
      "Validation Loss: 1.0414, Validation AUC-ROC: 0.9139\n",
      "Epoch 3/5\n"
     ]
    },
    {
     "name": "stderr",
     "output_type": "stream",
     "text": [
      "Training: 100%|██████████| 237/237 [00:24<00:00,  9.71it/s]\n"
     ]
    },
    {
     "name": "stdout",
     "output_type": "stream",
     "text": [
      "Validation Loss: 1.1775, Validation AUC-ROC: 0.9144\n",
      "Epoch 4/5\n"
     ]
    },
    {
     "name": "stderr",
     "output_type": "stream",
     "text": [
      "Training: 100%|██████████| 237/237 [00:24<00:00,  9.61it/s]\n"
     ]
    },
    {
     "name": "stdout",
     "output_type": "stream",
     "text": [
      "Validation Loss: 1.3244, Validation AUC-ROC: 0.9104\n",
      "Epoch 5/5\n"
     ]
    },
    {
     "name": "stderr",
     "output_type": "stream",
     "text": [
      "Training: 100%|██████████| 237/237 [00:24<00:00,  9.63it/s]\n"
     ]
    },
    {
     "name": "stdout",
     "output_type": "stream",
     "text": [
      "Validation Loss: 1.6559, Validation AUC-ROC: 0.9093\n",
      "Test AUC-ROC: 0.9061, Parameters: {'dropout': 0.8, 'hidden_dim': 512, 'lr': 0.001, 'momentum': 0.9, 'num_layers': 3, 'optimizer': 'adam', 'weight_decay': 0.0001}\n",
      "Training with parameters: {'dropout': 0.8, 'hidden_dim': 512, 'lr': 0.001, 'momentum': 0.9, 'num_layers': 3, 'optimizer': 'sgd', 'weight_decay': 0.01}\n",
      "Epoch 1/5\n"
     ]
    },
    {
     "name": "stderr",
     "output_type": "stream",
     "text": [
      "Training: 100%|██████████| 237/237 [00:19<00:00, 12.05it/s]\n"
     ]
    },
    {
     "name": "stdout",
     "output_type": "stream",
     "text": [
      "Validation Loss: 2.4349, Validation AUC-ROC: 0.6014\n",
      "Epoch 2/5\n"
     ]
    },
    {
     "name": "stderr",
     "output_type": "stream",
     "text": [
      "Training: 100%|██████████| 237/237 [00:19<00:00, 12.37it/s]\n"
     ]
    },
    {
     "name": "stdout",
     "output_type": "stream",
     "text": [
      "Validation Loss: 2.3466, Validation AUC-ROC: 0.6243\n",
      "Epoch 3/5\n"
     ]
    },
    {
     "name": "stderr",
     "output_type": "stream",
     "text": [
      "Training: 100%|██████████| 237/237 [00:19<00:00, 12.25it/s]\n"
     ]
    },
    {
     "name": "stdout",
     "output_type": "stream",
     "text": [
      "Validation Loss: 2.2980, Validation AUC-ROC: 0.6240\n",
      "Epoch 4/5\n"
     ]
    },
    {
     "name": "stderr",
     "output_type": "stream",
     "text": [
      "Training: 100%|██████████| 237/237 [00:18<00:00, 12.57it/s]\n"
     ]
    },
    {
     "name": "stdout",
     "output_type": "stream",
     "text": [
      "Validation Loss: 2.2695, Validation AUC-ROC: 0.6519\n",
      "Epoch 5/5\n"
     ]
    },
    {
     "name": "stderr",
     "output_type": "stream",
     "text": [
      "Training: 100%|██████████| 237/237 [00:18<00:00, 12.65it/s]\n"
     ]
    },
    {
     "name": "stdout",
     "output_type": "stream",
     "text": [
      "Validation Loss: 2.2366, Validation AUC-ROC: 0.7036\n",
      "Test AUC-ROC: 0.7026, Parameters: {'dropout': 0.8, 'hidden_dim': 512, 'lr': 0.001, 'momentum': 0.9, 'num_layers': 3, 'optimizer': 'sgd', 'weight_decay': 0.01}\n",
      "Training with parameters: {'dropout': 0.8, 'hidden_dim': 512, 'lr': 0.001, 'momentum': 0.9, 'num_layers': 3, 'optimizer': 'sgd', 'weight_decay': 0.0001}\n",
      "Epoch 1/5\n"
     ]
    },
    {
     "name": "stderr",
     "output_type": "stream",
     "text": [
      "Training: 100%|██████████| 237/237 [00:19<00:00, 11.91it/s]\n"
     ]
    },
    {
     "name": "stdout",
     "output_type": "stream",
     "text": [
      "Validation Loss: 2.4304, Validation AUC-ROC: 0.6084\n",
      "Epoch 2/5\n"
     ]
    },
    {
     "name": "stderr",
     "output_type": "stream",
     "text": [
      "Training: 100%|██████████| 237/237 [00:19<00:00, 12.42it/s]\n"
     ]
    },
    {
     "name": "stdout",
     "output_type": "stream",
     "text": [
      "Validation Loss: 2.3363, Validation AUC-ROC: 0.6423\n",
      "Epoch 3/5\n"
     ]
    },
    {
     "name": "stderr",
     "output_type": "stream",
     "text": [
      "Training: 100%|██████████| 237/237 [00:19<00:00, 12.39it/s]\n"
     ]
    },
    {
     "name": "stdout",
     "output_type": "stream",
     "text": [
      "Validation Loss: 2.2853, Validation AUC-ROC: 0.6551\n",
      "Epoch 4/5\n"
     ]
    },
    {
     "name": "stderr",
     "output_type": "stream",
     "text": [
      "Training: 100%|██████████| 237/237 [00:18<00:00, 12.52it/s]\n"
     ]
    },
    {
     "name": "stdout",
     "output_type": "stream",
     "text": [
      "Validation Loss: 2.2483, Validation AUC-ROC: 0.7079\n",
      "Epoch 5/5\n"
     ]
    },
    {
     "name": "stderr",
     "output_type": "stream",
     "text": [
      "Training: 100%|██████████| 237/237 [00:18<00:00, 12.58it/s]\n"
     ]
    },
    {
     "name": "stdout",
     "output_type": "stream",
     "text": [
      "Validation Loss: 2.1780, Validation AUC-ROC: 0.7408\n",
      "Test AUC-ROC: 0.7420, Parameters: {'dropout': 0.8, 'hidden_dim': 512, 'lr': 0.001, 'momentum': 0.9, 'num_layers': 3, 'optimizer': 'sgd', 'weight_decay': 0.0001}\n",
      "Training with parameters: {'dropout': 0.8, 'hidden_dim': 512, 'lr': 0.001, 'momentum': 0.99, 'num_layers': 2, 'optimizer': 'adam', 'weight_decay': 0.01}\n",
      "Epoch 1/5\n"
     ]
    },
    {
     "name": "stderr",
     "output_type": "stream",
     "text": [
      "Training: 100%|██████████| 237/237 [00:24<00:00,  9.51it/s]\n"
     ]
    },
    {
     "name": "stdout",
     "output_type": "stream",
     "text": [
      "Validation Loss: 1.2925, Validation AUC-ROC: 0.8895\n",
      "Epoch 2/5\n"
     ]
    },
    {
     "name": "stderr",
     "output_type": "stream",
     "text": [
      "Training: 100%|██████████| 237/237 [00:24<00:00,  9.70it/s]\n"
     ]
    },
    {
     "name": "stdout",
     "output_type": "stream",
     "text": [
      "Validation Loss: 1.2279, Validation AUC-ROC: 0.8937\n",
      "Epoch 3/5\n"
     ]
    },
    {
     "name": "stderr",
     "output_type": "stream",
     "text": [
      "Training: 100%|██████████| 237/237 [00:24<00:00,  9.51it/s]\n"
     ]
    },
    {
     "name": "stdout",
     "output_type": "stream",
     "text": [
      "Validation Loss: 1.2104, Validation AUC-ROC: 0.8957\n",
      "Epoch 4/5\n"
     ]
    },
    {
     "name": "stderr",
     "output_type": "stream",
     "text": [
      "Training: 100%|██████████| 237/237 [00:24<00:00,  9.71it/s]\n"
     ]
    },
    {
     "name": "stdout",
     "output_type": "stream",
     "text": [
      "Validation Loss: 1.1924, Validation AUC-ROC: 0.9005\n",
      "Epoch 5/5\n"
     ]
    },
    {
     "name": "stderr",
     "output_type": "stream",
     "text": [
      "Training: 100%|██████████| 237/237 [00:24<00:00,  9.86it/s]\n"
     ]
    },
    {
     "name": "stdout",
     "output_type": "stream",
     "text": [
      "Validation Loss: 1.1568, Validation AUC-ROC: 0.9017\n",
      "Test AUC-ROC: 0.9071, Parameters: {'dropout': 0.8, 'hidden_dim': 512, 'lr': 0.001, 'momentum': 0.99, 'num_layers': 2, 'optimizer': 'adam', 'weight_decay': 0.01}\n",
      "Training with parameters: {'dropout': 0.8, 'hidden_dim': 512, 'lr': 0.001, 'momentum': 0.99, 'num_layers': 2, 'optimizer': 'adam', 'weight_decay': 0.0001}\n",
      "Epoch 1/5\n"
     ]
    },
    {
     "name": "stderr",
     "output_type": "stream",
     "text": [
      "Training: 100%|██████████| 237/237 [00:24<00:00,  9.67it/s]\n"
     ]
    },
    {
     "name": "stdout",
     "output_type": "stream",
     "text": [
      "Validation Loss: 1.1322, Validation AUC-ROC: 0.9016\n",
      "Epoch 2/5\n"
     ]
    },
    {
     "name": "stderr",
     "output_type": "stream",
     "text": [
      "Training: 100%|██████████| 237/237 [00:24<00:00,  9.85it/s]\n"
     ]
    },
    {
     "name": "stdout",
     "output_type": "stream",
     "text": [
      "Validation Loss: 1.0009, Validation AUC-ROC: 0.9187\n",
      "Epoch 3/5\n"
     ]
    },
    {
     "name": "stderr",
     "output_type": "stream",
     "text": [
      "Training: 100%|██████████| 237/237 [00:23<00:00,  9.98it/s]\n"
     ]
    },
    {
     "name": "stdout",
     "output_type": "stream",
     "text": [
      "Validation Loss: 1.1275, Validation AUC-ROC: 0.9165\n",
      "Epoch 4/5\n"
     ]
    },
    {
     "name": "stderr",
     "output_type": "stream",
     "text": [
      "Training: 100%|██████████| 237/237 [00:23<00:00, 10.13it/s]\n"
     ]
    },
    {
     "name": "stdout",
     "output_type": "stream",
     "text": [
      "Validation Loss: 1.2096, Validation AUC-ROC: 0.9169\n",
      "Epoch 5/5\n"
     ]
    },
    {
     "name": "stderr",
     "output_type": "stream",
     "text": [
      "Training: 100%|██████████| 237/237 [00:23<00:00, 10.16it/s]\n"
     ]
    },
    {
     "name": "stdout",
     "output_type": "stream",
     "text": [
      "Validation Loss: 1.3329, Validation AUC-ROC: 0.9167\n",
      "Test AUC-ROC: 0.9143, Parameters: {'dropout': 0.8, 'hidden_dim': 512, 'lr': 0.001, 'momentum': 0.99, 'num_layers': 2, 'optimizer': 'adam', 'weight_decay': 0.0001}\n",
      "Training with parameters: {'dropout': 0.8, 'hidden_dim': 512, 'lr': 0.001, 'momentum': 0.99, 'num_layers': 2, 'optimizer': 'sgd', 'weight_decay': 0.01}\n",
      "Epoch 1/5\n"
     ]
    },
    {
     "name": "stderr",
     "output_type": "stream",
     "text": [
      "Training: 100%|██████████| 237/237 [00:19<00:00, 12.20it/s]\n"
     ]
    },
    {
     "name": "stdout",
     "output_type": "stream",
     "text": [
      "Validation Loss: 2.1993, Validation AUC-ROC: 0.7715\n",
      "Epoch 2/5\n"
     ]
    },
    {
     "name": "stderr",
     "output_type": "stream",
     "text": [
      "Training: 100%|██████████| 237/237 [00:19<00:00, 12.37it/s]\n"
     ]
    },
    {
     "name": "stdout",
     "output_type": "stream",
     "text": [
      "Validation Loss: 1.8469, Validation AUC-ROC: 0.8065\n",
      "Epoch 3/5\n"
     ]
    },
    {
     "name": "stderr",
     "output_type": "stream",
     "text": [
      "Training: 100%|██████████| 237/237 [00:19<00:00, 12.40it/s]\n"
     ]
    },
    {
     "name": "stdout",
     "output_type": "stream",
     "text": [
      "Validation Loss: 1.6499, Validation AUC-ROC: 0.8472\n",
      "Epoch 4/5\n"
     ]
    },
    {
     "name": "stderr",
     "output_type": "stream",
     "text": [
      "Training: 100%|██████████| 237/237 [00:19<00:00, 12.32it/s]\n"
     ]
    },
    {
     "name": "stdout",
     "output_type": "stream",
     "text": [
      "Validation Loss: 1.4610, Validation AUC-ROC: 0.8695\n",
      "Epoch 5/5\n"
     ]
    },
    {
     "name": "stderr",
     "output_type": "stream",
     "text": [
      "Training: 100%|██████████| 237/237 [00:19<00:00, 12.40it/s]\n"
     ]
    },
    {
     "name": "stdout",
     "output_type": "stream",
     "text": [
      "Validation Loss: 1.2835, Validation AUC-ROC: 0.8885\n",
      "Test AUC-ROC: 0.8924, Parameters: {'dropout': 0.8, 'hidden_dim': 512, 'lr': 0.001, 'momentum': 0.99, 'num_layers': 2, 'optimizer': 'sgd', 'weight_decay': 0.01}\n",
      "Training with parameters: {'dropout': 0.8, 'hidden_dim': 512, 'lr': 0.001, 'momentum': 0.99, 'num_layers': 2, 'optimizer': 'sgd', 'weight_decay': 0.0001}\n",
      "Epoch 1/5\n"
     ]
    },
    {
     "name": "stderr",
     "output_type": "stream",
     "text": [
      "Training: 100%|██████████| 237/237 [00:19<00:00, 12.20it/s]\n"
     ]
    },
    {
     "name": "stdout",
     "output_type": "stream",
     "text": [
      "Validation Loss: 2.1613, Validation AUC-ROC: 0.7865\n",
      "Epoch 2/5\n"
     ]
    },
    {
     "name": "stderr",
     "output_type": "stream",
     "text": [
      "Training: 100%|██████████| 237/237 [00:19<00:00, 12.35it/s]\n"
     ]
    },
    {
     "name": "stdout",
     "output_type": "stream",
     "text": [
      "Validation Loss: 1.7674, Validation AUC-ROC: 0.8329\n",
      "Epoch 3/5\n"
     ]
    },
    {
     "name": "stderr",
     "output_type": "stream",
     "text": [
      "Training: 100%|██████████| 237/237 [00:19<00:00, 12.43it/s]\n"
     ]
    },
    {
     "name": "stdout",
     "output_type": "stream",
     "text": [
      "Validation Loss: 1.4205, Validation AUC-ROC: 0.8748\n",
      "Epoch 4/5\n"
     ]
    },
    {
     "name": "stderr",
     "output_type": "stream",
     "text": [
      "Training: 100%|██████████| 237/237 [00:19<00:00, 12.41it/s]\n"
     ]
    },
    {
     "name": "stdout",
     "output_type": "stream",
     "text": [
      "Validation Loss: 1.2014, Validation AUC-ROC: 0.8950\n",
      "Epoch 5/5\n"
     ]
    },
    {
     "name": "stderr",
     "output_type": "stream",
     "text": [
      "Training: 100%|██████████| 237/237 [00:18<00:00, 12.69it/s]\n"
     ]
    },
    {
     "name": "stdout",
     "output_type": "stream",
     "text": [
      "Validation Loss: 1.1065, Validation AUC-ROC: 0.9071\n",
      "Test AUC-ROC: 0.9104, Parameters: {'dropout': 0.8, 'hidden_dim': 512, 'lr': 0.001, 'momentum': 0.99, 'num_layers': 2, 'optimizer': 'sgd', 'weight_decay': 0.0001}\n",
      "Training with parameters: {'dropout': 0.8, 'hidden_dim': 512, 'lr': 0.001, 'momentum': 0.99, 'num_layers': 3, 'optimizer': 'adam', 'weight_decay': 0.01}\n",
      "Epoch 1/5\n"
     ]
    },
    {
     "name": "stderr",
     "output_type": "stream",
     "text": [
      "Training: 100%|██████████| 237/237 [00:24<00:00,  9.56it/s]\n"
     ]
    },
    {
     "name": "stdout",
     "output_type": "stream",
     "text": [
      "Validation Loss: 1.6820, Validation AUC-ROC: 0.8232\n",
      "Epoch 2/5\n"
     ]
    },
    {
     "name": "stderr",
     "output_type": "stream",
     "text": [
      "Training: 100%|██████████| 237/237 [00:24<00:00,  9.52it/s]\n"
     ]
    },
    {
     "name": "stdout",
     "output_type": "stream",
     "text": [
      "Validation Loss: 1.3064, Validation AUC-ROC: 0.8837\n",
      "Epoch 3/5\n"
     ]
    },
    {
     "name": "stderr",
     "output_type": "stream",
     "text": [
      "Training: 100%|██████████| 237/237 [00:24<00:00,  9.82it/s]\n"
     ]
    },
    {
     "name": "stdout",
     "output_type": "stream",
     "text": [
      "Validation Loss: 1.2773, Validation AUC-ROC: 0.8908\n",
      "Epoch 4/5\n"
     ]
    },
    {
     "name": "stderr",
     "output_type": "stream",
     "text": [
      "Training: 100%|██████████| 237/237 [00:24<00:00,  9.80it/s]\n"
     ]
    },
    {
     "name": "stdout",
     "output_type": "stream",
     "text": [
      "Validation Loss: 1.2150, Validation AUC-ROC: 0.8941\n",
      "Epoch 5/5\n"
     ]
    },
    {
     "name": "stderr",
     "output_type": "stream",
     "text": [
      "Training: 100%|██████████| 237/237 [00:24<00:00,  9.81it/s]\n"
     ]
    },
    {
     "name": "stdout",
     "output_type": "stream",
     "text": [
      "Validation Loss: 1.1991, Validation AUC-ROC: 0.8979\n",
      "Test AUC-ROC: 0.8996, Parameters: {'dropout': 0.8, 'hidden_dim': 512, 'lr': 0.001, 'momentum': 0.99, 'num_layers': 3, 'optimizer': 'adam', 'weight_decay': 0.01}\n",
      "Training with parameters: {'dropout': 0.8, 'hidden_dim': 512, 'lr': 0.001, 'momentum': 0.99, 'num_layers': 3, 'optimizer': 'adam', 'weight_decay': 0.0001}\n",
      "Epoch 1/5\n"
     ]
    },
    {
     "name": "stderr",
     "output_type": "stream",
     "text": [
      "Training: 100%|██████████| 237/237 [00:25<00:00,  9.46it/s]\n"
     ]
    },
    {
     "name": "stdout",
     "output_type": "stream",
     "text": [
      "Validation Loss: 1.4006, Validation AUC-ROC: 0.8759\n",
      "Epoch 2/5\n"
     ]
    },
    {
     "name": "stderr",
     "output_type": "stream",
     "text": [
      "Training: 100%|██████████| 237/237 [00:24<00:00,  9.69it/s]\n"
     ]
    },
    {
     "name": "stdout",
     "output_type": "stream",
     "text": [
      "Validation Loss: 1.0428, Validation AUC-ROC: 0.9138\n",
      "Epoch 3/5\n"
     ]
    },
    {
     "name": "stderr",
     "output_type": "stream",
     "text": [
      "Training: 100%|██████████| 237/237 [00:18<00:00, 12.77it/s]\n"
     ]
    },
    {
     "name": "stdout",
     "output_type": "stream",
     "text": [
      "Validation Loss: 1.2155, Validation AUC-ROC: 0.9124\n",
      "Epoch 4/5\n"
     ]
    },
    {
     "name": "stderr",
     "output_type": "stream",
     "text": [
      "Training: 100%|██████████| 237/237 [00:18<00:00, 12.87it/s]\n"
     ]
    },
    {
     "name": "stdout",
     "output_type": "stream",
     "text": [
      "Validation Loss: 1.4362, Validation AUC-ROC: 0.9092\n",
      "Epoch 5/5\n"
     ]
    },
    {
     "name": "stderr",
     "output_type": "stream",
     "text": [
      "Training: 100%|██████████| 237/237 [00:18<00:00, 12.81it/s]\n"
     ]
    },
    {
     "name": "stdout",
     "output_type": "stream",
     "text": [
      "Validation Loss: 1.5746, Validation AUC-ROC: 0.9098\n",
      "Test AUC-ROC: 0.9063, Parameters: {'dropout': 0.8, 'hidden_dim': 512, 'lr': 0.001, 'momentum': 0.99, 'num_layers': 3, 'optimizer': 'adam', 'weight_decay': 0.0001}\n",
      "Training with parameters: {'dropout': 0.8, 'hidden_dim': 512, 'lr': 0.001, 'momentum': 0.99, 'num_layers': 3, 'optimizer': 'sgd', 'weight_decay': 0.01}\n",
      "Epoch 1/5\n"
     ]
    },
    {
     "name": "stderr",
     "output_type": "stream",
     "text": [
      "Training: 100%|██████████| 237/237 [00:14<00:00, 16.60it/s]\n"
     ]
    },
    {
     "name": "stdout",
     "output_type": "stream",
     "text": [
      "Validation Loss: 2.2749, Validation AUC-ROC: 0.6784\n",
      "Epoch 2/5\n"
     ]
    },
    {
     "name": "stderr",
     "output_type": "stream",
     "text": [
      "Training: 100%|██████████| 237/237 [00:14<00:00, 16.56it/s]\n"
     ]
    },
    {
     "name": "stdout",
     "output_type": "stream",
     "text": [
      "Validation Loss: 2.1238, Validation AUC-ROC: 0.7276\n",
      "Epoch 3/5\n"
     ]
    },
    {
     "name": "stderr",
     "output_type": "stream",
     "text": [
      "Training: 100%|██████████| 237/237 [00:13<00:00, 16.95it/s]\n"
     ]
    },
    {
     "name": "stdout",
     "output_type": "stream",
     "text": [
      "Validation Loss: 1.8694, Validation AUC-ROC: 0.7208\n",
      "Epoch 4/5\n"
     ]
    },
    {
     "name": "stderr",
     "output_type": "stream",
     "text": [
      "Training: 100%|██████████| 237/237 [00:13<00:00, 16.98it/s]\n"
     ]
    },
    {
     "name": "stdout",
     "output_type": "stream",
     "text": [
      "Validation Loss: 1.8147, Validation AUC-ROC: 0.7586\n",
      "Epoch 5/5\n"
     ]
    },
    {
     "name": "stderr",
     "output_type": "stream",
     "text": [
      "Training: 100%|██████████| 237/237 [00:13<00:00, 17.32it/s]\n"
     ]
    },
    {
     "name": "stdout",
     "output_type": "stream",
     "text": [
      "Validation Loss: 1.7742, Validation AUC-ROC: 0.7728\n",
      "Test AUC-ROC: 0.7795, Parameters: {'dropout': 0.8, 'hidden_dim': 512, 'lr': 0.001, 'momentum': 0.99, 'num_layers': 3, 'optimizer': 'sgd', 'weight_decay': 0.01}\n",
      "Training with parameters: {'dropout': 0.8, 'hidden_dim': 512, 'lr': 0.001, 'momentum': 0.99, 'num_layers': 3, 'optimizer': 'sgd', 'weight_decay': 0.0001}\n",
      "Epoch 1/5\n"
     ]
    },
    {
     "name": "stderr",
     "output_type": "stream",
     "text": [
      "Training: 100%|██████████| 237/237 [00:13<00:00, 16.96it/s]\n"
     ]
    },
    {
     "name": "stdout",
     "output_type": "stream",
     "text": [
      "Validation Loss: 2.2693, Validation AUC-ROC: 0.7033\n",
      "Epoch 2/5\n"
     ]
    },
    {
     "name": "stderr",
     "output_type": "stream",
     "text": [
      "Training: 100%|██████████| 237/237 [00:13<00:00, 17.36it/s]\n"
     ]
    },
    {
     "name": "stdout",
     "output_type": "stream",
     "text": [
      "Validation Loss: 1.9578, Validation AUC-ROC: 0.7720\n",
      "Epoch 3/5\n"
     ]
    },
    {
     "name": "stderr",
     "output_type": "stream",
     "text": [
      "Training: 100%|██████████| 237/237 [00:13<00:00, 17.24it/s]\n"
     ]
    },
    {
     "name": "stdout",
     "output_type": "stream",
     "text": [
      "Validation Loss: 1.8142, Validation AUC-ROC: 0.7901\n",
      "Epoch 4/5\n"
     ]
    },
    {
     "name": "stderr",
     "output_type": "stream",
     "text": [
      "Training: 100%|██████████| 237/237 [00:13<00:00, 17.16it/s]\n"
     ]
    },
    {
     "name": "stdout",
     "output_type": "stream",
     "text": [
      "Validation Loss: 1.6619, Validation AUC-ROC: 0.8309\n",
      "Epoch 5/5\n"
     ]
    },
    {
     "name": "stderr",
     "output_type": "stream",
     "text": [
      "Training: 100%|██████████| 237/237 [00:13<00:00, 17.23it/s]\n"
     ]
    },
    {
     "name": "stdout",
     "output_type": "stream",
     "text": [
      "Validation Loss: 1.4309, Validation AUC-ROC: 0.8674\n",
      "Test AUC-ROC: 0.8729, Parameters: {'dropout': 0.8, 'hidden_dim': 512, 'lr': 0.001, 'momentum': 0.99, 'num_layers': 3, 'optimizer': 'sgd', 'weight_decay': 0.0001}\n",
      "Training with parameters: {'dropout': 0.8, 'hidden_dim': 512, 'lr': 0.01, 'momentum': 0.9, 'num_layers': 2, 'optimizer': 'adam', 'weight_decay': 0.01}\n",
      "Epoch 1/5\n"
     ]
    },
    {
     "name": "stderr",
     "output_type": "stream",
     "text": [
      "Training: 100%|██████████| 237/237 [00:18<00:00, 13.09it/s]\n"
     ]
    },
    {
     "name": "stdout",
     "output_type": "stream",
     "text": [
      "Validation Loss: 1.6467, Validation AUC-ROC: 0.8572\n",
      "Epoch 2/5\n"
     ]
    },
    {
     "name": "stderr",
     "output_type": "stream",
     "text": [
      "Training: 100%|██████████| 237/237 [00:18<00:00, 13.15it/s]\n"
     ]
    },
    {
     "name": "stdout",
     "output_type": "stream",
     "text": [
      "Validation Loss: 1.3303, Validation AUC-ROC: 0.8836\n",
      "Epoch 3/5\n"
     ]
    },
    {
     "name": "stderr",
     "output_type": "stream",
     "text": [
      "Training: 100%|██████████| 237/237 [00:18<00:00, 13.16it/s]\n"
     ]
    },
    {
     "name": "stdout",
     "output_type": "stream",
     "text": [
      "Validation Loss: 1.2690, Validation AUC-ROC: 0.8853\n",
      "Epoch 4/5\n"
     ]
    },
    {
     "name": "stderr",
     "output_type": "stream",
     "text": [
      "Training: 100%|██████████| 237/237 [00:17<00:00, 13.24it/s]\n"
     ]
    },
    {
     "name": "stdout",
     "output_type": "stream",
     "text": [
      "Validation Loss: 1.3045, Validation AUC-ROC: 0.8856\n",
      "Epoch 5/5\n"
     ]
    },
    {
     "name": "stderr",
     "output_type": "stream",
     "text": [
      "Training: 100%|██████████| 237/237 [00:17<00:00, 13.23it/s]\n"
     ]
    },
    {
     "name": "stdout",
     "output_type": "stream",
     "text": [
      "Validation Loss: 1.2458, Validation AUC-ROC: 0.8844\n",
      "Test AUC-ROC: 0.8844, Parameters: {'dropout': 0.8, 'hidden_dim': 512, 'lr': 0.01, 'momentum': 0.9, 'num_layers': 2, 'optimizer': 'adam', 'weight_decay': 0.01}\n",
      "Training with parameters: {'dropout': 0.8, 'hidden_dim': 512, 'lr': 0.01, 'momentum': 0.9, 'num_layers': 2, 'optimizer': 'adam', 'weight_decay': 0.0001}\n",
      "Epoch 1/5\n"
     ]
    },
    {
     "name": "stderr",
     "output_type": "stream",
     "text": [
      "Training: 100%|██████████| 237/237 [00:18<00:00, 13.07it/s]\n"
     ]
    },
    {
     "name": "stdout",
     "output_type": "stream",
     "text": [
      "Validation Loss: 1.7621, Validation AUC-ROC: 0.8244\n",
      "Epoch 2/5\n"
     ]
    },
    {
     "name": "stderr",
     "output_type": "stream",
     "text": [
      "Training: 100%|██████████| 237/237 [00:17<00:00, 13.27it/s]\n"
     ]
    },
    {
     "name": "stdout",
     "output_type": "stream",
     "text": [
      "Validation Loss: 1.1210, Validation AUC-ROC: 0.9053\n",
      "Epoch 3/5\n"
     ]
    },
    {
     "name": "stderr",
     "output_type": "stream",
     "text": [
      "Training: 100%|██████████| 237/237 [00:17<00:00, 13.25it/s]\n"
     ]
    },
    {
     "name": "stdout",
     "output_type": "stream",
     "text": [
      "Validation Loss: 1.1195, Validation AUC-ROC: 0.9101\n",
      "Epoch 4/5\n"
     ]
    },
    {
     "name": "stderr",
     "output_type": "stream",
     "text": [
      "Training: 100%|██████████| 237/237 [00:17<00:00, 13.23it/s]\n"
     ]
    },
    {
     "name": "stdout",
     "output_type": "stream",
     "text": [
      "Validation Loss: 1.1783, Validation AUC-ROC: 0.9065\n",
      "Epoch 5/5\n"
     ]
    },
    {
     "name": "stderr",
     "output_type": "stream",
     "text": [
      "Training: 100%|██████████| 237/237 [00:19<00:00, 12.13it/s]\n"
     ]
    },
    {
     "name": "stdout",
     "output_type": "stream",
     "text": [
      "Validation Loss: 1.1961, Validation AUC-ROC: 0.9082\n",
      "Test AUC-ROC: 0.9025, Parameters: {'dropout': 0.8, 'hidden_dim': 512, 'lr': 0.01, 'momentum': 0.9, 'num_layers': 2, 'optimizer': 'adam', 'weight_decay': 0.0001}\n",
      "Training with parameters: {'dropout': 0.8, 'hidden_dim': 512, 'lr': 0.01, 'momentum': 0.9, 'num_layers': 2, 'optimizer': 'sgd', 'weight_decay': 0.01}\n",
      "Epoch 1/5\n"
     ]
    },
    {
     "name": "stderr",
     "output_type": "stream",
     "text": [
      "Training: 100%|██████████| 237/237 [00:13<00:00, 17.20it/s]\n"
     ]
    },
    {
     "name": "stdout",
     "output_type": "stream",
     "text": [
      "Validation Loss: 1.8892, Validation AUC-ROC: 0.7956\n",
      "Epoch 2/5\n"
     ]
    },
    {
     "name": "stderr",
     "output_type": "stream",
     "text": [
      "Training: 100%|██████████| 237/237 [00:14<00:00, 16.43it/s]\n"
     ]
    },
    {
     "name": "stdout",
     "output_type": "stream",
     "text": [
      "Validation Loss: 1.6445, Validation AUC-ROC: 0.8507\n",
      "Epoch 3/5\n"
     ]
    },
    {
     "name": "stderr",
     "output_type": "stream",
     "text": [
      "Training: 100%|██████████| 237/237 [00:14<00:00, 16.72it/s]\n"
     ]
    },
    {
     "name": "stdout",
     "output_type": "stream",
     "text": [
      "Validation Loss: 1.4088, Validation AUC-ROC: 0.8802\n",
      "Epoch 4/5\n"
     ]
    },
    {
     "name": "stderr",
     "output_type": "stream",
     "text": [
      "Training: 100%|██████████| 237/237 [00:13<00:00, 17.83it/s]\n"
     ]
    },
    {
     "name": "stdout",
     "output_type": "stream",
     "text": [
      "Validation Loss: 1.2491, Validation AUC-ROC: 0.8943\n",
      "Epoch 5/5\n"
     ]
    },
    {
     "name": "stderr",
     "output_type": "stream",
     "text": [
      "Training: 100%|██████████| 237/237 [00:13<00:00, 17.94it/s]\n"
     ]
    },
    {
     "name": "stdout",
     "output_type": "stream",
     "text": [
      "Validation Loss: 1.2001, Validation AUC-ROC: 0.8999\n",
      "Test AUC-ROC: 0.9033, Parameters: {'dropout': 0.8, 'hidden_dim': 512, 'lr': 0.01, 'momentum': 0.9, 'num_layers': 2, 'optimizer': 'sgd', 'weight_decay': 0.01}\n",
      "Training with parameters: {'dropout': 0.8, 'hidden_dim': 512, 'lr': 0.01, 'momentum': 0.9, 'num_layers': 2, 'optimizer': 'sgd', 'weight_decay': 0.0001}\n",
      "Epoch 1/5\n"
     ]
    },
    {
     "name": "stderr",
     "output_type": "stream",
     "text": [
      "Training: 100%|██████████| 237/237 [00:13<00:00, 17.52it/s]\n"
     ]
    },
    {
     "name": "stdout",
     "output_type": "stream",
     "text": [
      "Validation Loss: 1.8609, Validation AUC-ROC: 0.8126\n",
      "Epoch 2/5\n"
     ]
    },
    {
     "name": "stderr",
     "output_type": "stream",
     "text": [
      "Training: 100%|██████████| 237/237 [00:13<00:00, 17.88it/s]\n"
     ]
    },
    {
     "name": "stdout",
     "output_type": "stream",
     "text": [
      "Validation Loss: 1.4315, Validation AUC-ROC: 0.8781\n",
      "Epoch 3/5\n"
     ]
    },
    {
     "name": "stderr",
     "output_type": "stream",
     "text": [
      "Training: 100%|██████████| 237/237 [00:13<00:00, 17.82it/s]\n"
     ]
    },
    {
     "name": "stdout",
     "output_type": "stream",
     "text": [
      "Validation Loss: 1.1728, Validation AUC-ROC: 0.9016\n",
      "Epoch 4/5\n"
     ]
    },
    {
     "name": "stderr",
     "output_type": "stream",
     "text": [
      "Training: 100%|██████████| 237/237 [00:13<00:00, 17.83it/s]\n"
     ]
    },
    {
     "name": "stdout",
     "output_type": "stream",
     "text": [
      "Validation Loss: 1.0855, Validation AUC-ROC: 0.9101\n",
      "Epoch 5/5\n"
     ]
    },
    {
     "name": "stderr",
     "output_type": "stream",
     "text": [
      "Training: 100%|██████████| 237/237 [00:13<00:00, 17.85it/s]\n"
     ]
    },
    {
     "name": "stdout",
     "output_type": "stream",
     "text": [
      "Validation Loss: 1.0590, Validation AUC-ROC: 0.9153\n",
      "Test AUC-ROC: 0.9180, Parameters: {'dropout': 0.8, 'hidden_dim': 512, 'lr': 0.01, 'momentum': 0.9, 'num_layers': 2, 'optimizer': 'sgd', 'weight_decay': 0.0001}\n",
      "Training with parameters: {'dropout': 0.8, 'hidden_dim': 512, 'lr': 0.01, 'momentum': 0.9, 'num_layers': 3, 'optimizer': 'adam', 'weight_decay': 0.01}\n",
      "Epoch 1/5\n"
     ]
    },
    {
     "name": "stderr",
     "output_type": "stream",
     "text": [
      "Training: 100%|██████████| 237/237 [00:18<00:00, 13.01it/s]\n"
     ]
    },
    {
     "name": "stdout",
     "output_type": "stream",
     "text": [
      "Validation Loss: 1.9435, Validation AUC-ROC: 0.7881\n",
      "Epoch 2/5\n"
     ]
    },
    {
     "name": "stderr",
     "output_type": "stream",
     "text": [
      "Training: 100%|██████████| 237/237 [00:17<00:00, 13.28it/s]\n"
     ]
    },
    {
     "name": "stdout",
     "output_type": "stream",
     "text": [
      "Validation Loss: 1.4223, Validation AUC-ROC: 0.8625\n",
      "Epoch 3/5\n"
     ]
    },
    {
     "name": "stderr",
     "output_type": "stream",
     "text": [
      "Training: 100%|██████████| 237/237 [00:17<00:00, 13.31it/s]\n"
     ]
    },
    {
     "name": "stdout",
     "output_type": "stream",
     "text": [
      "Validation Loss: 1.3139, Validation AUC-ROC: 0.8812\n",
      "Epoch 4/5\n"
     ]
    },
    {
     "name": "stderr",
     "output_type": "stream",
     "text": [
      "Training: 100%|██████████| 237/237 [00:17<00:00, 13.32it/s]\n"
     ]
    },
    {
     "name": "stdout",
     "output_type": "stream",
     "text": [
      "Validation Loss: 1.2714, Validation AUC-ROC: 0.8855\n",
      "Epoch 5/5\n"
     ]
    },
    {
     "name": "stderr",
     "output_type": "stream",
     "text": [
      "Training: 100%|██████████| 237/237 [00:17<00:00, 13.31it/s]\n"
     ]
    },
    {
     "name": "stdout",
     "output_type": "stream",
     "text": [
      "Validation Loss: 1.2640, Validation AUC-ROC: 0.8844\n",
      "Test AUC-ROC: 0.8902, Parameters: {'dropout': 0.8, 'hidden_dim': 512, 'lr': 0.01, 'momentum': 0.9, 'num_layers': 3, 'optimizer': 'adam', 'weight_decay': 0.01}\n",
      "Training with parameters: {'dropout': 0.8, 'hidden_dim': 512, 'lr': 0.01, 'momentum': 0.9, 'num_layers': 3, 'optimizer': 'adam', 'weight_decay': 0.0001}\n",
      "Epoch 1/5\n"
     ]
    },
    {
     "name": "stderr",
     "output_type": "stream",
     "text": [
      "Training: 100%|██████████| 237/237 [00:18<00:00, 13.00it/s]\n"
     ]
    },
    {
     "name": "stdout",
     "output_type": "stream",
     "text": [
      "Validation Loss: 2.1303, Validation AUC-ROC: 0.6748\n",
      "Epoch 2/5\n"
     ]
    },
    {
     "name": "stderr",
     "output_type": "stream",
     "text": [
      "Training: 100%|██████████| 237/237 [00:19<00:00, 12.42it/s]\n"
     ]
    },
    {
     "name": "stdout",
     "output_type": "stream",
     "text": [
      "Validation Loss: 1.2513, Validation AUC-ROC: 0.8805\n",
      "Epoch 3/5\n"
     ]
    },
    {
     "name": "stderr",
     "output_type": "stream",
     "text": [
      "Training: 100%|██████████| 237/237 [00:18<00:00, 12.85it/s]\n"
     ]
    },
    {
     "name": "stdout",
     "output_type": "stream",
     "text": [
      "Validation Loss: 1.1591, Validation AUC-ROC: 0.8985\n",
      "Epoch 4/5\n"
     ]
    },
    {
     "name": "stderr",
     "output_type": "stream",
     "text": [
      "Training: 100%|██████████| 237/237 [00:18<00:00, 12.90it/s]\n"
     ]
    },
    {
     "name": "stdout",
     "output_type": "stream",
     "text": [
      "Validation Loss: 1.1310, Validation AUC-ROC: 0.9048\n",
      "Epoch 5/5\n"
     ]
    },
    {
     "name": "stderr",
     "output_type": "stream",
     "text": [
      "Training: 100%|██████████| 237/237 [00:18<00:00, 12.97it/s]\n"
     ]
    },
    {
     "name": "stdout",
     "output_type": "stream",
     "text": [
      "Validation Loss: 1.2232, Validation AUC-ROC: 0.8995\n",
      "Test AUC-ROC: 0.9029, Parameters: {'dropout': 0.8, 'hidden_dim': 512, 'lr': 0.01, 'momentum': 0.9, 'num_layers': 3, 'optimizer': 'adam', 'weight_decay': 0.0001}\n",
      "Training with parameters: {'dropout': 0.8, 'hidden_dim': 512, 'lr': 0.01, 'momentum': 0.9, 'num_layers': 3, 'optimizer': 'sgd', 'weight_decay': 0.01}\n",
      "Epoch 1/5\n"
     ]
    },
    {
     "name": "stderr",
     "output_type": "stream",
     "text": [
      "Training: 100%|██████████| 237/237 [00:14<00:00, 16.02it/s]\n"
     ]
    },
    {
     "name": "stdout",
     "output_type": "stream",
     "text": [
      "Validation Loss: 2.0110, Validation AUC-ROC: 0.7242\n",
      "Epoch 2/5\n"
     ]
    },
    {
     "name": "stderr",
     "output_type": "stream",
     "text": [
      "Training: 100%|██████████| 237/237 [00:15<00:00, 15.50it/s]\n"
     ]
    },
    {
     "name": "stdout",
     "output_type": "stream",
     "text": [
      "Validation Loss: 1.8604, Validation AUC-ROC: 0.7569\n",
      "Epoch 3/5\n"
     ]
    },
    {
     "name": "stderr",
     "output_type": "stream",
     "text": [
      "Training: 100%|██████████| 237/237 [00:15<00:00, 14.97it/s]\n"
     ]
    },
    {
     "name": "stdout",
     "output_type": "stream",
     "text": [
      "Validation Loss: 1.7937, Validation AUC-ROC: 0.7837\n",
      "Epoch 4/5\n"
     ]
    },
    {
     "name": "stderr",
     "output_type": "stream",
     "text": [
      "Training: 100%|██████████| 237/237 [00:15<00:00, 15.39it/s]\n"
     ]
    },
    {
     "name": "stdout",
     "output_type": "stream",
     "text": [
      "Validation Loss: 1.7085, Validation AUC-ROC: 0.8139\n",
      "Epoch 5/5\n"
     ]
    },
    {
     "name": "stderr",
     "output_type": "stream",
     "text": [
      "Training: 100%|██████████| 237/237 [00:14<00:00, 16.40it/s]\n"
     ]
    },
    {
     "name": "stdout",
     "output_type": "stream",
     "text": [
      "Validation Loss: 1.6338, Validation AUC-ROC: 0.8357\n",
      "Test AUC-ROC: 0.8404, Parameters: {'dropout': 0.8, 'hidden_dim': 512, 'lr': 0.01, 'momentum': 0.9, 'num_layers': 3, 'optimizer': 'sgd', 'weight_decay': 0.01}\n",
      "Training with parameters: {'dropout': 0.8, 'hidden_dim': 512, 'lr': 0.01, 'momentum': 0.9, 'num_layers': 3, 'optimizer': 'sgd', 'weight_decay': 0.0001}\n",
      "Epoch 1/5\n"
     ]
    },
    {
     "name": "stderr",
     "output_type": "stream",
     "text": [
      "Training: 100%|██████████| 237/237 [00:14<00:00, 16.86it/s]\n"
     ]
    },
    {
     "name": "stdout",
     "output_type": "stream",
     "text": [
      "Validation Loss: 1.9734, Validation AUC-ROC: 0.7339\n",
      "Epoch 2/5\n"
     ]
    },
    {
     "name": "stderr",
     "output_type": "stream",
     "text": [
      "Training: 100%|██████████| 237/237 [00:14<00:00, 16.74it/s]\n"
     ]
    },
    {
     "name": "stdout",
     "output_type": "stream",
     "text": [
      "Validation Loss: 1.8344, Validation AUC-ROC: 0.8013\n",
      "Epoch 3/5\n"
     ]
    },
    {
     "name": "stderr",
     "output_type": "stream",
     "text": [
      "Training: 100%|██████████| 237/237 [00:13<00:00, 17.19it/s]\n"
     ]
    },
    {
     "name": "stdout",
     "output_type": "stream",
     "text": [
      "Validation Loss: 1.6119, Validation AUC-ROC: 0.8426\n",
      "Epoch 4/5\n"
     ]
    },
    {
     "name": "stderr",
     "output_type": "stream",
     "text": [
      "Training: 100%|██████████| 237/237 [00:13<00:00, 17.68it/s]\n"
     ]
    },
    {
     "name": "stdout",
     "output_type": "stream",
     "text": [
      "Validation Loss: 1.3303, Validation AUC-ROC: 0.8843\n",
      "Epoch 5/5\n"
     ]
    },
    {
     "name": "stderr",
     "output_type": "stream",
     "text": [
      "Training: 100%|██████████| 237/237 [00:13<00:00, 17.91it/s]\n"
     ]
    },
    {
     "name": "stdout",
     "output_type": "stream",
     "text": [
      "Validation Loss: 1.1978, Validation AUC-ROC: 0.9006\n",
      "Test AUC-ROC: 0.9031, Parameters: {'dropout': 0.8, 'hidden_dim': 512, 'lr': 0.01, 'momentum': 0.9, 'num_layers': 3, 'optimizer': 'sgd', 'weight_decay': 0.0001}\n",
      "Training with parameters: {'dropout': 0.8, 'hidden_dim': 512, 'lr': 0.01, 'momentum': 0.99, 'num_layers': 2, 'optimizer': 'adam', 'weight_decay': 0.01}\n",
      "Epoch 1/5\n"
     ]
    },
    {
     "name": "stderr",
     "output_type": "stream",
     "text": [
      "Training: 100%|██████████| 237/237 [00:18<00:00, 13.08it/s]\n"
     ]
    },
    {
     "name": "stdout",
     "output_type": "stream",
     "text": [
      "Validation Loss: 1.6570, Validation AUC-ROC: 0.8568\n",
      "Epoch 2/5\n"
     ]
    },
    {
     "name": "stderr",
     "output_type": "stream",
     "text": [
      "Training: 100%|██████████| 237/237 [00:18<00:00, 12.83it/s]\n"
     ]
    },
    {
     "name": "stdout",
     "output_type": "stream",
     "text": [
      "Validation Loss: 1.3217, Validation AUC-ROC: 0.8847\n",
      "Epoch 3/5\n"
     ]
    },
    {
     "name": "stderr",
     "output_type": "stream",
     "text": [
      "Training: 100%|██████████| 237/237 [00:18<00:00, 13.00it/s]\n"
     ]
    },
    {
     "name": "stdout",
     "output_type": "stream",
     "text": [
      "Validation Loss: 1.3089, Validation AUC-ROC: 0.8836\n",
      "Epoch 4/5\n"
     ]
    },
    {
     "name": "stderr",
     "output_type": "stream",
     "text": [
      "Training: 100%|██████████| 237/237 [00:18<00:00, 12.75it/s]\n"
     ]
    },
    {
     "name": "stdout",
     "output_type": "stream",
     "text": [
      "Validation Loss: 1.2687, Validation AUC-ROC: 0.8859\n",
      "Epoch 5/5\n"
     ]
    },
    {
     "name": "stderr",
     "output_type": "stream",
     "text": [
      "Training: 100%|██████████| 237/237 [00:18<00:00, 13.06it/s]\n"
     ]
    },
    {
     "name": "stdout",
     "output_type": "stream",
     "text": [
      "Validation Loss: 1.2285, Validation AUC-ROC: 0.8902\n",
      "Test AUC-ROC: 0.8928, Parameters: {'dropout': 0.8, 'hidden_dim': 512, 'lr': 0.01, 'momentum': 0.99, 'num_layers': 2, 'optimizer': 'adam', 'weight_decay': 0.01}\n",
      "Training with parameters: {'dropout': 0.8, 'hidden_dim': 512, 'lr': 0.01, 'momentum': 0.99, 'num_layers': 2, 'optimizer': 'adam', 'weight_decay': 0.0001}\n",
      "Epoch 1/5\n"
     ]
    },
    {
     "name": "stderr",
     "output_type": "stream",
     "text": [
      "Training: 100%|██████████| 237/237 [00:18<00:00, 13.12it/s]\n"
     ]
    },
    {
     "name": "stdout",
     "output_type": "stream",
     "text": [
      "Validation Loss: 1.7579, Validation AUC-ROC: 0.8223\n",
      "Epoch 2/5\n"
     ]
    },
    {
     "name": "stderr",
     "output_type": "stream",
     "text": [
      "Training: 100%|██████████| 237/237 [00:17<00:00, 13.31it/s]\n"
     ]
    },
    {
     "name": "stdout",
     "output_type": "stream",
     "text": [
      "Validation Loss: 1.1176, Validation AUC-ROC: 0.8974\n",
      "Epoch 3/5\n"
     ]
    },
    {
     "name": "stderr",
     "output_type": "stream",
     "text": [
      "Training: 100%|██████████| 237/237 [00:17<00:00, 13.20it/s]\n"
     ]
    },
    {
     "name": "stdout",
     "output_type": "stream",
     "text": [
      "Validation Loss: 1.1195, Validation AUC-ROC: 0.9106\n",
      "Epoch 4/5\n"
     ]
    },
    {
     "name": "stderr",
     "output_type": "stream",
     "text": [
      "Training: 100%|██████████| 237/237 [00:17<00:00, 13.22it/s]\n"
     ]
    },
    {
     "name": "stdout",
     "output_type": "stream",
     "text": [
      "Validation Loss: 1.1954, Validation AUC-ROC: 0.9052\n",
      "Epoch 5/5\n"
     ]
    },
    {
     "name": "stderr",
     "output_type": "stream",
     "text": [
      "Training: 100%|██████████| 237/237 [00:17<00:00, 13.24it/s]\n"
     ]
    },
    {
     "name": "stdout",
     "output_type": "stream",
     "text": [
      "Validation Loss: 1.2588, Validation AUC-ROC: 0.9085\n",
      "Test AUC-ROC: 0.9058, Parameters: {'dropout': 0.8, 'hidden_dim': 512, 'lr': 0.01, 'momentum': 0.99, 'num_layers': 2, 'optimizer': 'adam', 'weight_decay': 0.0001}\n",
      "Training with parameters: {'dropout': 0.8, 'hidden_dim': 512, 'lr': 0.01, 'momentum': 0.99, 'num_layers': 2, 'optimizer': 'sgd', 'weight_decay': 0.01}\n",
      "Epoch 1/5\n"
     ]
    },
    {
     "name": "stderr",
     "output_type": "stream",
     "text": [
      "Training: 100%|██████████| 237/237 [00:13<00:00, 17.27it/s]\n"
     ]
    },
    {
     "name": "stdout",
     "output_type": "stream",
     "text": [
      "Validation Loss: 1.6650, Validation AUC-ROC: 0.8406\n",
      "Epoch 2/5\n"
     ]
    },
    {
     "name": "stderr",
     "output_type": "stream",
     "text": [
      "Training: 100%|██████████| 237/237 [00:13<00:00, 17.56it/s]\n"
     ]
    },
    {
     "name": "stdout",
     "output_type": "stream",
     "text": [
      "Validation Loss: 1.2267, Validation AUC-ROC: 0.8979\n",
      "Epoch 3/5\n"
     ]
    },
    {
     "name": "stderr",
     "output_type": "stream",
     "text": [
      "Training: 100%|██████████| 237/237 [00:13<00:00, 17.66it/s]\n"
     ]
    },
    {
     "name": "stdout",
     "output_type": "stream",
     "text": [
      "Validation Loss: 1.2003, Validation AUC-ROC: 0.9009\n",
      "Epoch 4/5\n"
     ]
    },
    {
     "name": "stderr",
     "output_type": "stream",
     "text": [
      "Training: 100%|██████████| 237/237 [00:13<00:00, 17.58it/s]\n"
     ]
    },
    {
     "name": "stdout",
     "output_type": "stream",
     "text": [
      "Validation Loss: 1.2104, Validation AUC-ROC: 0.8999\n",
      "Epoch 5/5\n"
     ]
    },
    {
     "name": "stderr",
     "output_type": "stream",
     "text": [
      "Training: 100%|██████████| 237/237 [00:13<00:00, 17.49it/s]\n"
     ]
    },
    {
     "name": "stdout",
     "output_type": "stream",
     "text": [
      "Validation Loss: 1.2114, Validation AUC-ROC: 0.8975\n",
      "Test AUC-ROC: 0.9040, Parameters: {'dropout': 0.8, 'hidden_dim': 512, 'lr': 0.01, 'momentum': 0.99, 'num_layers': 2, 'optimizer': 'sgd', 'weight_decay': 0.01}\n",
      "Training with parameters: {'dropout': 0.8, 'hidden_dim': 512, 'lr': 0.01, 'momentum': 0.99, 'num_layers': 2, 'optimizer': 'sgd', 'weight_decay': 0.0001}\n",
      "Epoch 1/5\n"
     ]
    },
    {
     "name": "stderr",
     "output_type": "stream",
     "text": [
      "Training: 100%|██████████| 237/237 [00:13<00:00, 17.11it/s]\n"
     ]
    },
    {
     "name": "stdout",
     "output_type": "stream",
     "text": [
      "Validation Loss: 1.5106, Validation AUC-ROC: 0.8660\n",
      "Epoch 2/5\n"
     ]
    },
    {
     "name": "stderr",
     "output_type": "stream",
     "text": [
      "Training: 100%|██████████| 237/237 [00:13<00:00, 17.37it/s]\n"
     ]
    },
    {
     "name": "stdout",
     "output_type": "stream",
     "text": [
      "Validation Loss: 1.0903, Validation AUC-ROC: 0.9120\n",
      "Epoch 3/5\n"
     ]
    },
    {
     "name": "stderr",
     "output_type": "stream",
     "text": [
      "Training: 100%|██████████| 237/237 [00:13<00:00, 17.49it/s]\n"
     ]
    },
    {
     "name": "stdout",
     "output_type": "stream",
     "text": [
      "Validation Loss: 1.1185, Validation AUC-ROC: 0.9169\n",
      "Epoch 4/5\n"
     ]
    },
    {
     "name": "stderr",
     "output_type": "stream",
     "text": [
      "Training: 100%|██████████| 237/237 [00:13<00:00, 17.55it/s]\n"
     ]
    },
    {
     "name": "stdout",
     "output_type": "stream",
     "text": [
      "Validation Loss: 1.2909, Validation AUC-ROC: 0.9156\n",
      "Epoch 5/5\n"
     ]
    },
    {
     "name": "stderr",
     "output_type": "stream",
     "text": [
      "Training: 100%|██████████| 237/237 [00:13<00:00, 17.50it/s]\n"
     ]
    },
    {
     "name": "stdout",
     "output_type": "stream",
     "text": [
      "Validation Loss: 1.3679, Validation AUC-ROC: 0.9125\n",
      "Test AUC-ROC: 0.9112, Parameters: {'dropout': 0.8, 'hidden_dim': 512, 'lr': 0.01, 'momentum': 0.99, 'num_layers': 2, 'optimizer': 'sgd', 'weight_decay': 0.0001}\n",
      "Training with parameters: {'dropout': 0.8, 'hidden_dim': 512, 'lr': 0.01, 'momentum': 0.99, 'num_layers': 3, 'optimizer': 'adam', 'weight_decay': 0.01}\n",
      "Epoch 1/5\n"
     ]
    },
    {
     "name": "stderr",
     "output_type": "stream",
     "text": [
      "Training: 100%|██████████| 237/237 [00:18<00:00, 12.93it/s]\n"
     ]
    },
    {
     "name": "stdout",
     "output_type": "stream",
     "text": [
      "Validation Loss: 1.9553, Validation AUC-ROC: 0.7688\n",
      "Epoch 2/5\n"
     ]
    },
    {
     "name": "stderr",
     "output_type": "stream",
     "text": [
      "Training: 100%|██████████| 237/237 [00:18<00:00, 13.16it/s]\n"
     ]
    },
    {
     "name": "stdout",
     "output_type": "stream",
     "text": [
      "Validation Loss: 1.3710, Validation AUC-ROC: 0.8741\n",
      "Epoch 3/5\n"
     ]
    },
    {
     "name": "stderr",
     "output_type": "stream",
     "text": [
      "Training: 100%|██████████| 237/237 [00:18<00:00, 12.61it/s]\n"
     ]
    },
    {
     "name": "stdout",
     "output_type": "stream",
     "text": [
      "Validation Loss: 1.2622, Validation AUC-ROC: 0.8823\n",
      "Epoch 4/5\n"
     ]
    },
    {
     "name": "stderr",
     "output_type": "stream",
     "text": [
      "Training: 100%|██████████| 237/237 [00:18<00:00, 12.94it/s]\n"
     ]
    },
    {
     "name": "stdout",
     "output_type": "stream",
     "text": [
      "Validation Loss: 1.2572, Validation AUC-ROC: 0.8830\n",
      "Epoch 5/5\n"
     ]
    },
    {
     "name": "stderr",
     "output_type": "stream",
     "text": [
      "Training: 100%|██████████| 237/237 [00:18<00:00, 12.67it/s]\n"
     ]
    },
    {
     "name": "stdout",
     "output_type": "stream",
     "text": [
      "Validation Loss: 1.2421, Validation AUC-ROC: 0.8867\n",
      "Test AUC-ROC: 0.8910, Parameters: {'dropout': 0.8, 'hidden_dim': 512, 'lr': 0.01, 'momentum': 0.99, 'num_layers': 3, 'optimizer': 'adam', 'weight_decay': 0.01}\n",
      "Training with parameters: {'dropout': 0.8, 'hidden_dim': 512, 'lr': 0.01, 'momentum': 0.99, 'num_layers': 3, 'optimizer': 'adam', 'weight_decay': 0.0001}\n",
      "Epoch 1/5\n"
     ]
    },
    {
     "name": "stderr",
     "output_type": "stream",
     "text": [
      "Training: 100%|██████████| 237/237 [00:19<00:00, 12.37it/s]\n"
     ]
    },
    {
     "name": "stdout",
     "output_type": "stream",
     "text": [
      "Validation Loss: 2.0708, Validation AUC-ROC: 0.6821\n",
      "Epoch 2/5\n"
     ]
    },
    {
     "name": "stderr",
     "output_type": "stream",
     "text": [
      "Training: 100%|██████████| 237/237 [00:18<00:00, 12.63it/s]\n"
     ]
    },
    {
     "name": "stdout",
     "output_type": "stream",
     "text": [
      "Validation Loss: 1.1702, Validation AUC-ROC: 0.8906\n",
      "Epoch 3/5\n"
     ]
    },
    {
     "name": "stderr",
     "output_type": "stream",
     "text": [
      "Training: 100%|██████████| 237/237 [00:19<00:00, 12.27it/s]\n"
     ]
    },
    {
     "name": "stdout",
     "output_type": "stream",
     "text": [
      "Validation Loss: 1.1588, Validation AUC-ROC: 0.8993\n",
      "Epoch 4/5\n"
     ]
    },
    {
     "name": "stderr",
     "output_type": "stream",
     "text": [
      "Training: 100%|██████████| 237/237 [00:19<00:00, 12.12it/s]\n"
     ]
    },
    {
     "name": "stdout",
     "output_type": "stream",
     "text": [
      "Validation Loss: 1.1613, Validation AUC-ROC: 0.9064\n",
      "Epoch 5/5\n"
     ]
    },
    {
     "name": "stderr",
     "output_type": "stream",
     "text": [
      "Training: 100%|██████████| 237/237 [00:18<00:00, 12.54it/s]\n"
     ]
    },
    {
     "name": "stdout",
     "output_type": "stream",
     "text": [
      "Validation Loss: 1.2406, Validation AUC-ROC: 0.9005\n",
      "Test AUC-ROC: 0.9014, Parameters: {'dropout': 0.8, 'hidden_dim': 512, 'lr': 0.01, 'momentum': 0.99, 'num_layers': 3, 'optimizer': 'adam', 'weight_decay': 0.0001}\n",
      "Training with parameters: {'dropout': 0.8, 'hidden_dim': 512, 'lr': 0.01, 'momentum': 0.99, 'num_layers': 3, 'optimizer': 'sgd', 'weight_decay': 0.01}\n",
      "Epoch 1/5\n"
     ]
    },
    {
     "name": "stderr",
     "output_type": "stream",
     "text": [
      "Training: 100%|██████████| 237/237 [00:13<00:00, 17.06it/s]\n"
     ]
    },
    {
     "name": "stdout",
     "output_type": "stream",
     "text": [
      "Validation Loss: 1.8926, Validation AUC-ROC: 0.6998\n",
      "Epoch 2/5\n"
     ]
    },
    {
     "name": "stderr",
     "output_type": "stream",
     "text": [
      "Training: 100%|██████████| 237/237 [00:13<00:00, 17.56it/s]\n"
     ]
    },
    {
     "name": "stdout",
     "output_type": "stream",
     "text": [
      "Validation Loss: 1.7450, Validation AUC-ROC: 0.7945\n",
      "Epoch 3/5\n"
     ]
    },
    {
     "name": "stderr",
     "output_type": "stream",
     "text": [
      "Training: 100%|██████████| 237/237 [00:13<00:00, 17.28it/s]\n"
     ]
    },
    {
     "name": "stdout",
     "output_type": "stream",
     "text": [
      "Validation Loss: 1.5276, Validation AUC-ROC: 0.8487\n",
      "Epoch 4/5\n"
     ]
    },
    {
     "name": "stderr",
     "output_type": "stream",
     "text": [
      "Training: 100%|██████████| 237/237 [00:13<00:00, 17.37it/s]\n"
     ]
    },
    {
     "name": "stdout",
     "output_type": "stream",
     "text": [
      "Validation Loss: 1.4646, Validation AUC-ROC: 0.8624\n",
      "Epoch 5/5\n"
     ]
    },
    {
     "name": "stderr",
     "output_type": "stream",
     "text": [
      "Training: 100%|██████████| 237/237 [00:13<00:00, 17.45it/s]\n"
     ]
    },
    {
     "name": "stdout",
     "output_type": "stream",
     "text": [
      "Validation Loss: 1.2872, Validation AUC-ROC: 0.8860\n",
      "Test AUC-ROC: 0.8898, Parameters: {'dropout': 0.8, 'hidden_dim': 512, 'lr': 0.01, 'momentum': 0.99, 'num_layers': 3, 'optimizer': 'sgd', 'weight_decay': 0.01}\n",
      "Training with parameters: {'dropout': 0.8, 'hidden_dim': 512, 'lr': 0.01, 'momentum': 0.99, 'num_layers': 3, 'optimizer': 'sgd', 'weight_decay': 0.0001}\n",
      "Epoch 1/5\n"
     ]
    },
    {
     "name": "stderr",
     "output_type": "stream",
     "text": [
      "Training: 100%|██████████| 237/237 [00:13<00:00, 16.99it/s]\n"
     ]
    },
    {
     "name": "stdout",
     "output_type": "stream",
     "text": [
      "Validation Loss: 1.8808, Validation AUC-ROC: 0.7443\n",
      "Epoch 2/5\n"
     ]
    },
    {
     "name": "stderr",
     "output_type": "stream",
     "text": [
      "Training: 100%|██████████| 237/237 [00:13<00:00, 17.27it/s]\n"
     ]
    },
    {
     "name": "stdout",
     "output_type": "stream",
     "text": [
      "Validation Loss: 1.3350, Validation AUC-ROC: 0.8796\n",
      "Epoch 3/5\n"
     ]
    },
    {
     "name": "stderr",
     "output_type": "stream",
     "text": [
      "Training: 100%|██████████| 237/237 [00:13<00:00, 17.45it/s]\n"
     ]
    },
    {
     "name": "stdout",
     "output_type": "stream",
     "text": [
      "Validation Loss: 1.1133, Validation AUC-ROC: 0.9090\n",
      "Epoch 4/5\n"
     ]
    },
    {
     "name": "stderr",
     "output_type": "stream",
     "text": [
      "Training: 100%|██████████| 237/237 [00:13<00:00, 17.41it/s]\n"
     ]
    },
    {
     "name": "stdout",
     "output_type": "stream",
     "text": [
      "Validation Loss: 1.1720, Validation AUC-ROC: 0.9101\n",
      "Epoch 5/5\n"
     ]
    },
    {
     "name": "stderr",
     "output_type": "stream",
     "text": [
      "Training: 100%|██████████| 237/237 [00:13<00:00, 17.34it/s]\n"
     ]
    },
    {
     "name": "stdout",
     "output_type": "stream",
     "text": [
      "Validation Loss: 1.3670, Validation AUC-ROC: 0.9099\n",
      "Test AUC-ROC: 0.9085, Parameters: {'dropout': 0.8, 'hidden_dim': 512, 'lr': 0.01, 'momentum': 0.99, 'num_layers': 3, 'optimizer': 'sgd', 'weight_decay': 0.0001}\n",
      "Training with parameters: {'dropout': 0.5, 'hidden_dim': 256, 'lr': 0.001, 'momentum': 0.9, 'num_layers': 2, 'optimizer': 'adam', 'weight_decay': 0.01}\n",
      "Epoch 1/5\n"
     ]
    },
    {
     "name": "stderr",
     "output_type": "stream",
     "text": [
      "Training: 100%|██████████| 237/237 [00:10<00:00, 21.90it/s]\n"
     ]
    },
    {
     "name": "stdout",
     "output_type": "stream",
     "text": [
      "Validation Loss: 1.2523, Validation AUC-ROC: 0.8927\n",
      "Epoch 2/5\n"
     ]
    },
    {
     "name": "stderr",
     "output_type": "stream",
     "text": [
      "Training: 100%|██████████| 237/237 [00:10<00:00, 22.10it/s]\n"
     ]
    },
    {
     "name": "stdout",
     "output_type": "stream",
     "text": [
      "Validation Loss: 1.2099, Validation AUC-ROC: 0.8985\n",
      "Epoch 3/5\n"
     ]
    },
    {
     "name": "stderr",
     "output_type": "stream",
     "text": [
      "Training: 100%|██████████| 237/237 [00:10<00:00, 22.14it/s]\n"
     ]
    },
    {
     "name": "stdout",
     "output_type": "stream",
     "text": [
      "Validation Loss: 1.1502, Validation AUC-ROC: 0.9053\n",
      "Epoch 4/5\n"
     ]
    },
    {
     "name": "stderr",
     "output_type": "stream",
     "text": [
      "Training: 100%|██████████| 237/237 [00:10<00:00, 22.98it/s]\n"
     ]
    },
    {
     "name": "stdout",
     "output_type": "stream",
     "text": [
      "Validation Loss: 1.1508, Validation AUC-ROC: 0.9041\n",
      "Epoch 5/5\n"
     ]
    },
    {
     "name": "stderr",
     "output_type": "stream",
     "text": [
      "Training: 100%|██████████| 237/237 [00:10<00:00, 23.01it/s]\n"
     ]
    },
    {
     "name": "stdout",
     "output_type": "stream",
     "text": [
      "Validation Loss: 1.1413, Validation AUC-ROC: 0.9054\n",
      "Test AUC-ROC: 0.9089, Parameters: {'dropout': 0.5, 'hidden_dim': 256, 'lr': 0.001, 'momentum': 0.9, 'num_layers': 2, 'optimizer': 'adam', 'weight_decay': 0.01}\n",
      "Training with parameters: {'dropout': 0.5, 'hidden_dim': 256, 'lr': 0.001, 'momentum': 0.9, 'num_layers': 2, 'optimizer': 'adam', 'weight_decay': 0.0001}\n",
      "Epoch 1/5\n"
     ]
    },
    {
     "name": "stderr",
     "output_type": "stream",
     "text": [
      "Training: 100%|██████████| 237/237 [00:10<00:00, 22.46it/s]\n"
     ]
    },
    {
     "name": "stdout",
     "output_type": "stream",
     "text": [
      "Validation Loss: 1.0220, Validation AUC-ROC: 0.9148\n",
      "Epoch 2/5\n"
     ]
    },
    {
     "name": "stderr",
     "output_type": "stream",
     "text": [
      "Training: 100%|██████████| 237/237 [00:10<00:00, 22.85it/s]\n"
     ]
    },
    {
     "name": "stdout",
     "output_type": "stream",
     "text": [
      "Validation Loss: 1.0235, Validation AUC-ROC: 0.9211\n",
      "Epoch 3/5\n"
     ]
    },
    {
     "name": "stderr",
     "output_type": "stream",
     "text": [
      "Training: 100%|██████████| 237/237 [00:10<00:00, 22.64it/s]\n"
     ]
    },
    {
     "name": "stdout",
     "output_type": "stream",
     "text": [
      "Validation Loss: 1.1660, Validation AUC-ROC: 0.9167\n",
      "Epoch 4/5\n"
     ]
    },
    {
     "name": "stderr",
     "output_type": "stream",
     "text": [
      "Training: 100%|██████████| 237/237 [00:10<00:00, 22.97it/s]\n"
     ]
    },
    {
     "name": "stdout",
     "output_type": "stream",
     "text": [
      "Validation Loss: 1.3074, Validation AUC-ROC: 0.9147\n",
      "Epoch 5/5\n"
     ]
    },
    {
     "name": "stderr",
     "output_type": "stream",
     "text": [
      "Training: 100%|██████████| 237/237 [00:10<00:00, 22.78it/s]\n"
     ]
    },
    {
     "name": "stdout",
     "output_type": "stream",
     "text": [
      "Validation Loss: 1.4890, Validation AUC-ROC: 0.9124\n",
      "Test AUC-ROC: 0.9104, Parameters: {'dropout': 0.5, 'hidden_dim': 256, 'lr': 0.001, 'momentum': 0.9, 'num_layers': 2, 'optimizer': 'adam', 'weight_decay': 0.0001}\n",
      "Training with parameters: {'dropout': 0.5, 'hidden_dim': 256, 'lr': 0.001, 'momentum': 0.9, 'num_layers': 2, 'optimizer': 'sgd', 'weight_decay': 0.01}\n",
      "Epoch 1/5\n"
     ]
    },
    {
     "name": "stderr",
     "output_type": "stream",
     "text": [
      "Training: 100%|██████████| 237/237 [00:08<00:00, 28.95it/s]\n"
     ]
    },
    {
     "name": "stdout",
     "output_type": "stream",
     "text": [
      "Validation Loss: 2.4283, Validation AUC-ROC: 0.6753\n",
      "Epoch 2/5\n"
     ]
    },
    {
     "name": "stderr",
     "output_type": "stream",
     "text": [
      "Training: 100%|██████████| 237/237 [00:08<00:00, 29.35it/s]\n"
     ]
    },
    {
     "name": "stdout",
     "output_type": "stream",
     "text": [
      "Validation Loss: 2.3135, Validation AUC-ROC: 0.6926\n",
      "Epoch 3/5\n"
     ]
    },
    {
     "name": "stderr",
     "output_type": "stream",
     "text": [
      "Training: 100%|██████████| 237/237 [00:08<00:00, 27.55it/s]\n"
     ]
    },
    {
     "name": "stdout",
     "output_type": "stream",
     "text": [
      "Validation Loss: 2.2133, Validation AUC-ROC: 0.7362\n",
      "Epoch 4/5\n"
     ]
    },
    {
     "name": "stderr",
     "output_type": "stream",
     "text": [
      "Training: 100%|██████████| 237/237 [00:09<00:00, 24.64it/s]\n"
     ]
    },
    {
     "name": "stdout",
     "output_type": "stream",
     "text": [
      "Validation Loss: 2.0872, Validation AUC-ROC: 0.7618\n",
      "Epoch 5/5\n"
     ]
    },
    {
     "name": "stderr",
     "output_type": "stream",
     "text": [
      "Training: 100%|██████████| 237/237 [00:08<00:00, 27.93it/s]\n"
     ]
    },
    {
     "name": "stdout",
     "output_type": "stream",
     "text": [
      "Validation Loss: 1.9799, Validation AUC-ROC: 0.7669\n",
      "Test AUC-ROC: 0.7688, Parameters: {'dropout': 0.5, 'hidden_dim': 256, 'lr': 0.001, 'momentum': 0.9, 'num_layers': 2, 'optimizer': 'sgd', 'weight_decay': 0.01}\n",
      "Training with parameters: {'dropout': 0.5, 'hidden_dim': 256, 'lr': 0.001, 'momentum': 0.9, 'num_layers': 2, 'optimizer': 'sgd', 'weight_decay': 0.0001}\n",
      "Epoch 1/5\n"
     ]
    },
    {
     "name": "stderr",
     "output_type": "stream",
     "text": [
      "Training: 100%|██████████| 237/237 [00:08<00:00, 27.58it/s]\n"
     ]
    },
    {
     "name": "stdout",
     "output_type": "stream",
     "text": [
      "Validation Loss: 2.4068, Validation AUC-ROC: 0.6670\n",
      "Epoch 2/5\n"
     ]
    },
    {
     "name": "stderr",
     "output_type": "stream",
     "text": [
      "Training: 100%|██████████| 237/237 [00:08<00:00, 28.00it/s]\n"
     ]
    },
    {
     "name": "stdout",
     "output_type": "stream",
     "text": [
      "Validation Loss: 2.2705, Validation AUC-ROC: 0.6740\n",
      "Epoch 3/5\n"
     ]
    },
    {
     "name": "stderr",
     "output_type": "stream",
     "text": [
      "Training: 100%|██████████| 237/237 [00:08<00:00, 27.97it/s]\n"
     ]
    },
    {
     "name": "stdout",
     "output_type": "stream",
     "text": [
      "Validation Loss: 2.1573, Validation AUC-ROC: 0.7532\n",
      "Epoch 4/5\n"
     ]
    },
    {
     "name": "stderr",
     "output_type": "stream",
     "text": [
      "Training: 100%|██████████| 237/237 [00:08<00:00, 28.80it/s]\n"
     ]
    },
    {
     "name": "stdout",
     "output_type": "stream",
     "text": [
      "Validation Loss: 2.0234, Validation AUC-ROC: 0.7793\n",
      "Epoch 5/5\n"
     ]
    },
    {
     "name": "stderr",
     "output_type": "stream",
     "text": [
      "Training: 100%|██████████| 237/237 [00:08<00:00, 29.10it/s]\n"
     ]
    },
    {
     "name": "stdout",
     "output_type": "stream",
     "text": [
      "Validation Loss: 1.9308, Validation AUC-ROC: 0.7913\n",
      "Test AUC-ROC: 0.7942, Parameters: {'dropout': 0.5, 'hidden_dim': 256, 'lr': 0.001, 'momentum': 0.9, 'num_layers': 2, 'optimizer': 'sgd', 'weight_decay': 0.0001}\n",
      "Training with parameters: {'dropout': 0.5, 'hidden_dim': 256, 'lr': 0.001, 'momentum': 0.9, 'num_layers': 3, 'optimizer': 'adam', 'weight_decay': 0.01}\n",
      "Epoch 1/5\n"
     ]
    },
    {
     "name": "stderr",
     "output_type": "stream",
     "text": [
      "Training: 100%|██████████| 237/237 [00:10<00:00, 21.98it/s]\n"
     ]
    },
    {
     "name": "stdout",
     "output_type": "stream",
     "text": [
      "Validation Loss: 1.3435, Validation AUC-ROC: 0.8789\n",
      "Epoch 2/5\n"
     ]
    },
    {
     "name": "stderr",
     "output_type": "stream",
     "text": [
      "Training: 100%|██████████| 237/237 [00:11<00:00, 21.50it/s]\n"
     ]
    },
    {
     "name": "stdout",
     "output_type": "stream",
     "text": [
      "Validation Loss: 1.2618, Validation AUC-ROC: 0.8891\n",
      "Epoch 3/5\n"
     ]
    },
    {
     "name": "stderr",
     "output_type": "stream",
     "text": [
      "Training: 100%|██████████| 237/237 [00:10<00:00, 22.53it/s]\n"
     ]
    },
    {
     "name": "stdout",
     "output_type": "stream",
     "text": [
      "Validation Loss: 1.2177, Validation AUC-ROC: 0.8933\n",
      "Epoch 4/5\n"
     ]
    },
    {
     "name": "stderr",
     "output_type": "stream",
     "text": [
      "Training: 100%|██████████| 237/237 [00:10<00:00, 22.54it/s]\n"
     ]
    },
    {
     "name": "stdout",
     "output_type": "stream",
     "text": [
      "Validation Loss: 1.2031, Validation AUC-ROC: 0.8955\n",
      "Epoch 5/5\n"
     ]
    },
    {
     "name": "stderr",
     "output_type": "stream",
     "text": [
      "Training: 100%|██████████| 237/237 [00:11<00:00, 21.41it/s]\n"
     ]
    },
    {
     "name": "stdout",
     "output_type": "stream",
     "text": [
      "Validation Loss: 1.1976, Validation AUC-ROC: 0.8962\n",
      "Test AUC-ROC: 0.8996, Parameters: {'dropout': 0.5, 'hidden_dim': 256, 'lr': 0.001, 'momentum': 0.9, 'num_layers': 3, 'optimizer': 'adam', 'weight_decay': 0.01}\n",
      "Training with parameters: {'dropout': 0.5, 'hidden_dim': 256, 'lr': 0.001, 'momentum': 0.9, 'num_layers': 3, 'optimizer': 'adam', 'weight_decay': 0.0001}\n",
      "Epoch 1/5\n"
     ]
    },
    {
     "name": "stderr",
     "output_type": "stream",
     "text": [
      "Training: 100%|██████████| 237/237 [00:11<00:00, 21.38it/s]\n"
     ]
    },
    {
     "name": "stdout",
     "output_type": "stream",
     "text": [
      "Validation Loss: 1.0925, Validation AUC-ROC: 0.9045\n",
      "Epoch 2/5\n"
     ]
    },
    {
     "name": "stderr",
     "output_type": "stream",
     "text": [
      "Training: 100%|██████████| 237/237 [00:12<00:00, 19.08it/s]\n"
     ]
    },
    {
     "name": "stdout",
     "output_type": "stream",
     "text": [
      "Validation Loss: 1.0230, Validation AUC-ROC: 0.9189\n",
      "Epoch 3/5\n"
     ]
    },
    {
     "name": "stderr",
     "output_type": "stream",
     "text": [
      "Training: 100%|██████████| 237/237 [00:12<00:00, 18.41it/s]\n"
     ]
    },
    {
     "name": "stdout",
     "output_type": "stream",
     "text": [
      "Validation Loss: 1.2042, Validation AUC-ROC: 0.9136\n",
      "Epoch 4/5\n"
     ]
    },
    {
     "name": "stderr",
     "output_type": "stream",
     "text": [
      "Training: 100%|██████████| 237/237 [00:11<00:00, 20.37it/s]\n"
     ]
    },
    {
     "name": "stdout",
     "output_type": "stream",
     "text": [
      "Validation Loss: 1.3654, Validation AUC-ROC: 0.9127\n",
      "Epoch 5/5\n"
     ]
    },
    {
     "name": "stderr",
     "output_type": "stream",
     "text": [
      "Training: 100%|██████████| 237/237 [00:11<00:00, 20.62it/s]\n"
     ]
    },
    {
     "name": "stdout",
     "output_type": "stream",
     "text": [
      "Validation Loss: 1.5980, Validation AUC-ROC: 0.9061\n",
      "Test AUC-ROC: 0.9046, Parameters: {'dropout': 0.5, 'hidden_dim': 256, 'lr': 0.001, 'momentum': 0.9, 'num_layers': 3, 'optimizer': 'adam', 'weight_decay': 0.0001}\n",
      "Training with parameters: {'dropout': 0.5, 'hidden_dim': 256, 'lr': 0.001, 'momentum': 0.9, 'num_layers': 3, 'optimizer': 'sgd', 'weight_decay': 0.01}\n",
      "Epoch 1/5\n"
     ]
    },
    {
     "name": "stderr",
     "output_type": "stream",
     "text": [
      "Training: 100%|██████████| 237/237 [00:09<00:00, 25.66it/s]\n"
     ]
    },
    {
     "name": "stdout",
     "output_type": "stream",
     "text": [
      "Validation Loss: 2.4381, Validation AUC-ROC: 0.5973\n",
      "Epoch 2/5\n"
     ]
    },
    {
     "name": "stderr",
     "output_type": "stream",
     "text": [
      "Training: 100%|██████████| 237/237 [00:09<00:00, 26.24it/s]\n"
     ]
    },
    {
     "name": "stdout",
     "output_type": "stream",
     "text": [
      "Validation Loss: 2.3461, Validation AUC-ROC: 0.6278\n",
      "Epoch 3/5\n"
     ]
    },
    {
     "name": "stderr",
     "output_type": "stream",
     "text": [
      "Training: 100%|██████████| 237/237 [00:08<00:00, 26.59it/s]\n"
     ]
    },
    {
     "name": "stdout",
     "output_type": "stream",
     "text": [
      "Validation Loss: 2.2974, Validation AUC-ROC: 0.6166\n",
      "Epoch 4/5\n"
     ]
    },
    {
     "name": "stderr",
     "output_type": "stream",
     "text": [
      "Training: 100%|██████████| 237/237 [00:09<00:00, 25.98it/s]\n"
     ]
    },
    {
     "name": "stdout",
     "output_type": "stream",
     "text": [
      "Validation Loss: 2.2709, Validation AUC-ROC: 0.6432\n",
      "Epoch 5/5\n"
     ]
    },
    {
     "name": "stderr",
     "output_type": "stream",
     "text": [
      "Training: 100%|██████████| 237/237 [00:08<00:00, 26.38it/s]\n"
     ]
    },
    {
     "name": "stdout",
     "output_type": "stream",
     "text": [
      "Validation Loss: 2.2415, Validation AUC-ROC: 0.6871\n",
      "Test AUC-ROC: 0.6864, Parameters: {'dropout': 0.5, 'hidden_dim': 256, 'lr': 0.001, 'momentum': 0.9, 'num_layers': 3, 'optimizer': 'sgd', 'weight_decay': 0.01}\n",
      "Training with parameters: {'dropout': 0.5, 'hidden_dim': 256, 'lr': 0.001, 'momentum': 0.9, 'num_layers': 3, 'optimizer': 'sgd', 'weight_decay': 0.0001}\n",
      "Epoch 1/5\n"
     ]
    },
    {
     "name": "stderr",
     "output_type": "stream",
     "text": [
      "Training: 100%|██████████| 237/237 [00:09<00:00, 26.04it/s]\n"
     ]
    },
    {
     "name": "stdout",
     "output_type": "stream",
     "text": [
      "Validation Loss: 2.4245, Validation AUC-ROC: 0.6075\n",
      "Epoch 2/5\n"
     ]
    },
    {
     "name": "stderr",
     "output_type": "stream",
     "text": [
      "Training: 100%|██████████| 237/237 [00:09<00:00, 26.30it/s]\n"
     ]
    },
    {
     "name": "stdout",
     "output_type": "stream",
     "text": [
      "Validation Loss: 2.3353, Validation AUC-ROC: 0.6043\n",
      "Epoch 3/5\n"
     ]
    },
    {
     "name": "stderr",
     "output_type": "stream",
     "text": [
      "Training: 100%|██████████| 237/237 [00:09<00:00, 26.29it/s]\n"
     ]
    },
    {
     "name": "stdout",
     "output_type": "stream",
     "text": [
      "Validation Loss: 2.2886, Validation AUC-ROC: 0.6047\n",
      "Epoch 4/5\n"
     ]
    },
    {
     "name": "stderr",
     "output_type": "stream",
     "text": [
      "Training: 100%|██████████| 237/237 [00:09<00:00, 26.32it/s]\n"
     ]
    },
    {
     "name": "stdout",
     "output_type": "stream",
     "text": [
      "Validation Loss: 2.2622, Validation AUC-ROC: 0.6562\n",
      "Epoch 5/5\n"
     ]
    },
    {
     "name": "stderr",
     "output_type": "stream",
     "text": [
      "Training: 100%|██████████| 237/237 [00:09<00:00, 26.18it/s]\n"
     ]
    },
    {
     "name": "stdout",
     "output_type": "stream",
     "text": [
      "Validation Loss: 2.2233, Validation AUC-ROC: 0.7311\n",
      "Test AUC-ROC: 0.7301, Parameters: {'dropout': 0.5, 'hidden_dim': 256, 'lr': 0.001, 'momentum': 0.9, 'num_layers': 3, 'optimizer': 'sgd', 'weight_decay': 0.0001}\n",
      "Training with parameters: {'dropout': 0.5, 'hidden_dim': 256, 'lr': 0.001, 'momentum': 0.99, 'num_layers': 2, 'optimizer': 'adam', 'weight_decay': 0.01}\n",
      "Epoch 1/5\n"
     ]
    },
    {
     "name": "stderr",
     "output_type": "stream",
     "text": [
      "Training: 100%|██████████| 237/237 [00:11<00:00, 20.58it/s]\n"
     ]
    },
    {
     "name": "stdout",
     "output_type": "stream",
     "text": [
      "Validation Loss: 1.2455, Validation AUC-ROC: 0.8936\n",
      "Epoch 2/5\n"
     ]
    },
    {
     "name": "stderr",
     "output_type": "stream",
     "text": [
      "Training: 100%|██████████| 237/237 [02:07<00:00,  1.85it/s]\n"
     ]
    },
    {
     "name": "stdout",
     "output_type": "stream",
     "text": [
      "Validation Loss: 1.1844, Validation AUC-ROC: 0.8993\n",
      "Epoch 3/5\n"
     ]
    },
    {
     "name": "stderr",
     "output_type": "stream",
     "text": [
      "Training: 100%|██████████| 237/237 [00:10<00:00, 21.96it/s]\n"
     ]
    },
    {
     "name": "stdout",
     "output_type": "stream",
     "text": [
      "Validation Loss: 1.1556, Validation AUC-ROC: 0.9039\n",
      "Epoch 4/5\n"
     ]
    },
    {
     "name": "stderr",
     "output_type": "stream",
     "text": [
      "Training: 100%|██████████| 237/237 [00:10<00:00, 22.53it/s]\n"
     ]
    },
    {
     "name": "stdout",
     "output_type": "stream",
     "text": [
      "Validation Loss: 1.1558, Validation AUC-ROC: 0.9039\n",
      "Epoch 5/5\n"
     ]
    },
    {
     "name": "stderr",
     "output_type": "stream",
     "text": [
      "Training: 100%|██████████| 237/237 [00:11<00:00, 20.62it/s]\n"
     ]
    },
    {
     "name": "stdout",
     "output_type": "stream",
     "text": [
      "Validation Loss: 1.1313, Validation AUC-ROC: 0.9047\n",
      "Test AUC-ROC: 0.9096, Parameters: {'dropout': 0.5, 'hidden_dim': 256, 'lr': 0.001, 'momentum': 0.99, 'num_layers': 2, 'optimizer': 'adam', 'weight_decay': 0.01}\n",
      "Training with parameters: {'dropout': 0.5, 'hidden_dim': 256, 'lr': 0.001, 'momentum': 0.99, 'num_layers': 2, 'optimizer': 'adam', 'weight_decay': 0.0001}\n",
      "Epoch 1/5\n"
     ]
    },
    {
     "name": "stderr",
     "output_type": "stream",
     "text": [
      "Training: 100%|██████████| 237/237 [00:11<00:00, 21.09it/s]\n"
     ]
    },
    {
     "name": "stdout",
     "output_type": "stream",
     "text": [
      "Validation Loss: 1.0190, Validation AUC-ROC: 0.9150\n",
      "Epoch 2/5\n"
     ]
    },
    {
     "name": "stderr",
     "output_type": "stream",
     "text": [
      "Training: 100%|██████████| 237/237 [00:11<00:00, 21.28it/s]\n"
     ]
    },
    {
     "name": "stdout",
     "output_type": "stream",
     "text": [
      "Validation Loss: 1.0250, Validation AUC-ROC: 0.9192\n",
      "Epoch 3/5\n"
     ]
    },
    {
     "name": "stderr",
     "output_type": "stream",
     "text": [
      "Training: 100%|██████████| 237/237 [00:10<00:00, 21.61it/s]\n"
     ]
    },
    {
     "name": "stdout",
     "output_type": "stream",
     "text": [
      "Validation Loss: 1.1648, Validation AUC-ROC: 0.9176\n",
      "Epoch 4/5\n"
     ]
    },
    {
     "name": "stderr",
     "output_type": "stream",
     "text": [
      "Training: 100%|██████████| 237/237 [00:11<00:00, 20.33it/s]\n"
     ]
    },
    {
     "name": "stdout",
     "output_type": "stream",
     "text": [
      "Validation Loss: 1.2740, Validation AUC-ROC: 0.9150\n",
      "Epoch 5/5\n"
     ]
    },
    {
     "name": "stderr",
     "output_type": "stream",
     "text": [
      "Training: 100%|██████████| 237/237 [00:11<00:00, 21.12it/s]\n"
     ]
    },
    {
     "name": "stdout",
     "output_type": "stream",
     "text": [
      "Validation Loss: 1.3309, Validation AUC-ROC: 0.9157\n",
      "Test AUC-ROC: 0.9128, Parameters: {'dropout': 0.5, 'hidden_dim': 256, 'lr': 0.001, 'momentum': 0.99, 'num_layers': 2, 'optimizer': 'adam', 'weight_decay': 0.0001}\n",
      "Training with parameters: {'dropout': 0.5, 'hidden_dim': 256, 'lr': 0.001, 'momentum': 0.99, 'num_layers': 2, 'optimizer': 'sgd', 'weight_decay': 0.01}\n",
      "Epoch 1/5\n"
     ]
    },
    {
     "name": "stderr",
     "output_type": "stream",
     "text": [
      "Training: 100%|██████████| 237/237 [00:08<00:00, 26.82it/s]\n"
     ]
    },
    {
     "name": "stdout",
     "output_type": "stream",
     "text": [
      "Validation Loss: 2.1584, Validation AUC-ROC: 0.7610\n",
      "Epoch 2/5\n"
     ]
    },
    {
     "name": "stderr",
     "output_type": "stream",
     "text": [
      "Training: 100%|██████████| 237/237 [00:08<00:00, 27.39it/s]\n"
     ]
    },
    {
     "name": "stdout",
     "output_type": "stream",
     "text": [
      "Validation Loss: 1.8138, Validation AUC-ROC: 0.8081\n",
      "Epoch 3/5\n"
     ]
    },
    {
     "name": "stderr",
     "output_type": "stream",
     "text": [
      "Training: 100%|██████████| 237/237 [00:08<00:00, 27.14it/s]\n"
     ]
    },
    {
     "name": "stdout",
     "output_type": "stream",
     "text": [
      "Validation Loss: 1.6098, Validation AUC-ROC: 0.8521\n",
      "Epoch 4/5\n"
     ]
    },
    {
     "name": "stderr",
     "output_type": "stream",
     "text": [
      "Training: 100%|██████████| 237/237 [00:08<00:00, 27.18it/s]\n"
     ]
    },
    {
     "name": "stdout",
     "output_type": "stream",
     "text": [
      "Validation Loss: 1.3909, Validation AUC-ROC: 0.8776\n",
      "Epoch 5/5\n"
     ]
    },
    {
     "name": "stderr",
     "output_type": "stream",
     "text": [
      "Training: 100%|██████████| 237/237 [00:08<00:00, 26.98it/s]\n"
     ]
    },
    {
     "name": "stdout",
     "output_type": "stream",
     "text": [
      "Validation Loss: 1.2473, Validation AUC-ROC: 0.8926\n",
      "Test AUC-ROC: 0.8962, Parameters: {'dropout': 0.5, 'hidden_dim': 256, 'lr': 0.001, 'momentum': 0.99, 'num_layers': 2, 'optimizer': 'sgd', 'weight_decay': 0.01}\n",
      "Training with parameters: {'dropout': 0.5, 'hidden_dim': 256, 'lr': 0.001, 'momentum': 0.99, 'num_layers': 2, 'optimizer': 'sgd', 'weight_decay': 0.0001}\n",
      "Epoch 1/5\n"
     ]
    },
    {
     "name": "stderr",
     "output_type": "stream",
     "text": [
      "Training: 100%|██████████| 237/237 [00:08<00:00, 26.95it/s]\n"
     ]
    },
    {
     "name": "stdout",
     "output_type": "stream",
     "text": [
      "Validation Loss: 2.1541, Validation AUC-ROC: 0.7710\n",
      "Epoch 2/5\n"
     ]
    },
    {
     "name": "stderr",
     "output_type": "stream",
     "text": [
      "Training: 100%|██████████| 237/237 [00:08<00:00, 27.26it/s]\n"
     ]
    },
    {
     "name": "stdout",
     "output_type": "stream",
     "text": [
      "Validation Loss: 1.7440, Validation AUC-ROC: 0.8289\n",
      "Epoch 3/5\n"
     ]
    },
    {
     "name": "stderr",
     "output_type": "stream",
     "text": [
      "Training: 100%|██████████| 237/237 [00:08<00:00, 28.48it/s]\n"
     ]
    },
    {
     "name": "stdout",
     "output_type": "stream",
     "text": [
      "Validation Loss: 1.3908, Validation AUC-ROC: 0.8745\n",
      "Epoch 4/5\n"
     ]
    },
    {
     "name": "stderr",
     "output_type": "stream",
     "text": [
      "Training: 100%|██████████| 237/237 [00:08<00:00, 28.31it/s]\n"
     ]
    },
    {
     "name": "stdout",
     "output_type": "stream",
     "text": [
      "Validation Loss: 1.1730, Validation AUC-ROC: 0.8978\n",
      "Epoch 5/5\n"
     ]
    },
    {
     "name": "stderr",
     "output_type": "stream",
     "text": [
      "Training: 100%|██████████| 237/237 [00:08<00:00, 28.42it/s]\n"
     ]
    },
    {
     "name": "stdout",
     "output_type": "stream",
     "text": [
      "Validation Loss: 1.0912, Validation AUC-ROC: 0.9089\n",
      "Test AUC-ROC: 0.9121, Parameters: {'dropout': 0.5, 'hidden_dim': 256, 'lr': 0.001, 'momentum': 0.99, 'num_layers': 2, 'optimizer': 'sgd', 'weight_decay': 0.0001}\n",
      "Training with parameters: {'dropout': 0.5, 'hidden_dim': 256, 'lr': 0.001, 'momentum': 0.99, 'num_layers': 3, 'optimizer': 'adam', 'weight_decay': 0.01}\n",
      "Epoch 1/5\n"
     ]
    },
    {
     "name": "stderr",
     "output_type": "stream",
     "text": [
      "Training: 100%|██████████| 237/237 [00:10<00:00, 21.93it/s]\n"
     ]
    },
    {
     "name": "stdout",
     "output_type": "stream",
     "text": [
      "Validation Loss: 1.3610, Validation AUC-ROC: 0.8747\n",
      "Epoch 2/5\n"
     ]
    },
    {
     "name": "stderr",
     "output_type": "stream",
     "text": [
      "Training: 100%|██████████| 237/237 [00:10<00:00, 22.05it/s]\n"
     ]
    },
    {
     "name": "stdout",
     "output_type": "stream",
     "text": [
      "Validation Loss: 1.2438, Validation AUC-ROC: 0.8888\n",
      "Epoch 3/5\n"
     ]
    },
    {
     "name": "stderr",
     "output_type": "stream",
     "text": [
      "Training: 100%|██████████| 237/237 [00:10<00:00, 22.16it/s]\n"
     ]
    },
    {
     "name": "stdout",
     "output_type": "stream",
     "text": [
      "Validation Loss: 1.2222, Validation AUC-ROC: 0.8923\n",
      "Epoch 4/5\n"
     ]
    },
    {
     "name": "stderr",
     "output_type": "stream",
     "text": [
      "Training: 100%|██████████| 237/237 [00:10<00:00, 22.22it/s]\n"
     ]
    },
    {
     "name": "stdout",
     "output_type": "stream",
     "text": [
      "Validation Loss: 1.2209, Validation AUC-ROC: 0.8925\n",
      "Epoch 5/5\n"
     ]
    },
    {
     "name": "stderr",
     "output_type": "stream",
     "text": [
      "Training: 100%|██████████| 237/237 [00:10<00:00, 22.04it/s]\n"
     ]
    },
    {
     "name": "stdout",
     "output_type": "stream",
     "text": [
      "Validation Loss: 1.1718, Validation AUC-ROC: 0.8994\n",
      "Test AUC-ROC: 0.9017, Parameters: {'dropout': 0.5, 'hidden_dim': 256, 'lr': 0.001, 'momentum': 0.99, 'num_layers': 3, 'optimizer': 'adam', 'weight_decay': 0.01}\n",
      "Training with parameters: {'dropout': 0.5, 'hidden_dim': 256, 'lr': 0.001, 'momentum': 0.99, 'num_layers': 3, 'optimizer': 'adam', 'weight_decay': 0.0001}\n",
      "Epoch 1/5\n"
     ]
    },
    {
     "name": "stderr",
     "output_type": "stream",
     "text": [
      "Training: 100%|██████████| 237/237 [00:10<00:00, 21.86it/s]\n"
     ]
    },
    {
     "name": "stdout",
     "output_type": "stream",
     "text": [
      "Validation Loss: 1.0980, Validation AUC-ROC: 0.9045\n",
      "Epoch 2/5\n"
     ]
    },
    {
     "name": "stderr",
     "output_type": "stream",
     "text": [
      "Training: 100%|██████████| 237/237 [00:10<00:00, 22.00it/s]\n"
     ]
    },
    {
     "name": "stdout",
     "output_type": "stream",
     "text": [
      "Validation Loss: 1.0612, Validation AUC-ROC: 0.9157\n",
      "Epoch 3/5\n"
     ]
    },
    {
     "name": "stderr",
     "output_type": "stream",
     "text": [
      "Training: 100%|██████████| 237/237 [00:10<00:00, 22.26it/s]\n"
     ]
    },
    {
     "name": "stdout",
     "output_type": "stream",
     "text": [
      "Validation Loss: 1.2078, Validation AUC-ROC: 0.9153\n",
      "Epoch 4/5\n"
     ]
    },
    {
     "name": "stderr",
     "output_type": "stream",
     "text": [
      "Training: 100%|██████████| 237/237 [00:10<00:00, 22.12it/s]\n"
     ]
    },
    {
     "name": "stdout",
     "output_type": "stream",
     "text": [
      "Validation Loss: 1.4752, Validation AUC-ROC: 0.9096\n",
      "Epoch 5/5\n"
     ]
    },
    {
     "name": "stderr",
     "output_type": "stream",
     "text": [
      "Training: 100%|██████████| 237/237 [00:10<00:00, 22.26it/s]\n"
     ]
    },
    {
     "name": "stdout",
     "output_type": "stream",
     "text": [
      "Validation Loss: 1.6132, Validation AUC-ROC: 0.9091\n",
      "Test AUC-ROC: 0.9063, Parameters: {'dropout': 0.5, 'hidden_dim': 256, 'lr': 0.001, 'momentum': 0.99, 'num_layers': 3, 'optimizer': 'adam', 'weight_decay': 0.0001}\n",
      "Training with parameters: {'dropout': 0.5, 'hidden_dim': 256, 'lr': 0.001, 'momentum': 0.99, 'num_layers': 3, 'optimizer': 'sgd', 'weight_decay': 0.01}\n",
      "Epoch 1/5\n"
     ]
    },
    {
     "name": "stderr",
     "output_type": "stream",
     "text": [
      "Training: 100%|██████████| 237/237 [00:08<00:00, 27.86it/s]\n"
     ]
    },
    {
     "name": "stdout",
     "output_type": "stream",
     "text": [
      "Validation Loss: 2.2769, Validation AUC-ROC: 0.7089\n",
      "Epoch 2/5\n"
     ]
    },
    {
     "name": "stderr",
     "output_type": "stream",
     "text": [
      "Training: 100%|██████████| 237/237 [00:08<00:00, 28.46it/s]\n"
     ]
    },
    {
     "name": "stdout",
     "output_type": "stream",
     "text": [
      "Validation Loss: 2.0493, Validation AUC-ROC: 0.7277\n",
      "Epoch 3/5\n"
     ]
    },
    {
     "name": "stderr",
     "output_type": "stream",
     "text": [
      "Training: 100%|██████████| 237/237 [00:08<00:00, 28.33it/s]\n"
     ]
    },
    {
     "name": "stdout",
     "output_type": "stream",
     "text": [
      "Validation Loss: 1.8480, Validation AUC-ROC: 0.7332\n",
      "Epoch 4/5\n"
     ]
    },
    {
     "name": "stderr",
     "output_type": "stream",
     "text": [
      "Training: 100%|██████████| 237/237 [00:08<00:00, 28.49it/s]\n"
     ]
    },
    {
     "name": "stdout",
     "output_type": "stream",
     "text": [
      "Validation Loss: 1.7901, Validation AUC-ROC: 0.7677\n",
      "Epoch 5/5\n"
     ]
    },
    {
     "name": "stderr",
     "output_type": "stream",
     "text": [
      "Training: 100%|██████████| 237/237 [00:08<00:00, 28.17it/s]\n"
     ]
    },
    {
     "name": "stdout",
     "output_type": "stream",
     "text": [
      "Validation Loss: 1.7517, Validation AUC-ROC: 0.7801\n",
      "Test AUC-ROC: 0.7853, Parameters: {'dropout': 0.5, 'hidden_dim': 256, 'lr': 0.001, 'momentum': 0.99, 'num_layers': 3, 'optimizer': 'sgd', 'weight_decay': 0.01}\n",
      "Training with parameters: {'dropout': 0.5, 'hidden_dim': 256, 'lr': 0.001, 'momentum': 0.99, 'num_layers': 3, 'optimizer': 'sgd', 'weight_decay': 0.0001}\n",
      "Epoch 1/5\n"
     ]
    },
    {
     "name": "stderr",
     "output_type": "stream",
     "text": [
      "Training: 100%|██████████| 237/237 [00:08<00:00, 27.67it/s]\n"
     ]
    },
    {
     "name": "stdout",
     "output_type": "stream",
     "text": [
      "Validation Loss: 2.2732, Validation AUC-ROC: 0.7363\n",
      "Epoch 2/5\n"
     ]
    },
    {
     "name": "stderr",
     "output_type": "stream",
     "text": [
      "Training: 100%|██████████| 237/237 [00:08<00:00, 28.17it/s]\n"
     ]
    },
    {
     "name": "stdout",
     "output_type": "stream",
     "text": [
      "Validation Loss: 1.9461, Validation AUC-ROC: 0.7681\n",
      "Epoch 3/5\n"
     ]
    },
    {
     "name": "stderr",
     "output_type": "stream",
     "text": [
      "Training: 100%|██████████| 237/237 [00:08<00:00, 28.22it/s]\n"
     ]
    },
    {
     "name": "stdout",
     "output_type": "stream",
     "text": [
      "Validation Loss: 1.7921, Validation AUC-ROC: 0.7962\n",
      "Epoch 4/5\n"
     ]
    },
    {
     "name": "stderr",
     "output_type": "stream",
     "text": [
      "Training: 100%|██████████| 237/237 [00:09<00:00, 24.39it/s]\n"
     ]
    },
    {
     "name": "stdout",
     "output_type": "stream",
     "text": [
      "Validation Loss: 1.5883, Validation AUC-ROC: 0.8367\n",
      "Epoch 5/5\n"
     ]
    },
    {
     "name": "stderr",
     "output_type": "stream",
     "text": [
      "Training: 100%|██████████| 237/237 [00:09<00:00, 25.99it/s]\n"
     ]
    },
    {
     "name": "stdout",
     "output_type": "stream",
     "text": [
      "Validation Loss: 1.3719, Validation AUC-ROC: 0.8772\n",
      "Test AUC-ROC: 0.8812, Parameters: {'dropout': 0.5, 'hidden_dim': 256, 'lr': 0.001, 'momentum': 0.99, 'num_layers': 3, 'optimizer': 'sgd', 'weight_decay': 0.0001}\n",
      "Training with parameters: {'dropout': 0.5, 'hidden_dim': 256, 'lr': 0.01, 'momentum': 0.9, 'num_layers': 2, 'optimizer': 'adam', 'weight_decay': 0.01}\n",
      "Epoch 1/5\n"
     ]
    },
    {
     "name": "stderr",
     "output_type": "stream",
     "text": [
      "Training: 100%|██████████| 237/237 [00:11<00:00, 21.05it/s]\n"
     ]
    },
    {
     "name": "stdout",
     "output_type": "stream",
     "text": [
      "Validation Loss: 1.3335, Validation AUC-ROC: 0.8767\n",
      "Epoch 2/5\n"
     ]
    },
    {
     "name": "stderr",
     "output_type": "stream",
     "text": [
      "Training: 100%|██████████| 237/237 [00:11<00:00, 21.36it/s]\n"
     ]
    },
    {
     "name": "stdout",
     "output_type": "stream",
     "text": [
      "Validation Loss: 1.3100, Validation AUC-ROC: 0.8865\n",
      "Epoch 3/5\n"
     ]
    },
    {
     "name": "stderr",
     "output_type": "stream",
     "text": [
      "Training: 100%|██████████| 237/237 [00:11<00:00, 21.01it/s]\n"
     ]
    },
    {
     "name": "stdout",
     "output_type": "stream",
     "text": [
      "Validation Loss: 1.2494, Validation AUC-ROC: 0.8881\n",
      "Epoch 4/5\n"
     ]
    },
    {
     "name": "stderr",
     "output_type": "stream",
     "text": [
      "Training: 100%|██████████| 237/237 [00:10<00:00, 21.76it/s]\n"
     ]
    },
    {
     "name": "stdout",
     "output_type": "stream",
     "text": [
      "Validation Loss: 1.2664, Validation AUC-ROC: 0.8831\n",
      "Epoch 5/5\n"
     ]
    },
    {
     "name": "stderr",
     "output_type": "stream",
     "text": [
      "Training: 100%|██████████| 237/237 [00:10<00:00, 22.03it/s]\n"
     ]
    },
    {
     "name": "stdout",
     "output_type": "stream",
     "text": [
      "Validation Loss: 1.2322, Validation AUC-ROC: 0.8931\n",
      "Test AUC-ROC: 0.8966, Parameters: {'dropout': 0.5, 'hidden_dim': 256, 'lr': 0.01, 'momentum': 0.9, 'num_layers': 2, 'optimizer': 'adam', 'weight_decay': 0.01}\n",
      "Training with parameters: {'dropout': 0.5, 'hidden_dim': 256, 'lr': 0.01, 'momentum': 0.9, 'num_layers': 2, 'optimizer': 'adam', 'weight_decay': 0.0001}\n",
      "Epoch 1/5\n"
     ]
    },
    {
     "name": "stderr",
     "output_type": "stream",
     "text": [
      "Training: 100%|██████████| 237/237 [00:10<00:00, 21.55it/s]\n"
     ]
    },
    {
     "name": "stdout",
     "output_type": "stream",
     "text": [
      "Validation Loss: 1.2428, Validation AUC-ROC: 0.8765\n",
      "Epoch 2/5\n"
     ]
    },
    {
     "name": "stderr",
     "output_type": "stream",
     "text": [
      "Training: 100%|██████████| 237/237 [00:10<00:00, 21.73it/s]\n"
     ]
    },
    {
     "name": "stdout",
     "output_type": "stream",
     "text": [
      "Validation Loss: 1.1143, Validation AUC-ROC: 0.9131\n",
      "Epoch 3/5\n"
     ]
    },
    {
     "name": "stderr",
     "output_type": "stream",
     "text": [
      "Training: 100%|██████████| 237/237 [00:11<00:00, 21.41it/s]\n"
     ]
    },
    {
     "name": "stdout",
     "output_type": "stream",
     "text": [
      "Validation Loss: 1.1488, Validation AUC-ROC: 0.9132\n",
      "Epoch 4/5\n"
     ]
    },
    {
     "name": "stderr",
     "output_type": "stream",
     "text": [
      "Training: 100%|██████████| 237/237 [00:12<00:00, 18.48it/s]\n"
     ]
    },
    {
     "name": "stdout",
     "output_type": "stream",
     "text": [
      "Validation Loss: 1.1868, Validation AUC-ROC: 0.9050\n",
      "Epoch 5/5\n"
     ]
    },
    {
     "name": "stderr",
     "output_type": "stream",
     "text": [
      "Training: 100%|██████████| 237/237 [00:10<00:00, 21.89it/s]\n"
     ]
    },
    {
     "name": "stdout",
     "output_type": "stream",
     "text": [
      "Validation Loss: 1.3170, Validation AUC-ROC: 0.9026\n",
      "Test AUC-ROC: 0.9026, Parameters: {'dropout': 0.5, 'hidden_dim': 256, 'lr': 0.01, 'momentum': 0.9, 'num_layers': 2, 'optimizer': 'adam', 'weight_decay': 0.0001}\n",
      "Training with parameters: {'dropout': 0.5, 'hidden_dim': 256, 'lr': 0.01, 'momentum': 0.9, 'num_layers': 2, 'optimizer': 'sgd', 'weight_decay': 0.01}\n",
      "Epoch 1/5\n"
     ]
    },
    {
     "name": "stderr",
     "output_type": "stream",
     "text": [
      "Training: 100%|██████████| 237/237 [00:08<00:00, 28.99it/s]\n"
     ]
    },
    {
     "name": "stdout",
     "output_type": "stream",
     "text": [
      "Validation Loss: 1.8472, Validation AUC-ROC: 0.8044\n",
      "Epoch 2/5\n"
     ]
    },
    {
     "name": "stderr",
     "output_type": "stream",
     "text": [
      "Training: 100%|██████████| 237/237 [00:08<00:00, 29.39it/s]\n"
     ]
    },
    {
     "name": "stdout",
     "output_type": "stream",
     "text": [
      "Validation Loss: 1.5659, Validation AUC-ROC: 0.8606\n",
      "Epoch 3/5\n"
     ]
    },
    {
     "name": "stderr",
     "output_type": "stream",
     "text": [
      "Training: 100%|██████████| 237/237 [00:08<00:00, 29.13it/s]\n"
     ]
    },
    {
     "name": "stdout",
     "output_type": "stream",
     "text": [
      "Validation Loss: 1.3143, Validation AUC-ROC: 0.8859\n",
      "Epoch 4/5\n"
     ]
    },
    {
     "name": "stderr",
     "output_type": "stream",
     "text": [
      "Training: 100%|██████████| 237/237 [00:08<00:00, 29.26it/s]\n"
     ]
    },
    {
     "name": "stdout",
     "output_type": "stream",
     "text": [
      "Validation Loss: 1.2198, Validation AUC-ROC: 0.8973\n",
      "Epoch 5/5\n"
     ]
    },
    {
     "name": "stderr",
     "output_type": "stream",
     "text": [
      "Training: 100%|██████████| 237/237 [00:08<00:00, 29.34it/s]\n"
     ]
    },
    {
     "name": "stdout",
     "output_type": "stream",
     "text": [
      "Validation Loss: 1.1721, Validation AUC-ROC: 0.9030\n",
      "Test AUC-ROC: 0.9065, Parameters: {'dropout': 0.5, 'hidden_dim': 256, 'lr': 0.01, 'momentum': 0.9, 'num_layers': 2, 'optimizer': 'sgd', 'weight_decay': 0.01}\n",
      "Training with parameters: {'dropout': 0.5, 'hidden_dim': 256, 'lr': 0.01, 'momentum': 0.9, 'num_layers': 2, 'optimizer': 'sgd', 'weight_decay': 0.0001}\n",
      "Epoch 1/5\n"
     ]
    },
    {
     "name": "stderr",
     "output_type": "stream",
     "text": [
      "Training: 100%|██████████| 237/237 [00:08<00:00, 27.76it/s]\n"
     ]
    },
    {
     "name": "stdout",
     "output_type": "stream",
     "text": [
      "Validation Loss: 1.8140, Validation AUC-ROC: 0.8362\n",
      "Epoch 2/5\n"
     ]
    },
    {
     "name": "stderr",
     "output_type": "stream",
     "text": [
      "Training: 100%|██████████| 237/237 [00:08<00:00, 27.46it/s]\n"
     ]
    },
    {
     "name": "stdout",
     "output_type": "stream",
     "text": [
      "Validation Loss: 1.3379, Validation AUC-ROC: 0.8864\n",
      "Epoch 3/5\n"
     ]
    },
    {
     "name": "stderr",
     "output_type": "stream",
     "text": [
      "Training: 100%|██████████| 237/237 [00:08<00:00, 28.26it/s]\n"
     ]
    },
    {
     "name": "stdout",
     "output_type": "stream",
     "text": [
      "Validation Loss: 1.1446, Validation AUC-ROC: 0.9039\n",
      "Epoch 4/5\n"
     ]
    },
    {
     "name": "stderr",
     "output_type": "stream",
     "text": [
      "Training: 100%|██████████| 237/237 [00:08<00:00, 27.37it/s]\n"
     ]
    },
    {
     "name": "stdout",
     "output_type": "stream",
     "text": [
      "Validation Loss: 1.0825, Validation AUC-ROC: 0.9121\n",
      "Epoch 5/5\n"
     ]
    },
    {
     "name": "stderr",
     "output_type": "stream",
     "text": [
      "Training: 100%|██████████| 237/237 [00:08<00:00, 27.29it/s]\n"
     ]
    },
    {
     "name": "stdout",
     "output_type": "stream",
     "text": [
      "Validation Loss: 1.0605, Validation AUC-ROC: 0.9152\n",
      "Test AUC-ROC: 0.9175, Parameters: {'dropout': 0.5, 'hidden_dim': 256, 'lr': 0.01, 'momentum': 0.9, 'num_layers': 2, 'optimizer': 'sgd', 'weight_decay': 0.0001}\n",
      "Training with parameters: {'dropout': 0.5, 'hidden_dim': 256, 'lr': 0.01, 'momentum': 0.9, 'num_layers': 3, 'optimizer': 'adam', 'weight_decay': 0.01}\n",
      "Epoch 1/5\n"
     ]
    },
    {
     "name": "stderr",
     "output_type": "stream",
     "text": [
      "Training: 100%|██████████| 237/237 [00:11<00:00, 20.26it/s]\n"
     ]
    },
    {
     "name": "stdout",
     "output_type": "stream",
     "text": [
      "Validation Loss: 1.5013, Validation AUC-ROC: 0.8549\n",
      "Epoch 2/5\n"
     ]
    },
    {
     "name": "stderr",
     "output_type": "stream",
     "text": [
      "Training: 100%|██████████| 237/237 [00:10<00:00, 21.84it/s]\n"
     ]
    },
    {
     "name": "stdout",
     "output_type": "stream",
     "text": [
      "Validation Loss: 1.3529, Validation AUC-ROC: 0.8708\n",
      "Epoch 3/5\n"
     ]
    },
    {
     "name": "stderr",
     "output_type": "stream",
     "text": [
      "Training: 100%|██████████| 237/237 [00:11<00:00, 21.29it/s]\n"
     ]
    },
    {
     "name": "stdout",
     "output_type": "stream",
     "text": [
      "Validation Loss: 1.2814, Validation AUC-ROC: 0.8825\n",
      "Epoch 4/5\n"
     ]
    },
    {
     "name": "stderr",
     "output_type": "stream",
     "text": [
      "Training: 100%|██████████| 237/237 [00:11<00:00, 21.35it/s]\n"
     ]
    },
    {
     "name": "stdout",
     "output_type": "stream",
     "text": [
      "Validation Loss: 1.3090, Validation AUC-ROC: 0.8794\n",
      "Epoch 5/5\n"
     ]
    },
    {
     "name": "stderr",
     "output_type": "stream",
     "text": [
      "Training: 100%|██████████| 237/237 [00:11<00:00, 21.19it/s]\n"
     ]
    },
    {
     "name": "stdout",
     "output_type": "stream",
     "text": [
      "Validation Loss: 1.3065, Validation AUC-ROC: 0.8827\n",
      "Test AUC-ROC: 0.8863, Parameters: {'dropout': 0.5, 'hidden_dim': 256, 'lr': 0.01, 'momentum': 0.9, 'num_layers': 3, 'optimizer': 'adam', 'weight_decay': 0.01}\n",
      "Training with parameters: {'dropout': 0.5, 'hidden_dim': 256, 'lr': 0.01, 'momentum': 0.9, 'num_layers': 3, 'optimizer': 'adam', 'weight_decay': 0.0001}\n",
      "Epoch 1/5\n"
     ]
    },
    {
     "name": "stderr",
     "output_type": "stream",
     "text": [
      "Training: 100%|██████████| 237/237 [00:11<00:00, 20.92it/s]\n"
     ]
    },
    {
     "name": "stdout",
     "output_type": "stream",
     "text": [
      "Validation Loss: 1.2935, Validation AUC-ROC: 0.8819\n",
      "Epoch 2/5\n"
     ]
    },
    {
     "name": "stderr",
     "output_type": "stream",
     "text": [
      "Training: 100%|██████████| 237/237 [00:11<00:00, 21.03it/s]\n"
     ]
    },
    {
     "name": "stdout",
     "output_type": "stream",
     "text": [
      "Validation Loss: 1.1290, Validation AUC-ROC: 0.9041\n",
      "Epoch 3/5\n"
     ]
    },
    {
     "name": "stderr",
     "output_type": "stream",
     "text": [
      "Training: 100%|██████████| 237/237 [00:11<00:00, 21.24it/s]\n"
     ]
    },
    {
     "name": "stdout",
     "output_type": "stream",
     "text": [
      "Validation Loss: 1.1141, Validation AUC-ROC: 0.9108\n",
      "Epoch 4/5\n"
     ]
    },
    {
     "name": "stderr",
     "output_type": "stream",
     "text": [
      "Training: 100%|██████████| 237/237 [00:11<00:00, 20.78it/s]\n"
     ]
    },
    {
     "name": "stdout",
     "output_type": "stream",
     "text": [
      "Validation Loss: 1.1906, Validation AUC-ROC: 0.9038\n",
      "Epoch 5/5\n"
     ]
    },
    {
     "name": "stderr",
     "output_type": "stream",
     "text": [
      "Training: 100%|██████████| 237/237 [00:10<00:00, 21.68it/s]\n"
     ]
    },
    {
     "name": "stdout",
     "output_type": "stream",
     "text": [
      "Validation Loss: 1.2192, Validation AUC-ROC: 0.9048\n",
      "Test AUC-ROC: 0.9068, Parameters: {'dropout': 0.5, 'hidden_dim': 256, 'lr': 0.01, 'momentum': 0.9, 'num_layers': 3, 'optimizer': 'adam', 'weight_decay': 0.0001}\n",
      "Training with parameters: {'dropout': 0.5, 'hidden_dim': 256, 'lr': 0.01, 'momentum': 0.9, 'num_layers': 3, 'optimizer': 'sgd', 'weight_decay': 0.01}\n",
      "Epoch 1/5\n"
     ]
    },
    {
     "name": "stderr",
     "output_type": "stream",
     "text": [
      "Training: 100%|██████████| 237/237 [00:08<00:00, 27.28it/s]\n"
     ]
    },
    {
     "name": "stdout",
     "output_type": "stream",
     "text": [
      "Validation Loss: 2.0036, Validation AUC-ROC: 0.7353\n",
      "Epoch 2/5\n"
     ]
    },
    {
     "name": "stderr",
     "output_type": "stream",
     "text": [
      "Training: 100%|██████████| 237/237 [00:08<00:00, 27.95it/s]\n"
     ]
    },
    {
     "name": "stdout",
     "output_type": "stream",
     "text": [
      "Validation Loss: 1.8277, Validation AUC-ROC: 0.7573\n",
      "Epoch 3/5\n"
     ]
    },
    {
     "name": "stderr",
     "output_type": "stream",
     "text": [
      "Training: 100%|██████████| 237/237 [00:08<00:00, 27.70it/s]\n"
     ]
    },
    {
     "name": "stdout",
     "output_type": "stream",
     "text": [
      "Validation Loss: 1.7613, Validation AUC-ROC: 0.7831\n",
      "Epoch 4/5\n"
     ]
    },
    {
     "name": "stderr",
     "output_type": "stream",
     "text": [
      "Training: 100%|██████████| 237/237 [00:08<00:00, 27.67it/s]\n"
     ]
    },
    {
     "name": "stdout",
     "output_type": "stream",
     "text": [
      "Validation Loss: 1.7009, Validation AUC-ROC: 0.8152\n",
      "Epoch 5/5\n"
     ]
    },
    {
     "name": "stderr",
     "output_type": "stream",
     "text": [
      "Training: 100%|██████████| 237/237 [00:08<00:00, 28.29it/s]\n"
     ]
    },
    {
     "name": "stdout",
     "output_type": "stream",
     "text": [
      "Validation Loss: 1.6127, Validation AUC-ROC: 0.8350\n",
      "Test AUC-ROC: 0.8406, Parameters: {'dropout': 0.5, 'hidden_dim': 256, 'lr': 0.01, 'momentum': 0.9, 'num_layers': 3, 'optimizer': 'sgd', 'weight_decay': 0.01}\n",
      "Training with parameters: {'dropout': 0.5, 'hidden_dim': 256, 'lr': 0.01, 'momentum': 0.9, 'num_layers': 3, 'optimizer': 'sgd', 'weight_decay': 0.0001}\n",
      "Epoch 1/5\n"
     ]
    },
    {
     "name": "stderr",
     "output_type": "stream",
     "text": [
      "Training: 100%|██████████| 237/237 [00:08<00:00, 27.02it/s]\n"
     ]
    },
    {
     "name": "stdout",
     "output_type": "stream",
     "text": [
      "Validation Loss: 1.9286, Validation AUC-ROC: 0.7490\n",
      "Epoch 2/5\n"
     ]
    },
    {
     "name": "stderr",
     "output_type": "stream",
     "text": [
      "Training: 100%|██████████| 237/237 [00:08<00:00, 27.18it/s]\n"
     ]
    },
    {
     "name": "stdout",
     "output_type": "stream",
     "text": [
      "Validation Loss: 1.7472, Validation AUC-ROC: 0.8207\n",
      "Epoch 3/5\n"
     ]
    },
    {
     "name": "stderr",
     "output_type": "stream",
     "text": [
      "Training: 100%|██████████| 237/237 [00:08<00:00, 27.47it/s]\n"
     ]
    },
    {
     "name": "stdout",
     "output_type": "stream",
     "text": [
      "Validation Loss: 1.4491, Validation AUC-ROC: 0.8667\n",
      "Epoch 4/5\n"
     ]
    },
    {
     "name": "stderr",
     "output_type": "stream",
     "text": [
      "Training: 100%|██████████| 237/237 [00:08<00:00, 27.84it/s]\n"
     ]
    },
    {
     "name": "stdout",
     "output_type": "stream",
     "text": [
      "Validation Loss: 1.1986, Validation AUC-ROC: 0.8966\n",
      "Epoch 5/5\n"
     ]
    },
    {
     "name": "stderr",
     "output_type": "stream",
     "text": [
      "Training: 100%|██████████| 237/237 [00:08<00:00, 27.63it/s]\n"
     ]
    },
    {
     "name": "stdout",
     "output_type": "stream",
     "text": [
      "Validation Loss: 1.1772, Validation AUC-ROC: 0.9033\n",
      "Test AUC-ROC: 0.9069, Parameters: {'dropout': 0.5, 'hidden_dim': 256, 'lr': 0.01, 'momentum': 0.9, 'num_layers': 3, 'optimizer': 'sgd', 'weight_decay': 0.0001}\n",
      "Training with parameters: {'dropout': 0.5, 'hidden_dim': 256, 'lr': 0.01, 'momentum': 0.99, 'num_layers': 2, 'optimizer': 'adam', 'weight_decay': 0.01}\n",
      "Epoch 1/5\n"
     ]
    },
    {
     "name": "stderr",
     "output_type": "stream",
     "text": [
      "Training: 100%|██████████| 237/237 [00:11<00:00, 21.33it/s]\n"
     ]
    },
    {
     "name": "stdout",
     "output_type": "stream",
     "text": [
      "Validation Loss: 1.3833, Validation AUC-ROC: 0.8749\n",
      "Epoch 2/5\n"
     ]
    },
    {
     "name": "stderr",
     "output_type": "stream",
     "text": [
      "Training: 100%|██████████| 237/237 [00:11<00:00, 21.36it/s]\n"
     ]
    },
    {
     "name": "stdout",
     "output_type": "stream",
     "text": [
      "Validation Loss: 1.3046, Validation AUC-ROC: 0.8816\n",
      "Epoch 3/5\n"
     ]
    },
    {
     "name": "stderr",
     "output_type": "stream",
     "text": [
      "Training: 100%|██████████| 237/237 [00:12<00:00, 19.69it/s]\n"
     ]
    },
    {
     "name": "stdout",
     "output_type": "stream",
     "text": [
      "Validation Loss: 1.3057, Validation AUC-ROC: 0.8827\n",
      "Epoch 4/5\n"
     ]
    },
    {
     "name": "stderr",
     "output_type": "stream",
     "text": [
      "Training: 100%|██████████| 237/237 [00:11<00:00, 21.29it/s]\n"
     ]
    },
    {
     "name": "stdout",
     "output_type": "stream",
     "text": [
      "Validation Loss: 1.3066, Validation AUC-ROC: 0.8836\n",
      "Epoch 5/5\n"
     ]
    },
    {
     "name": "stderr",
     "output_type": "stream",
     "text": [
      "Training: 100%|██████████| 237/237 [00:10<00:00, 21.98it/s]\n"
     ]
    },
    {
     "name": "stdout",
     "output_type": "stream",
     "text": [
      "Validation Loss: 1.2340, Validation AUC-ROC: 0.8892\n",
      "Test AUC-ROC: 0.8941, Parameters: {'dropout': 0.5, 'hidden_dim': 256, 'lr': 0.01, 'momentum': 0.99, 'num_layers': 2, 'optimizer': 'adam', 'weight_decay': 0.01}\n",
      "Training with parameters: {'dropout': 0.5, 'hidden_dim': 256, 'lr': 0.01, 'momentum': 0.99, 'num_layers': 2, 'optimizer': 'adam', 'weight_decay': 0.0001}\n",
      "Epoch 1/5\n"
     ]
    },
    {
     "name": "stderr",
     "output_type": "stream",
     "text": [
      "Training: 100%|██████████| 237/237 [00:10<00:00, 21.63it/s]\n"
     ]
    },
    {
     "name": "stdout",
     "output_type": "stream",
     "text": [
      "Validation Loss: 1.2553, Validation AUC-ROC: 0.8891\n",
      "Epoch 2/5\n"
     ]
    },
    {
     "name": "stderr",
     "output_type": "stream",
     "text": [
      "Training: 100%|██████████| 237/237 [00:10<00:00, 21.71it/s]\n"
     ]
    },
    {
     "name": "stdout",
     "output_type": "stream",
     "text": [
      "Validation Loss: 1.0489, Validation AUC-ROC: 0.9142\n",
      "Epoch 3/5\n"
     ]
    },
    {
     "name": "stderr",
     "output_type": "stream",
     "text": [
      "Training: 100%|██████████| 237/237 [00:10<00:00, 21.64it/s]\n"
     ]
    },
    {
     "name": "stdout",
     "output_type": "stream",
     "text": [
      "Validation Loss: 1.1306, Validation AUC-ROC: 0.9102\n",
      "Epoch 4/5\n"
     ]
    },
    {
     "name": "stderr",
     "output_type": "stream",
     "text": [
      "Training: 100%|██████████| 237/237 [00:10<00:00, 21.74it/s]\n"
     ]
    },
    {
     "name": "stdout",
     "output_type": "stream",
     "text": [
      "Validation Loss: 1.2051, Validation AUC-ROC: 0.9051\n",
      "Epoch 5/5\n"
     ]
    },
    {
     "name": "stderr",
     "output_type": "stream",
     "text": [
      "Training: 100%|██████████| 237/237 [00:10<00:00, 21.89it/s]\n"
     ]
    },
    {
     "name": "stdout",
     "output_type": "stream",
     "text": [
      "Validation Loss: 1.2834, Validation AUC-ROC: 0.9031\n",
      "Test AUC-ROC: 0.9055, Parameters: {'dropout': 0.5, 'hidden_dim': 256, 'lr': 0.01, 'momentum': 0.99, 'num_layers': 2, 'optimizer': 'adam', 'weight_decay': 0.0001}\n",
      "Training with parameters: {'dropout': 0.5, 'hidden_dim': 256, 'lr': 0.01, 'momentum': 0.99, 'num_layers': 2, 'optimizer': 'sgd', 'weight_decay': 0.01}\n",
      "Epoch 1/5\n"
     ]
    },
    {
     "name": "stderr",
     "output_type": "stream",
     "text": [
      "Training: 100%|██████████| 237/237 [00:08<00:00, 27.64it/s]\n"
     ]
    },
    {
     "name": "stdout",
     "output_type": "stream",
     "text": [
      "Validation Loss: 1.5966, Validation AUC-ROC: 0.8417\n",
      "Epoch 2/5\n"
     ]
    },
    {
     "name": "stderr",
     "output_type": "stream",
     "text": [
      "Training: 100%|██████████| 237/237 [00:08<00:00, 27.01it/s]\n"
     ]
    },
    {
     "name": "stdout",
     "output_type": "stream",
     "text": [
      "Validation Loss: 1.2141, Validation AUC-ROC: 0.8997\n",
      "Epoch 3/5\n"
     ]
    },
    {
     "name": "stderr",
     "output_type": "stream",
     "text": [
      "Training: 100%|██████████| 237/237 [00:08<00:00, 27.88it/s]\n"
     ]
    },
    {
     "name": "stdout",
     "output_type": "stream",
     "text": [
      "Validation Loss: 1.1950, Validation AUC-ROC: 0.9039\n",
      "Epoch 4/5\n"
     ]
    },
    {
     "name": "stderr",
     "output_type": "stream",
     "text": [
      "Training: 100%|██████████| 237/237 [00:08<00:00, 27.54it/s]\n"
     ]
    },
    {
     "name": "stdout",
     "output_type": "stream",
     "text": [
      "Validation Loss: 1.1859, Validation AUC-ROC: 0.8987\n",
      "Epoch 5/5\n"
     ]
    },
    {
     "name": "stderr",
     "output_type": "stream",
     "text": [
      "Training: 100%|██████████| 237/237 [00:08<00:00, 27.47it/s]\n"
     ]
    },
    {
     "name": "stdout",
     "output_type": "stream",
     "text": [
      "Validation Loss: 1.2161, Validation AUC-ROC: 0.9037\n",
      "Test AUC-ROC: 0.9074, Parameters: {'dropout': 0.5, 'hidden_dim': 256, 'lr': 0.01, 'momentum': 0.99, 'num_layers': 2, 'optimizer': 'sgd', 'weight_decay': 0.01}\n",
      "Training with parameters: {'dropout': 0.5, 'hidden_dim': 256, 'lr': 0.01, 'momentum': 0.99, 'num_layers': 2, 'optimizer': 'sgd', 'weight_decay': 0.0001}\n",
      "Epoch 1/5\n"
     ]
    },
    {
     "name": "stderr",
     "output_type": "stream",
     "text": [
      "Training: 100%|██████████| 237/237 [00:08<00:00, 26.91it/s]\n"
     ]
    },
    {
     "name": "stdout",
     "output_type": "stream",
     "text": [
      "Validation Loss: 1.2609, Validation AUC-ROC: 0.8837\n",
      "Epoch 2/5\n"
     ]
    },
    {
     "name": "stderr",
     "output_type": "stream",
     "text": [
      "Training: 100%|██████████| 237/237 [00:08<00:00, 27.60it/s]\n"
     ]
    },
    {
     "name": "stdout",
     "output_type": "stream",
     "text": [
      "Validation Loss: 1.0416, Validation AUC-ROC: 0.9170\n",
      "Epoch 3/5\n"
     ]
    },
    {
     "name": "stderr",
     "output_type": "stream",
     "text": [
      "Training: 100%|██████████| 237/237 [00:08<00:00, 26.81it/s]\n"
     ]
    },
    {
     "name": "stdout",
     "output_type": "stream",
     "text": [
      "Validation Loss: 1.1122, Validation AUC-ROC: 0.9158\n",
      "Epoch 4/5\n"
     ]
    },
    {
     "name": "stderr",
     "output_type": "stream",
     "text": [
      "Training: 100%|██████████| 237/237 [00:08<00:00, 26.96it/s]\n"
     ]
    },
    {
     "name": "stdout",
     "output_type": "stream",
     "text": [
      "Validation Loss: 1.3105, Validation AUC-ROC: 0.9123\n",
      "Epoch 5/5\n"
     ]
    },
    {
     "name": "stderr",
     "output_type": "stream",
     "text": [
      "Training: 100%|██████████| 237/237 [00:08<00:00, 27.16it/s]\n"
     ]
    },
    {
     "name": "stdout",
     "output_type": "stream",
     "text": [
      "Validation Loss: 1.4216, Validation AUC-ROC: 0.9097\n",
      "Test AUC-ROC: 0.9096, Parameters: {'dropout': 0.5, 'hidden_dim': 256, 'lr': 0.01, 'momentum': 0.99, 'num_layers': 2, 'optimizer': 'sgd', 'weight_decay': 0.0001}\n",
      "Training with parameters: {'dropout': 0.5, 'hidden_dim': 256, 'lr': 0.01, 'momentum': 0.99, 'num_layers': 3, 'optimizer': 'adam', 'weight_decay': 0.01}\n",
      "Epoch 1/5\n"
     ]
    },
    {
     "name": "stderr",
     "output_type": "stream",
     "text": [
      "Training: 100%|██████████| 237/237 [00:11<00:00, 20.95it/s]\n"
     ]
    },
    {
     "name": "stdout",
     "output_type": "stream",
     "text": [
      "Validation Loss: 1.4976, Validation AUC-ROC: 0.8614\n",
      "Epoch 2/5\n"
     ]
    },
    {
     "name": "stderr",
     "output_type": "stream",
     "text": [
      "Training: 100%|██████████| 237/237 [00:11<00:00, 20.07it/s]\n"
     ]
    },
    {
     "name": "stdout",
     "output_type": "stream",
     "text": [
      "Validation Loss: 1.3656, Validation AUC-ROC: 0.8738\n",
      "Epoch 3/5\n"
     ]
    },
    {
     "name": "stderr",
     "output_type": "stream",
     "text": [
      "Training: 100%|██████████| 237/237 [00:11<00:00, 20.48it/s]\n"
     ]
    },
    {
     "name": "stdout",
     "output_type": "stream",
     "text": [
      "Validation Loss: 1.3215, Validation AUC-ROC: 0.8768\n",
      "Epoch 4/5\n"
     ]
    },
    {
     "name": "stderr",
     "output_type": "stream",
     "text": [
      "Training: 100%|██████████| 237/237 [00:11<00:00, 20.94it/s]\n"
     ]
    },
    {
     "name": "stdout",
     "output_type": "stream",
     "text": [
      "Validation Loss: 1.3366, Validation AUC-ROC: 0.8788\n",
      "Epoch 5/5\n"
     ]
    },
    {
     "name": "stderr",
     "output_type": "stream",
     "text": [
      "Training: 100%|██████████| 237/237 [00:11<00:00, 21.07it/s]\n"
     ]
    },
    {
     "name": "stdout",
     "output_type": "stream",
     "text": [
      "Validation Loss: 1.2622, Validation AUC-ROC: 0.8849\n",
      "Test AUC-ROC: 0.8904, Parameters: {'dropout': 0.5, 'hidden_dim': 256, 'lr': 0.01, 'momentum': 0.99, 'num_layers': 3, 'optimizer': 'adam', 'weight_decay': 0.01}\n",
      "Training with parameters: {'dropout': 0.5, 'hidden_dim': 256, 'lr': 0.01, 'momentum': 0.99, 'num_layers': 3, 'optimizer': 'adam', 'weight_decay': 0.0001}\n",
      "Epoch 1/5\n"
     ]
    },
    {
     "name": "stderr",
     "output_type": "stream",
     "text": [
      "Training: 100%|██████████| 237/237 [00:11<00:00, 21.00it/s]\n"
     ]
    },
    {
     "name": "stdout",
     "output_type": "stream",
     "text": [
      "Validation Loss: 1.2825, Validation AUC-ROC: 0.8716\n",
      "Epoch 2/5\n"
     ]
    },
    {
     "name": "stderr",
     "output_type": "stream",
     "text": [
      "Training: 100%|██████████| 237/237 [00:11<00:00, 21.37it/s]\n"
     ]
    },
    {
     "name": "stdout",
     "output_type": "stream",
     "text": [
      "Validation Loss: 1.1221, Validation AUC-ROC: 0.9059\n",
      "Epoch 3/5\n"
     ]
    },
    {
     "name": "stderr",
     "output_type": "stream",
     "text": [
      "Training: 100%|██████████| 237/237 [00:10<00:00, 22.02it/s]\n"
     ]
    },
    {
     "name": "stdout",
     "output_type": "stream",
     "text": [
      "Validation Loss: 1.1332, Validation AUC-ROC: 0.9049\n",
      "Epoch 4/5\n"
     ]
    },
    {
     "name": "stderr",
     "output_type": "stream",
     "text": [
      "Training: 100%|██████████| 237/237 [00:10<00:00, 22.03it/s]\n"
     ]
    },
    {
     "name": "stdout",
     "output_type": "stream",
     "text": [
      "Validation Loss: 1.2026, Validation AUC-ROC: 0.9035\n",
      "Epoch 5/5\n"
     ]
    },
    {
     "name": "stderr",
     "output_type": "stream",
     "text": [
      "Training: 100%|██████████| 237/237 [00:11<00:00, 21.06it/s]\n"
     ]
    },
    {
     "name": "stdout",
     "output_type": "stream",
     "text": [
      "Validation Loss: 1.2024, Validation AUC-ROC: 0.9052\n",
      "Test AUC-ROC: 0.9018, Parameters: {'dropout': 0.5, 'hidden_dim': 256, 'lr': 0.01, 'momentum': 0.99, 'num_layers': 3, 'optimizer': 'adam', 'weight_decay': 0.0001}\n",
      "Training with parameters: {'dropout': 0.5, 'hidden_dim': 256, 'lr': 0.01, 'momentum': 0.99, 'num_layers': 3, 'optimizer': 'sgd', 'weight_decay': 0.01}\n",
      "Epoch 1/5\n"
     ]
    },
    {
     "name": "stderr",
     "output_type": "stream",
     "text": [
      "Training: 100%|██████████| 237/237 [00:09<00:00, 25.98it/s]\n"
     ]
    },
    {
     "name": "stdout",
     "output_type": "stream",
     "text": [
      "Validation Loss: 1.9570, Validation AUC-ROC: 0.7163\n",
      "Epoch 2/5\n"
     ]
    },
    {
     "name": "stderr",
     "output_type": "stream",
     "text": [
      "Training: 100%|██████████| 237/237 [00:08<00:00, 26.43it/s]\n"
     ]
    },
    {
     "name": "stdout",
     "output_type": "stream",
     "text": [
      "Validation Loss: 1.7068, Validation AUC-ROC: 0.7949\n",
      "Epoch 3/5\n"
     ]
    },
    {
     "name": "stderr",
     "output_type": "stream",
     "text": [
      "Training: 100%|██████████| 237/237 [00:09<00:00, 25.76it/s]\n"
     ]
    },
    {
     "name": "stdout",
     "output_type": "stream",
     "text": [
      "Validation Loss: 1.6254, Validation AUC-ROC: 0.8375\n",
      "Epoch 4/5\n"
     ]
    },
    {
     "name": "stderr",
     "output_type": "stream",
     "text": [
      "Training: 100%|██████████| 237/237 [00:08<00:00, 26.91it/s]\n"
     ]
    },
    {
     "name": "stdout",
     "output_type": "stream",
     "text": [
      "Validation Loss: 1.4390, Validation AUC-ROC: 0.8610\n",
      "Epoch 5/5\n"
     ]
    },
    {
     "name": "stderr",
     "output_type": "stream",
     "text": [
      "Training: 100%|██████████| 237/237 [00:08<00:00, 27.16it/s]\n"
     ]
    },
    {
     "name": "stdout",
     "output_type": "stream",
     "text": [
      "Validation Loss: 1.3038, Validation AUC-ROC: 0.8765\n",
      "Test AUC-ROC: 0.8757, Parameters: {'dropout': 0.5, 'hidden_dim': 256, 'lr': 0.01, 'momentum': 0.99, 'num_layers': 3, 'optimizer': 'sgd', 'weight_decay': 0.01}\n",
      "Training with parameters: {'dropout': 0.5, 'hidden_dim': 256, 'lr': 0.01, 'momentum': 0.99, 'num_layers': 3, 'optimizer': 'sgd', 'weight_decay': 0.0001}\n",
      "Epoch 1/5\n"
     ]
    },
    {
     "name": "stderr",
     "output_type": "stream",
     "text": [
      "Training: 100%|██████████| 237/237 [00:09<00:00, 26.06it/s]\n"
     ]
    },
    {
     "name": "stdout",
     "output_type": "stream",
     "text": [
      "Validation Loss: 1.8061, Validation AUC-ROC: 0.7793\n",
      "Epoch 2/5\n"
     ]
    },
    {
     "name": "stderr",
     "output_type": "stream",
     "text": [
      "Training: 100%|██████████| 237/237 [00:08<00:00, 27.01it/s]\n"
     ]
    },
    {
     "name": "stdout",
     "output_type": "stream",
     "text": [
      "Validation Loss: 1.2082, Validation AUC-ROC: 0.8913\n",
      "Epoch 3/5\n"
     ]
    },
    {
     "name": "stderr",
     "output_type": "stream",
     "text": [
      "Training: 100%|██████████| 237/237 [00:08<00:00, 26.54it/s]\n"
     ]
    },
    {
     "name": "stdout",
     "output_type": "stream",
     "text": [
      "Validation Loss: 1.0841, Validation AUC-ROC: 0.9121\n",
      "Epoch 4/5\n"
     ]
    },
    {
     "name": "stderr",
     "output_type": "stream",
     "text": [
      "Training: 100%|██████████| 237/237 [00:09<00:00, 26.26it/s]\n"
     ]
    },
    {
     "name": "stdout",
     "output_type": "stream",
     "text": [
      "Validation Loss: 1.1869, Validation AUC-ROC: 0.9110\n",
      "Epoch 5/5\n"
     ]
    },
    {
     "name": "stderr",
     "output_type": "stream",
     "text": [
      "Training: 100%|██████████| 237/237 [00:08<00:00, 26.72it/s]\n"
     ]
    },
    {
     "name": "stdout",
     "output_type": "stream",
     "text": [
      "Validation Loss: 1.3638, Validation AUC-ROC: 0.9091\n",
      "Test AUC-ROC: 0.9078, Parameters: {'dropout': 0.5, 'hidden_dim': 256, 'lr': 0.01, 'momentum': 0.99, 'num_layers': 3, 'optimizer': 'sgd', 'weight_decay': 0.0001}\n",
      "Training with parameters: {'dropout': 0.5, 'hidden_dim': 512, 'lr': 0.001, 'momentum': 0.9, 'num_layers': 2, 'optimizer': 'adam', 'weight_decay': 0.01}\n",
      "Epoch 1/5\n"
     ]
    },
    {
     "name": "stderr",
     "output_type": "stream",
     "text": [
      "Training: 100%|██████████| 237/237 [00:19<00:00, 12.41it/s]\n"
     ]
    },
    {
     "name": "stdout",
     "output_type": "stream",
     "text": [
      "Validation Loss: 1.2355, Validation AUC-ROC: 0.8963\n",
      "Epoch 2/5\n"
     ]
    },
    {
     "name": "stderr",
     "output_type": "stream",
     "text": [
      "Training: 100%|██████████| 237/237 [00:18<00:00, 12.48it/s]\n"
     ]
    },
    {
     "name": "stdout",
     "output_type": "stream",
     "text": [
      "Validation Loss: 1.1790, Validation AUC-ROC: 0.8991\n",
      "Epoch 3/5\n"
     ]
    },
    {
     "name": "stderr",
     "output_type": "stream",
     "text": [
      "Training: 100%|██████████| 237/237 [00:18<00:00, 12.65it/s]\n"
     ]
    },
    {
     "name": "stdout",
     "output_type": "stream",
     "text": [
      "Validation Loss: 1.1761, Validation AUC-ROC: 0.8984\n",
      "Epoch 4/5\n"
     ]
    },
    {
     "name": "stderr",
     "output_type": "stream",
     "text": [
      "Training: 100%|██████████| 237/237 [00:18<00:00, 12.70it/s]\n"
     ]
    },
    {
     "name": "stdout",
     "output_type": "stream",
     "text": [
      "Validation Loss: 1.1513, Validation AUC-ROC: 0.9038\n",
      "Epoch 5/5\n"
     ]
    },
    {
     "name": "stderr",
     "output_type": "stream",
     "text": [
      "Training: 100%|██████████| 237/237 [00:18<00:00, 12.72it/s]\n"
     ]
    },
    {
     "name": "stdout",
     "output_type": "stream",
     "text": [
      "Validation Loss: 1.1509, Validation AUC-ROC: 0.9025\n",
      "Test AUC-ROC: 0.9051, Parameters: {'dropout': 0.5, 'hidden_dim': 512, 'lr': 0.001, 'momentum': 0.9, 'num_layers': 2, 'optimizer': 'adam', 'weight_decay': 0.01}\n",
      "Training with parameters: {'dropout': 0.5, 'hidden_dim': 512, 'lr': 0.001, 'momentum': 0.9, 'num_layers': 2, 'optimizer': 'adam', 'weight_decay': 0.0001}\n",
      "Epoch 1/5\n"
     ]
    },
    {
     "name": "stderr",
     "output_type": "stream",
     "text": [
      "Training: 100%|██████████| 237/237 [00:18<00:00, 12.73it/s]\n"
     ]
    },
    {
     "name": "stdout",
     "output_type": "stream",
     "text": [
      "Validation Loss: 0.9942, Validation AUC-ROC: 0.9189\n",
      "Epoch 2/5\n"
     ]
    },
    {
     "name": "stderr",
     "output_type": "stream",
     "text": [
      "Training: 100%|██████████| 237/237 [00:18<00:00, 12.77it/s]\n"
     ]
    },
    {
     "name": "stdout",
     "output_type": "stream",
     "text": [
      "Validation Loss: 1.0796, Validation AUC-ROC: 0.9170\n",
      "Epoch 3/5\n"
     ]
    },
    {
     "name": "stderr",
     "output_type": "stream",
     "text": [
      "Training: 100%|██████████| 237/237 [00:18<00:00, 12.78it/s]\n"
     ]
    },
    {
     "name": "stdout",
     "output_type": "stream",
     "text": [
      "Validation Loss: 1.2220, Validation AUC-ROC: 0.9152\n",
      "Epoch 4/5\n"
     ]
    },
    {
     "name": "stderr",
     "output_type": "stream",
     "text": [
      "Training: 100%|██████████| 237/237 [00:18<00:00, 12.83it/s]\n"
     ]
    },
    {
     "name": "stdout",
     "output_type": "stream",
     "text": [
      "Validation Loss: 1.3634, Validation AUC-ROC: 0.9119\n",
      "Epoch 5/5\n"
     ]
    },
    {
     "name": "stderr",
     "output_type": "stream",
     "text": [
      "Training: 100%|██████████| 237/237 [00:18<00:00, 13.16it/s]\n"
     ]
    },
    {
     "name": "stdout",
     "output_type": "stream",
     "text": [
      "Validation Loss: 1.5188, Validation AUC-ROC: 0.9079\n",
      "Test AUC-ROC: 0.9078, Parameters: {'dropout': 0.5, 'hidden_dim': 512, 'lr': 0.001, 'momentum': 0.9, 'num_layers': 2, 'optimizer': 'adam', 'weight_decay': 0.0001}\n",
      "Training with parameters: {'dropout': 0.5, 'hidden_dim': 512, 'lr': 0.001, 'momentum': 0.9, 'num_layers': 2, 'optimizer': 'sgd', 'weight_decay': 0.01}\n",
      "Epoch 1/5\n"
     ]
    },
    {
     "name": "stderr",
     "output_type": "stream",
     "text": [
      "Training: 100%|██████████| 237/237 [00:13<00:00, 17.02it/s]\n"
     ]
    },
    {
     "name": "stdout",
     "output_type": "stream",
     "text": [
      "Validation Loss: 2.4234, Validation AUC-ROC: 0.6374\n",
      "Epoch 2/5\n"
     ]
    },
    {
     "name": "stderr",
     "output_type": "stream",
     "text": [
      "Training: 100%|██████████| 237/237 [00:13<00:00, 17.27it/s]\n"
     ]
    },
    {
     "name": "stdout",
     "output_type": "stream",
     "text": [
      "Validation Loss: 2.3022, Validation AUC-ROC: 0.6289\n",
      "Epoch 3/5\n"
     ]
    },
    {
     "name": "stderr",
     "output_type": "stream",
     "text": [
      "Training: 100%|██████████| 237/237 [00:13<00:00, 17.64it/s]\n"
     ]
    },
    {
     "name": "stdout",
     "output_type": "stream",
     "text": [
      "Validation Loss: 2.2121, Validation AUC-ROC: 0.7088\n",
      "Epoch 4/5\n"
     ]
    },
    {
     "name": "stderr",
     "output_type": "stream",
     "text": [
      "Training: 100%|██████████| 237/237 [00:13<00:00, 16.96it/s]\n"
     ]
    },
    {
     "name": "stdout",
     "output_type": "stream",
     "text": [
      "Validation Loss: 2.0985, Validation AUC-ROC: 0.7629\n",
      "Epoch 5/5\n"
     ]
    },
    {
     "name": "stderr",
     "output_type": "stream",
     "text": [
      "Training: 100%|██████████| 237/237 [00:16<00:00, 14.73it/s]\n"
     ]
    },
    {
     "name": "stdout",
     "output_type": "stream",
     "text": [
      "Validation Loss: 1.9915, Validation AUC-ROC: 0.7669\n",
      "Test AUC-ROC: 0.7684, Parameters: {'dropout': 0.5, 'hidden_dim': 512, 'lr': 0.001, 'momentum': 0.9, 'num_layers': 2, 'optimizer': 'sgd', 'weight_decay': 0.01}\n",
      "Training with parameters: {'dropout': 0.5, 'hidden_dim': 512, 'lr': 0.001, 'momentum': 0.9, 'num_layers': 2, 'optimizer': 'sgd', 'weight_decay': 0.0001}\n",
      "Epoch 1/5\n"
     ]
    },
    {
     "name": "stderr",
     "output_type": "stream",
     "text": [
      "Training: 100%|██████████| 237/237 [00:14<00:00, 16.60it/s]\n"
     ]
    },
    {
     "name": "stdout",
     "output_type": "stream",
     "text": [
      "Validation Loss: 2.4222, Validation AUC-ROC: 0.6511\n",
      "Epoch 2/5\n"
     ]
    },
    {
     "name": "stderr",
     "output_type": "stream",
     "text": [
      "Training: 100%|██████████| 237/237 [00:13<00:00, 17.83it/s]\n"
     ]
    },
    {
     "name": "stdout",
     "output_type": "stream",
     "text": [
      "Validation Loss: 2.2980, Validation AUC-ROC: 0.6537\n",
      "Epoch 3/5\n"
     ]
    },
    {
     "name": "stderr",
     "output_type": "stream",
     "text": [
      "Training: 100%|██████████| 237/237 [00:13<00:00, 17.69it/s]\n"
     ]
    },
    {
     "name": "stdout",
     "output_type": "stream",
     "text": [
      "Validation Loss: 2.2007, Validation AUC-ROC: 0.7286\n",
      "Epoch 4/5\n"
     ]
    },
    {
     "name": "stderr",
     "output_type": "stream",
     "text": [
      "Training: 100%|██████████| 237/237 [00:13<00:00, 17.92it/s]\n"
     ]
    },
    {
     "name": "stdout",
     "output_type": "stream",
     "text": [
      "Validation Loss: 2.0690, Validation AUC-ROC: 0.7741\n",
      "Epoch 5/5\n"
     ]
    },
    {
     "name": "stderr",
     "output_type": "stream",
     "text": [
      "Training: 100%|██████████| 237/237 [00:13<00:00, 17.89it/s]\n"
     ]
    },
    {
     "name": "stdout",
     "output_type": "stream",
     "text": [
      "Validation Loss: 1.9547, Validation AUC-ROC: 0.7860\n",
      "Test AUC-ROC: 0.7872, Parameters: {'dropout': 0.5, 'hidden_dim': 512, 'lr': 0.001, 'momentum': 0.9, 'num_layers': 2, 'optimizer': 'sgd', 'weight_decay': 0.0001}\n",
      "Training with parameters: {'dropout': 0.5, 'hidden_dim': 512, 'lr': 0.001, 'momentum': 0.9, 'num_layers': 3, 'optimizer': 'adam', 'weight_decay': 0.01}\n",
      "Epoch 1/5\n"
     ]
    },
    {
     "name": "stderr",
     "output_type": "stream",
     "text": [
      "Training: 100%|██████████| 237/237 [00:18<00:00, 12.93it/s]\n"
     ]
    },
    {
     "name": "stdout",
     "output_type": "stream",
     "text": [
      "Validation Loss: 1.3102, Validation AUC-ROC: 0.8812\n",
      "Epoch 2/5\n"
     ]
    },
    {
     "name": "stderr",
     "output_type": "stream",
     "text": [
      "Training: 100%|██████████| 237/237 [00:17<00:00, 13.50it/s]\n"
     ]
    },
    {
     "name": "stdout",
     "output_type": "stream",
     "text": [
      "Validation Loss: 1.2563, Validation AUC-ROC: 0.8875\n",
      "Epoch 3/5\n"
     ]
    },
    {
     "name": "stderr",
     "output_type": "stream",
     "text": [
      "Training: 100%|██████████| 237/237 [00:17<00:00, 13.51it/s]\n"
     ]
    },
    {
     "name": "stdout",
     "output_type": "stream",
     "text": [
      "Validation Loss: 1.2427, Validation AUC-ROC: 0.8899\n",
      "Epoch 4/5\n"
     ]
    },
    {
     "name": "stderr",
     "output_type": "stream",
     "text": [
      "Training: 100%|██████████| 237/237 [00:18<00:00, 13.06it/s]\n"
     ]
    },
    {
     "name": "stdout",
     "output_type": "stream",
     "text": [
      "Validation Loss: 1.1910, Validation AUC-ROC: 0.8964\n",
      "Epoch 5/5\n"
     ]
    },
    {
     "name": "stderr",
     "output_type": "stream",
     "text": [
      "Training: 100%|██████████| 237/237 [00:17<00:00, 13.20it/s]\n"
     ]
    },
    {
     "name": "stdout",
     "output_type": "stream",
     "text": [
      "Validation Loss: 1.1981, Validation AUC-ROC: 0.8983\n",
      "Test AUC-ROC: 0.8993, Parameters: {'dropout': 0.5, 'hidden_dim': 512, 'lr': 0.001, 'momentum': 0.9, 'num_layers': 3, 'optimizer': 'adam', 'weight_decay': 0.01}\n",
      "Training with parameters: {'dropout': 0.5, 'hidden_dim': 512, 'lr': 0.001, 'momentum': 0.9, 'num_layers': 3, 'optimizer': 'adam', 'weight_decay': 0.0001}\n",
      "Epoch 1/5\n"
     ]
    },
    {
     "name": "stderr",
     "output_type": "stream",
     "text": [
      "Training: 100%|██████████| 237/237 [00:17<00:00, 13.25it/s]\n"
     ]
    },
    {
     "name": "stdout",
     "output_type": "stream",
     "text": [
      "Validation Loss: 1.0606, Validation AUC-ROC: 0.9099\n",
      "Epoch 2/5\n"
     ]
    },
    {
     "name": "stderr",
     "output_type": "stream",
     "text": [
      "Training: 100%|██████████| 237/237 [00:17<00:00, 13.43it/s]\n"
     ]
    },
    {
     "name": "stdout",
     "output_type": "stream",
     "text": [
      "Validation Loss: 1.0401, Validation AUC-ROC: 0.9190\n",
      "Epoch 3/5\n"
     ]
    },
    {
     "name": "stderr",
     "output_type": "stream",
     "text": [
      "Training: 100%|██████████| 237/237 [00:17<00:00, 13.35it/s]\n"
     ]
    },
    {
     "name": "stdout",
     "output_type": "stream",
     "text": [
      "Validation Loss: 1.2429, Validation AUC-ROC: 0.9122\n",
      "Epoch 4/5\n"
     ]
    },
    {
     "name": "stderr",
     "output_type": "stream",
     "text": [
      "Training: 100%|██████████| 237/237 [00:17<00:00, 13.48it/s]\n"
     ]
    },
    {
     "name": "stdout",
     "output_type": "stream",
     "text": [
      "Validation Loss: 1.4883, Validation AUC-ROC: 0.9074\n",
      "Epoch 5/5\n"
     ]
    },
    {
     "name": "stderr",
     "output_type": "stream",
     "text": [
      "Training: 100%|██████████| 237/237 [00:18<00:00, 12.93it/s]\n"
     ]
    },
    {
     "name": "stdout",
     "output_type": "stream",
     "text": [
      "Validation Loss: 1.7861, Validation AUC-ROC: 0.9067\n",
      "Test AUC-ROC: 0.9030, Parameters: {'dropout': 0.5, 'hidden_dim': 512, 'lr': 0.001, 'momentum': 0.9, 'num_layers': 3, 'optimizer': 'adam', 'weight_decay': 0.0001}\n",
      "Training with parameters: {'dropout': 0.5, 'hidden_dim': 512, 'lr': 0.001, 'momentum': 0.9, 'num_layers': 3, 'optimizer': 'sgd', 'weight_decay': 0.01}\n",
      "Epoch 1/5\n"
     ]
    },
    {
     "name": "stderr",
     "output_type": "stream",
     "text": [
      "Training: 100%|██████████| 237/237 [00:14<00:00, 16.55it/s]\n"
     ]
    },
    {
     "name": "stdout",
     "output_type": "stream",
     "text": [
      "Validation Loss: 2.4269, Validation AUC-ROC: 0.5900\n",
      "Epoch 2/5\n"
     ]
    },
    {
     "name": "stderr",
     "output_type": "stream",
     "text": [
      "Training: 100%|██████████| 237/237 [00:14<00:00, 16.82it/s]\n"
     ]
    },
    {
     "name": "stdout",
     "output_type": "stream",
     "text": [
      "Validation Loss: 2.3418, Validation AUC-ROC: 0.6125\n",
      "Epoch 3/5\n"
     ]
    },
    {
     "name": "stderr",
     "output_type": "stream",
     "text": [
      "Training: 100%|██████████| 237/237 [00:13<00:00, 17.22it/s]\n"
     ]
    },
    {
     "name": "stdout",
     "output_type": "stream",
     "text": [
      "Validation Loss: 2.2971, Validation AUC-ROC: 0.6145\n",
      "Epoch 4/5\n"
     ]
    },
    {
     "name": "stderr",
     "output_type": "stream",
     "text": [
      "Training: 100%|██████████| 237/237 [00:14<00:00, 16.08it/s]\n"
     ]
    },
    {
     "name": "stdout",
     "output_type": "stream",
     "text": [
      "Validation Loss: 2.2731, Validation AUC-ROC: 0.6391\n",
      "Epoch 5/5\n"
     ]
    },
    {
     "name": "stderr",
     "output_type": "stream",
     "text": [
      "Training: 100%|██████████| 237/237 [00:14<00:00, 15.84it/s]\n"
     ]
    },
    {
     "name": "stdout",
     "output_type": "stream",
     "text": [
      "Validation Loss: 2.2484, Validation AUC-ROC: 0.6864\n",
      "Test AUC-ROC: 0.6862, Parameters: {'dropout': 0.5, 'hidden_dim': 512, 'lr': 0.001, 'momentum': 0.9, 'num_layers': 3, 'optimizer': 'sgd', 'weight_decay': 0.01}\n",
      "Training with parameters: {'dropout': 0.5, 'hidden_dim': 512, 'lr': 0.001, 'momentum': 0.9, 'num_layers': 3, 'optimizer': 'sgd', 'weight_decay': 0.0001}\n",
      "Epoch 1/5\n"
     ]
    },
    {
     "name": "stderr",
     "output_type": "stream",
     "text": [
      "Training: 100%|██████████| 237/237 [00:14<00:00, 16.82it/s]\n"
     ]
    },
    {
     "name": "stdout",
     "output_type": "stream",
     "text": [
      "Validation Loss: 2.4213, Validation AUC-ROC: 0.6134\n",
      "Epoch 2/5\n"
     ]
    },
    {
     "name": "stderr",
     "output_type": "stream",
     "text": [
      "Training: 100%|██████████| 237/237 [00:13<00:00, 17.55it/s]\n"
     ]
    },
    {
     "name": "stdout",
     "output_type": "stream",
     "text": [
      "Validation Loss: 2.3334, Validation AUC-ROC: 0.6418\n",
      "Epoch 3/5\n"
     ]
    },
    {
     "name": "stderr",
     "output_type": "stream",
     "text": [
      "Training: 100%|██████████| 237/237 [00:13<00:00, 17.21it/s]\n"
     ]
    },
    {
     "name": "stdout",
     "output_type": "stream",
     "text": [
      "Validation Loss: 2.2875, Validation AUC-ROC: 0.6447\n",
      "Epoch 4/5\n"
     ]
    },
    {
     "name": "stderr",
     "output_type": "stream",
     "text": [
      "Training: 100%|██████████| 237/237 [00:13<00:00, 17.41it/s]\n"
     ]
    },
    {
     "name": "stdout",
     "output_type": "stream",
     "text": [
      "Validation Loss: 2.2585, Validation AUC-ROC: 0.6878\n",
      "Epoch 5/5\n"
     ]
    },
    {
     "name": "stderr",
     "output_type": "stream",
     "text": [
      "Training: 100%|██████████| 237/237 [00:13<00:00, 17.35it/s]\n"
     ]
    },
    {
     "name": "stdout",
     "output_type": "stream",
     "text": [
      "Validation Loss: 2.2111, Validation AUC-ROC: 0.7390\n",
      "Test AUC-ROC: 0.7370, Parameters: {'dropout': 0.5, 'hidden_dim': 512, 'lr': 0.001, 'momentum': 0.9, 'num_layers': 3, 'optimizer': 'sgd', 'weight_decay': 0.0001}\n",
      "Training with parameters: {'dropout': 0.5, 'hidden_dim': 512, 'lr': 0.001, 'momentum': 0.99, 'num_layers': 2, 'optimizer': 'adam', 'weight_decay': 0.01}\n",
      "Epoch 1/5\n"
     ]
    },
    {
     "name": "stderr",
     "output_type": "stream",
     "text": [
      "Training: 100%|██████████| 237/237 [00:17<00:00, 13.26it/s]\n"
     ]
    },
    {
     "name": "stdout",
     "output_type": "stream",
     "text": [
      "Validation Loss: 1.2206, Validation AUC-ROC: 0.8935\n",
      "Epoch 2/5\n"
     ]
    },
    {
     "name": "stderr",
     "output_type": "stream",
     "text": [
      "Training: 100%|██████████| 237/237 [00:17<00:00, 13.40it/s]\n"
     ]
    },
    {
     "name": "stdout",
     "output_type": "stream",
     "text": [
      "Validation Loss: 1.1980, Validation AUC-ROC: 0.8959\n",
      "Epoch 3/5\n"
     ]
    },
    {
     "name": "stderr",
     "output_type": "stream",
     "text": [
      "Training: 100%|██████████| 237/237 [00:18<00:00, 13.07it/s]\n"
     ]
    },
    {
     "name": "stdout",
     "output_type": "stream",
     "text": [
      "Validation Loss: 1.1799, Validation AUC-ROC: 0.9027\n",
      "Epoch 4/5\n"
     ]
    },
    {
     "name": "stderr",
     "output_type": "stream",
     "text": [
      "Training: 100%|██████████| 237/237 [00:17<00:00, 13.54it/s]\n"
     ]
    },
    {
     "name": "stdout",
     "output_type": "stream",
     "text": [
      "Validation Loss: 1.1533, Validation AUC-ROC: 0.9026\n",
      "Epoch 5/5\n"
     ]
    },
    {
     "name": "stderr",
     "output_type": "stream",
     "text": [
      "Training: 100%|██████████| 237/237 [00:17<00:00, 13.34it/s]\n"
     ]
    },
    {
     "name": "stdout",
     "output_type": "stream",
     "text": [
      "Validation Loss: 1.1460, Validation AUC-ROC: 0.9079\n",
      "Test AUC-ROC: 0.9099, Parameters: {'dropout': 0.5, 'hidden_dim': 512, 'lr': 0.001, 'momentum': 0.99, 'num_layers': 2, 'optimizer': 'adam', 'weight_decay': 0.01}\n",
      "Training with parameters: {'dropout': 0.5, 'hidden_dim': 512, 'lr': 0.001, 'momentum': 0.99, 'num_layers': 2, 'optimizer': 'adam', 'weight_decay': 0.0001}\n",
      "Epoch 1/5\n"
     ]
    },
    {
     "name": "stderr",
     "output_type": "stream",
     "text": [
      "Training: 100%|██████████| 237/237 [00:18<00:00, 13.11it/s]\n"
     ]
    },
    {
     "name": "stdout",
     "output_type": "stream",
     "text": [
      "Validation Loss: 0.9955, Validation AUC-ROC: 0.9189\n",
      "Epoch 2/5\n"
     ]
    },
    {
     "name": "stderr",
     "output_type": "stream",
     "text": [
      "Training: 100%|██████████| 237/237 [00:17<00:00, 13.27it/s]\n"
     ]
    },
    {
     "name": "stdout",
     "output_type": "stream",
     "text": [
      "Validation Loss: 1.0509, Validation AUC-ROC: 0.9195\n",
      "Epoch 3/5\n"
     ]
    },
    {
     "name": "stderr",
     "output_type": "stream",
     "text": [
      "Training: 100%|██████████| 237/237 [00:18<00:00, 13.13it/s]\n"
     ]
    },
    {
     "name": "stdout",
     "output_type": "stream",
     "text": [
      "Validation Loss: 1.2646, Validation AUC-ROC: 0.9150\n",
      "Epoch 4/5\n"
     ]
    },
    {
     "name": "stderr",
     "output_type": "stream",
     "text": [
      "Training: 100%|██████████| 237/237 [00:18<00:00, 12.66it/s]\n"
     ]
    },
    {
     "name": "stdout",
     "output_type": "stream",
     "text": [
      "Validation Loss: 1.4222, Validation AUC-ROC: 0.9112\n",
      "Epoch 5/5\n"
     ]
    },
    {
     "name": "stderr",
     "output_type": "stream",
     "text": [
      "Training: 100%|██████████| 237/237 [00:18<00:00, 12.57it/s]\n"
     ]
    },
    {
     "name": "stdout",
     "output_type": "stream",
     "text": [
      "Validation Loss: 1.5639, Validation AUC-ROC: 0.9091\n",
      "Test AUC-ROC: 0.9076, Parameters: {'dropout': 0.5, 'hidden_dim': 512, 'lr': 0.001, 'momentum': 0.99, 'num_layers': 2, 'optimizer': 'adam', 'weight_decay': 0.0001}\n",
      "Training with parameters: {'dropout': 0.5, 'hidden_dim': 512, 'lr': 0.001, 'momentum': 0.99, 'num_layers': 2, 'optimizer': 'sgd', 'weight_decay': 0.01}\n",
      "Epoch 1/5\n"
     ]
    },
    {
     "name": "stderr",
     "output_type": "stream",
     "text": [
      "Training: 100%|██████████| 237/237 [00:14<00:00, 16.82it/s]\n"
     ]
    },
    {
     "name": "stdout",
     "output_type": "stream",
     "text": [
      "Validation Loss: 2.1773, Validation AUC-ROC: 0.7674\n",
      "Epoch 2/5\n"
     ]
    },
    {
     "name": "stderr",
     "output_type": "stream",
     "text": [
      "Training: 100%|██████████| 237/237 [00:13<00:00, 17.47it/s]\n"
     ]
    },
    {
     "name": "stdout",
     "output_type": "stream",
     "text": [
      "Validation Loss: 1.8231, Validation AUC-ROC: 0.8143\n",
      "Epoch 3/5\n"
     ]
    },
    {
     "name": "stderr",
     "output_type": "stream",
     "text": [
      "Training: 100%|██████████| 237/237 [00:13<00:00, 17.35it/s]\n"
     ]
    },
    {
     "name": "stdout",
     "output_type": "stream",
     "text": [
      "Validation Loss: 1.6198, Validation AUC-ROC: 0.8515\n",
      "Epoch 4/5\n"
     ]
    },
    {
     "name": "stderr",
     "output_type": "stream",
     "text": [
      "Training: 100%|██████████| 237/237 [00:13<00:00, 17.68it/s]\n"
     ]
    },
    {
     "name": "stdout",
     "output_type": "stream",
     "text": [
      "Validation Loss: 1.4211, Validation AUC-ROC: 0.8759\n",
      "Epoch 5/5\n"
     ]
    },
    {
     "name": "stderr",
     "output_type": "stream",
     "text": [
      "Training: 100%|██████████| 237/237 [00:13<00:00, 17.69it/s]\n"
     ]
    },
    {
     "name": "stdout",
     "output_type": "stream",
     "text": [
      "Validation Loss: 1.2692, Validation AUC-ROC: 0.8908\n",
      "Test AUC-ROC: 0.8948, Parameters: {'dropout': 0.5, 'hidden_dim': 512, 'lr': 0.001, 'momentum': 0.99, 'num_layers': 2, 'optimizer': 'sgd', 'weight_decay': 0.01}\n",
      "Training with parameters: {'dropout': 0.5, 'hidden_dim': 512, 'lr': 0.001, 'momentum': 0.99, 'num_layers': 2, 'optimizer': 'sgd', 'weight_decay': 0.0001}\n",
      "Epoch 1/5\n"
     ]
    },
    {
     "name": "stderr",
     "output_type": "stream",
     "text": [
      "Training: 100%|██████████| 237/237 [00:13<00:00, 17.30it/s]\n"
     ]
    },
    {
     "name": "stdout",
     "output_type": "stream",
     "text": [
      "Validation Loss: 2.1874, Validation AUC-ROC: 0.7810\n",
      "Epoch 2/5\n"
     ]
    },
    {
     "name": "stderr",
     "output_type": "stream",
     "text": [
      "Training: 100%|██████████| 237/237 [00:13<00:00, 17.11it/s]\n"
     ]
    },
    {
     "name": "stdout",
     "output_type": "stream",
     "text": [
      "Validation Loss: 1.7641, Validation AUC-ROC: 0.8380\n",
      "Epoch 3/5\n"
     ]
    },
    {
     "name": "stderr",
     "output_type": "stream",
     "text": [
      "Training: 100%|██████████| 237/237 [00:14<00:00, 16.39it/s]\n"
     ]
    },
    {
     "name": "stdout",
     "output_type": "stream",
     "text": [
      "Validation Loss: 1.3924, Validation AUC-ROC: 0.8760\n",
      "Epoch 4/5\n"
     ]
    },
    {
     "name": "stderr",
     "output_type": "stream",
     "text": [
      "Training: 100%|██████████| 237/237 [00:14<00:00, 16.34it/s]\n"
     ]
    },
    {
     "name": "stdout",
     "output_type": "stream",
     "text": [
      "Validation Loss: 1.1789, Validation AUC-ROC: 0.8978\n",
      "Epoch 5/5\n"
     ]
    },
    {
     "name": "stderr",
     "output_type": "stream",
     "text": [
      "Training: 100%|██████████| 237/237 [00:14<00:00, 16.86it/s]\n"
     ]
    },
    {
     "name": "stdout",
     "output_type": "stream",
     "text": [
      "Validation Loss: 1.1005, Validation AUC-ROC: 0.9084\n",
      "Test AUC-ROC: 0.9110, Parameters: {'dropout': 0.5, 'hidden_dim': 512, 'lr': 0.001, 'momentum': 0.99, 'num_layers': 2, 'optimizer': 'sgd', 'weight_decay': 0.0001}\n",
      "Training with parameters: {'dropout': 0.5, 'hidden_dim': 512, 'lr': 0.001, 'momentum': 0.99, 'num_layers': 3, 'optimizer': 'adam', 'weight_decay': 0.01}\n",
      "Epoch 1/5\n"
     ]
    },
    {
     "name": "stderr",
     "output_type": "stream",
     "text": [
      "Training: 100%|██████████| 237/237 [00:19<00:00, 12.18it/s]\n"
     ]
    },
    {
     "name": "stdout",
     "output_type": "stream",
     "text": [
      "Validation Loss: 1.3257, Validation AUC-ROC: 0.8749\n",
      "Epoch 2/5\n"
     ]
    },
    {
     "name": "stderr",
     "output_type": "stream",
     "text": [
      "Training: 100%|██████████| 237/237 [00:18<00:00, 12.49it/s]\n"
     ]
    },
    {
     "name": "stdout",
     "output_type": "stream",
     "text": [
      "Validation Loss: 1.2416, Validation AUC-ROC: 0.8886\n",
      "Epoch 3/5\n"
     ]
    },
    {
     "name": "stderr",
     "output_type": "stream",
     "text": [
      "Training: 100%|██████████| 237/237 [00:18<00:00, 12.77it/s]\n"
     ]
    },
    {
     "name": "stdout",
     "output_type": "stream",
     "text": [
      "Validation Loss: 1.1952, Validation AUC-ROC: 0.8944\n",
      "Epoch 4/5\n"
     ]
    },
    {
     "name": "stderr",
     "output_type": "stream",
     "text": [
      "Training: 100%|██████████| 237/237 [00:18<00:00, 12.69it/s]\n"
     ]
    },
    {
     "name": "stdout",
     "output_type": "stream",
     "text": [
      "Validation Loss: 1.1719, Validation AUC-ROC: 0.8970\n",
      "Epoch 5/5\n"
     ]
    },
    {
     "name": "stderr",
     "output_type": "stream",
     "text": [
      "Training: 100%|██████████| 237/237 [00:18<00:00, 12.69it/s]\n"
     ]
    },
    {
     "name": "stdout",
     "output_type": "stream",
     "text": [
      "Validation Loss: 1.1257, Validation AUC-ROC: 0.9012\n",
      "Test AUC-ROC: 0.9054, Parameters: {'dropout': 0.5, 'hidden_dim': 512, 'lr': 0.001, 'momentum': 0.99, 'num_layers': 3, 'optimizer': 'adam', 'weight_decay': 0.01}\n",
      "Training with parameters: {'dropout': 0.5, 'hidden_dim': 512, 'lr': 0.001, 'momentum': 0.99, 'num_layers': 3, 'optimizer': 'adam', 'weight_decay': 0.0001}\n",
      "Epoch 1/5\n"
     ]
    },
    {
     "name": "stderr",
     "output_type": "stream",
     "text": [
      "Training: 100%|██████████| 237/237 [00:19<00:00, 12.43it/s]\n"
     ]
    },
    {
     "name": "stdout",
     "output_type": "stream",
     "text": [
      "Validation Loss: 1.0651, Validation AUC-ROC: 0.9080\n",
      "Epoch 2/5\n"
     ]
    },
    {
     "name": "stderr",
     "output_type": "stream",
     "text": [
      "Training: 100%|██████████| 237/237 [00:18<00:00, 12.54it/s]\n"
     ]
    },
    {
     "name": "stdout",
     "output_type": "stream",
     "text": [
      "Validation Loss: 1.0490, Validation AUC-ROC: 0.9188\n",
      "Epoch 3/5\n"
     ]
    },
    {
     "name": "stderr",
     "output_type": "stream",
     "text": [
      "Training: 100%|██████████| 237/237 [00:18<00:00, 12.64it/s]\n"
     ]
    },
    {
     "name": "stdout",
     "output_type": "stream",
     "text": [
      "Validation Loss: 1.3203, Validation AUC-ROC: 0.9118\n",
      "Epoch 4/5\n"
     ]
    },
    {
     "name": "stderr",
     "output_type": "stream",
     "text": [
      "Training: 100%|██████████| 237/237 [00:18<00:00, 12.88it/s]\n"
     ]
    },
    {
     "name": "stdout",
     "output_type": "stream",
     "text": [
      "Validation Loss: 1.5211, Validation AUC-ROC: 0.9127\n",
      "Epoch 5/5\n"
     ]
    },
    {
     "name": "stderr",
     "output_type": "stream",
     "text": [
      "Training: 100%|██████████| 237/237 [00:18<00:00, 12.62it/s]\n"
     ]
    },
    {
     "name": "stdout",
     "output_type": "stream",
     "text": [
      "Validation Loss: 1.7827, Validation AUC-ROC: 0.9059\n",
      "Test AUC-ROC: 0.9031, Parameters: {'dropout': 0.5, 'hidden_dim': 512, 'lr': 0.001, 'momentum': 0.99, 'num_layers': 3, 'optimizer': 'adam', 'weight_decay': 0.0001}\n",
      "Training with parameters: {'dropout': 0.5, 'hidden_dim': 512, 'lr': 0.001, 'momentum': 0.99, 'num_layers': 3, 'optimizer': 'sgd', 'weight_decay': 0.01}\n",
      "Epoch 1/5\n"
     ]
    },
    {
     "name": "stderr",
     "output_type": "stream",
     "text": [
      "Training: 100%|██████████| 237/237 [00:16<00:00, 14.01it/s]\n"
     ]
    },
    {
     "name": "stdout",
     "output_type": "stream",
     "text": [
      "Validation Loss: 2.2759, Validation AUC-ROC: 0.6902\n",
      "Epoch 2/5\n"
     ]
    },
    {
     "name": "stderr",
     "output_type": "stream",
     "text": [
      "Training: 100%|██████████| 237/237 [00:14<00:00, 16.59it/s]\n"
     ]
    },
    {
     "name": "stdout",
     "output_type": "stream",
     "text": [
      "Validation Loss: 2.0824, Validation AUC-ROC: 0.7232\n",
      "Epoch 3/5\n"
     ]
    },
    {
     "name": "stderr",
     "output_type": "stream",
     "text": [
      "Training: 100%|██████████| 237/237 [00:13<00:00, 16.96it/s]\n"
     ]
    },
    {
     "name": "stdout",
     "output_type": "stream",
     "text": [
      "Validation Loss: 1.8567, Validation AUC-ROC: 0.7266\n",
      "Epoch 4/5\n"
     ]
    },
    {
     "name": "stderr",
     "output_type": "stream",
     "text": [
      "Training: 100%|██████████| 237/237 [00:13<00:00, 17.12it/s]\n"
     ]
    },
    {
     "name": "stdout",
     "output_type": "stream",
     "text": [
      "Validation Loss: 1.7989, Validation AUC-ROC: 0.7638\n",
      "Epoch 5/5\n"
     ]
    },
    {
     "name": "stderr",
     "output_type": "stream",
     "text": [
      "Training: 100%|██████████| 237/237 [00:13<00:00, 17.51it/s]\n"
     ]
    },
    {
     "name": "stdout",
     "output_type": "stream",
     "text": [
      "Validation Loss: 1.7591, Validation AUC-ROC: 0.7777\n",
      "Test AUC-ROC: 0.7832, Parameters: {'dropout': 0.5, 'hidden_dim': 512, 'lr': 0.001, 'momentum': 0.99, 'num_layers': 3, 'optimizer': 'sgd', 'weight_decay': 0.01}\n",
      "Training with parameters: {'dropout': 0.5, 'hidden_dim': 512, 'lr': 0.001, 'momentum': 0.99, 'num_layers': 3, 'optimizer': 'sgd', 'weight_decay': 0.0001}\n",
      "Epoch 1/5\n"
     ]
    },
    {
     "name": "stderr",
     "output_type": "stream",
     "text": [
      "Training: 100%|██████████| 237/237 [00:13<00:00, 17.08it/s]\n"
     ]
    },
    {
     "name": "stdout",
     "output_type": "stream",
     "text": [
      "Validation Loss: 2.2719, Validation AUC-ROC: 0.7082\n",
      "Epoch 2/5\n"
     ]
    },
    {
     "name": "stderr",
     "output_type": "stream",
     "text": [
      "Training: 100%|██████████| 237/237 [00:13<00:00, 17.14it/s]\n"
     ]
    },
    {
     "name": "stdout",
     "output_type": "stream",
     "text": [
      "Validation Loss: 1.9590, Validation AUC-ROC: 0.7766\n",
      "Epoch 3/5\n"
     ]
    },
    {
     "name": "stderr",
     "output_type": "stream",
     "text": [
      "Training: 100%|██████████| 237/237 [00:13<00:00, 17.40it/s]\n"
     ]
    },
    {
     "name": "stdout",
     "output_type": "stream",
     "text": [
      "Validation Loss: 1.7956, Validation AUC-ROC: 0.8002\n",
      "Epoch 4/5\n"
     ]
    },
    {
     "name": "stderr",
     "output_type": "stream",
     "text": [
      "Training: 100%|██████████| 237/237 [00:13<00:00, 17.63it/s]\n"
     ]
    },
    {
     "name": "stdout",
     "output_type": "stream",
     "text": [
      "Validation Loss: 1.5963, Validation AUC-ROC: 0.8397\n",
      "Epoch 5/5\n"
     ]
    },
    {
     "name": "stderr",
     "output_type": "stream",
     "text": [
      "Training: 100%|██████████| 237/237 [00:13<00:00, 17.63it/s]\n"
     ]
    },
    {
     "name": "stdout",
     "output_type": "stream",
     "text": [
      "Validation Loss: 1.3701, Validation AUC-ROC: 0.8754\n",
      "Test AUC-ROC: 0.8799, Parameters: {'dropout': 0.5, 'hidden_dim': 512, 'lr': 0.001, 'momentum': 0.99, 'num_layers': 3, 'optimizer': 'sgd', 'weight_decay': 0.0001}\n",
      "Training with parameters: {'dropout': 0.5, 'hidden_dim': 512, 'lr': 0.01, 'momentum': 0.9, 'num_layers': 2, 'optimizer': 'adam', 'weight_decay': 0.01}\n",
      "Epoch 1/5\n"
     ]
    },
    {
     "name": "stderr",
     "output_type": "stream",
     "text": [
      "Training: 100%|██████████| 237/237 [00:17<00:00, 13.18it/s]\n"
     ]
    },
    {
     "name": "stdout",
     "output_type": "stream",
     "text": [
      "Validation Loss: 1.4594, Validation AUC-ROC: 0.8602\n",
      "Epoch 2/5\n"
     ]
    },
    {
     "name": "stderr",
     "output_type": "stream",
     "text": [
      "Training: 100%|██████████| 237/237 [00:17<00:00, 13.26it/s]\n"
     ]
    },
    {
     "name": "stdout",
     "output_type": "stream",
     "text": [
      "Validation Loss: 1.3064, Validation AUC-ROC: 0.8816\n",
      "Epoch 3/5\n"
     ]
    },
    {
     "name": "stderr",
     "output_type": "stream",
     "text": [
      "Training: 100%|██████████| 237/237 [00:17<00:00, 13.65it/s]\n"
     ]
    },
    {
     "name": "stdout",
     "output_type": "stream",
     "text": [
      "Validation Loss: 1.2752, Validation AUC-ROC: 0.8824\n",
      "Epoch 4/5\n"
     ]
    },
    {
     "name": "stderr",
     "output_type": "stream",
     "text": [
      "Training: 100%|██████████| 237/237 [00:17<00:00, 13.63it/s]\n"
     ]
    },
    {
     "name": "stdout",
     "output_type": "stream",
     "text": [
      "Validation Loss: 1.2803, Validation AUC-ROC: 0.8875\n",
      "Epoch 5/5\n"
     ]
    },
    {
     "name": "stderr",
     "output_type": "stream",
     "text": [
      "Training: 100%|██████████| 237/237 [00:17<00:00, 13.42it/s]\n"
     ]
    },
    {
     "name": "stdout",
     "output_type": "stream",
     "text": [
      "Validation Loss: 1.2341, Validation AUC-ROC: 0.8924\n",
      "Test AUC-ROC: 0.8961, Parameters: {'dropout': 0.5, 'hidden_dim': 512, 'lr': 0.01, 'momentum': 0.9, 'num_layers': 2, 'optimizer': 'adam', 'weight_decay': 0.01}\n",
      "Training with parameters: {'dropout': 0.5, 'hidden_dim': 512, 'lr': 0.01, 'momentum': 0.9, 'num_layers': 2, 'optimizer': 'adam', 'weight_decay': 0.0001}\n",
      "Epoch 1/5\n"
     ]
    },
    {
     "name": "stderr",
     "output_type": "stream",
     "text": [
      "Training: 100%|██████████| 237/237 [00:17<00:00, 13.31it/s]\n"
     ]
    },
    {
     "name": "stdout",
     "output_type": "stream",
     "text": [
      "Validation Loss: 1.3468, Validation AUC-ROC: 0.8778\n",
      "Epoch 2/5\n"
     ]
    },
    {
     "name": "stderr",
     "output_type": "stream",
     "text": [
      "Training: 100%|██████████| 237/237 [00:18<00:00, 13.07it/s]\n"
     ]
    },
    {
     "name": "stdout",
     "output_type": "stream",
     "text": [
      "Validation Loss: 1.1153, Validation AUC-ROC: 0.9073\n",
      "Epoch 3/5\n"
     ]
    },
    {
     "name": "stderr",
     "output_type": "stream",
     "text": [
      "Training: 100%|██████████| 237/237 [00:17<00:00, 13.18it/s]\n"
     ]
    },
    {
     "name": "stdout",
     "output_type": "stream",
     "text": [
      "Validation Loss: 1.1614, Validation AUC-ROC: 0.9050\n",
      "Epoch 4/5\n"
     ]
    },
    {
     "name": "stderr",
     "output_type": "stream",
     "text": [
      "Training: 100%|██████████| 237/237 [00:18<00:00, 13.14it/s]\n"
     ]
    },
    {
     "name": "stdout",
     "output_type": "stream",
     "text": [
      "Validation Loss: 1.2379, Validation AUC-ROC: 0.9048\n",
      "Epoch 5/5\n"
     ]
    },
    {
     "name": "stderr",
     "output_type": "stream",
     "text": [
      "Training: 100%|██████████| 237/237 [00:17<00:00, 13.22it/s]\n"
     ]
    },
    {
     "name": "stdout",
     "output_type": "stream",
     "text": [
      "Validation Loss: 1.2123, Validation AUC-ROC: 0.9067\n",
      "Test AUC-ROC: 0.9081, Parameters: {'dropout': 0.5, 'hidden_dim': 512, 'lr': 0.01, 'momentum': 0.9, 'num_layers': 2, 'optimizer': 'adam', 'weight_decay': 0.0001}\n",
      "Training with parameters: {'dropout': 0.5, 'hidden_dim': 512, 'lr': 0.01, 'momentum': 0.9, 'num_layers': 2, 'optimizer': 'sgd', 'weight_decay': 0.01}\n",
      "Epoch 1/5\n"
     ]
    },
    {
     "name": "stderr",
     "output_type": "stream",
     "text": [
      "Training: 100%|██████████| 237/237 [00:13<00:00, 17.83it/s]\n"
     ]
    },
    {
     "name": "stdout",
     "output_type": "stream",
     "text": [
      "Validation Loss: 1.8637, Validation AUC-ROC: 0.7965\n",
      "Epoch 2/5\n"
     ]
    },
    {
     "name": "stderr",
     "output_type": "stream",
     "text": [
      "Training: 100%|██████████| 237/237 [00:13<00:00, 16.94it/s]\n"
     ]
    },
    {
     "name": "stdout",
     "output_type": "stream",
     "text": [
      "Validation Loss: 1.5917, Validation AUC-ROC: 0.8555\n",
      "Epoch 3/5\n"
     ]
    },
    {
     "name": "stderr",
     "output_type": "stream",
     "text": [
      "Training: 100%|██████████| 237/237 [00:13<00:00, 17.04it/s]\n"
     ]
    },
    {
     "name": "stdout",
     "output_type": "stream",
     "text": [
      "Validation Loss: 1.3410, Validation AUC-ROC: 0.8852\n",
      "Epoch 4/5\n"
     ]
    },
    {
     "name": "stderr",
     "output_type": "stream",
     "text": [
      "Training: 100%|██████████| 237/237 [00:14<00:00, 15.95it/s]\n"
     ]
    },
    {
     "name": "stdout",
     "output_type": "stream",
     "text": [
      "Validation Loss: 1.2344, Validation AUC-ROC: 0.8958\n",
      "Epoch 5/5\n"
     ]
    },
    {
     "name": "stderr",
     "output_type": "stream",
     "text": [
      "Training: 100%|██████████| 237/237 [00:14<00:00, 16.79it/s]\n"
     ]
    },
    {
     "name": "stdout",
     "output_type": "stream",
     "text": [
      "Validation Loss: 1.1856, Validation AUC-ROC: 0.9025\n",
      "Test AUC-ROC: 0.9052, Parameters: {'dropout': 0.5, 'hidden_dim': 512, 'lr': 0.01, 'momentum': 0.9, 'num_layers': 2, 'optimizer': 'sgd', 'weight_decay': 0.01}\n",
      "Training with parameters: {'dropout': 0.5, 'hidden_dim': 512, 'lr': 0.01, 'momentum': 0.9, 'num_layers': 2, 'optimizer': 'sgd', 'weight_decay': 0.0001}\n",
      "Epoch 1/5\n"
     ]
    },
    {
     "name": "stderr",
     "output_type": "stream",
     "text": [
      "Training: 100%|██████████| 237/237 [00:13<00:00, 17.52it/s]\n"
     ]
    },
    {
     "name": "stdout",
     "output_type": "stream",
     "text": [
      "Validation Loss: 1.8055, Validation AUC-ROC: 0.8305\n",
      "Epoch 2/5\n"
     ]
    },
    {
     "name": "stderr",
     "output_type": "stream",
     "text": [
      "Training: 100%|██████████| 237/237 [00:14<00:00, 16.89it/s]\n"
     ]
    },
    {
     "name": "stdout",
     "output_type": "stream",
     "text": [
      "Validation Loss: 1.3487, Validation AUC-ROC: 0.8836\n",
      "Epoch 3/5\n"
     ]
    },
    {
     "name": "stderr",
     "output_type": "stream",
     "text": [
      "Training: 100%|██████████| 237/237 [00:14<00:00, 16.89it/s]\n"
     ]
    },
    {
     "name": "stdout",
     "output_type": "stream",
     "text": [
      "Validation Loss: 1.1523, Validation AUC-ROC: 0.9038\n",
      "Epoch 4/5\n"
     ]
    },
    {
     "name": "stderr",
     "output_type": "stream",
     "text": [
      "Training: 100%|██████████| 237/237 [00:15<00:00, 15.55it/s]\n"
     ]
    },
    {
     "name": "stdout",
     "output_type": "stream",
     "text": [
      "Validation Loss: 1.0858, Validation AUC-ROC: 0.9122\n",
      "Epoch 5/5\n"
     ]
    },
    {
     "name": "stderr",
     "output_type": "stream",
     "text": [
      "Training: 100%|██████████| 237/237 [00:14<00:00, 16.88it/s]\n"
     ]
    },
    {
     "name": "stdout",
     "output_type": "stream",
     "text": [
      "Validation Loss: 1.0701, Validation AUC-ROC: 0.9156\n",
      "Test AUC-ROC: 0.9157, Parameters: {'dropout': 0.5, 'hidden_dim': 512, 'lr': 0.01, 'momentum': 0.9, 'num_layers': 2, 'optimizer': 'sgd', 'weight_decay': 0.0001}\n",
      "Training with parameters: {'dropout': 0.5, 'hidden_dim': 512, 'lr': 0.01, 'momentum': 0.9, 'num_layers': 3, 'optimizer': 'adam', 'weight_decay': 0.01}\n",
      "Epoch 1/5\n"
     ]
    },
    {
     "name": "stderr",
     "output_type": "stream",
     "text": [
      "Training: 100%|██████████| 237/237 [00:20<00:00, 11.48it/s]\n"
     ]
    },
    {
     "name": "stdout",
     "output_type": "stream",
     "text": [
      "Validation Loss: 1.4349, Validation AUC-ROC: 0.8665\n",
      "Epoch 2/5\n"
     ]
    },
    {
     "name": "stderr",
     "output_type": "stream",
     "text": [
      "Training: 100%|██████████| 237/237 [00:18<00:00, 12.96it/s]\n"
     ]
    },
    {
     "name": "stdout",
     "output_type": "stream",
     "text": [
      "Validation Loss: 1.2972, Validation AUC-ROC: 0.8784\n",
      "Epoch 3/5\n"
     ]
    },
    {
     "name": "stderr",
     "output_type": "stream",
     "text": [
      "Training: 100%|██████████| 237/237 [00:17<00:00, 13.32it/s]\n"
     ]
    },
    {
     "name": "stdout",
     "output_type": "stream",
     "text": [
      "Validation Loss: 1.2881, Validation AUC-ROC: 0.8777\n",
      "Epoch 4/5\n"
     ]
    },
    {
     "name": "stderr",
     "output_type": "stream",
     "text": [
      "Training: 100%|██████████| 237/237 [00:17<00:00, 13.42it/s]\n"
     ]
    },
    {
     "name": "stdout",
     "output_type": "stream",
     "text": [
      "Validation Loss: 1.3010, Validation AUC-ROC: 0.8829\n",
      "Epoch 5/5\n"
     ]
    },
    {
     "name": "stderr",
     "output_type": "stream",
     "text": [
      "Training: 100%|██████████| 237/237 [00:17<00:00, 13.42it/s]\n"
     ]
    },
    {
     "name": "stdout",
     "output_type": "stream",
     "text": [
      "Validation Loss: 1.2480, Validation AUC-ROC: 0.8846\n",
      "Test AUC-ROC: 0.8882, Parameters: {'dropout': 0.5, 'hidden_dim': 512, 'lr': 0.01, 'momentum': 0.9, 'num_layers': 3, 'optimizer': 'adam', 'weight_decay': 0.01}\n",
      "Training with parameters: {'dropout': 0.5, 'hidden_dim': 512, 'lr': 0.01, 'momentum': 0.9, 'num_layers': 3, 'optimizer': 'adam', 'weight_decay': 0.0001}\n",
      "Epoch 1/5\n"
     ]
    },
    {
     "name": "stderr",
     "output_type": "stream",
     "text": [
      "Training: 100%|██████████| 237/237 [00:18<00:00, 12.74it/s]\n"
     ]
    },
    {
     "name": "stdout",
     "output_type": "stream",
     "text": [
      "Validation Loss: 1.4485, Validation AUC-ROC: 0.8759\n",
      "Epoch 2/5\n"
     ]
    },
    {
     "name": "stderr",
     "output_type": "stream",
     "text": [
      "Training: 100%|██████████| 237/237 [00:18<00:00, 12.77it/s]\n"
     ]
    },
    {
     "name": "stdout",
     "output_type": "stream",
     "text": [
      "Validation Loss: 1.1138, Validation AUC-ROC: 0.9011\n",
      "Epoch 3/5\n"
     ]
    },
    {
     "name": "stderr",
     "output_type": "stream",
     "text": [
      "Training: 100%|██████████| 237/237 [00:18<00:00, 13.02it/s]\n"
     ]
    },
    {
     "name": "stdout",
     "output_type": "stream",
     "text": [
      "Validation Loss: 1.1367, Validation AUC-ROC: 0.9049\n",
      "Epoch 4/5\n"
     ]
    },
    {
     "name": "stderr",
     "output_type": "stream",
     "text": [
      "Training: 100%|██████████| 237/237 [00:18<00:00, 12.88it/s]\n"
     ]
    },
    {
     "name": "stdout",
     "output_type": "stream",
     "text": [
      "Validation Loss: 1.1995, Validation AUC-ROC: 0.9047\n",
      "Epoch 5/5\n"
     ]
    },
    {
     "name": "stderr",
     "output_type": "stream",
     "text": [
      "Training: 100%|██████████| 237/237 [00:18<00:00, 13.05it/s]\n"
     ]
    },
    {
     "name": "stdout",
     "output_type": "stream",
     "text": [
      "Validation Loss: 1.2657, Validation AUC-ROC: 0.8995\n",
      "Test AUC-ROC: 0.8996, Parameters: {'dropout': 0.5, 'hidden_dim': 512, 'lr': 0.01, 'momentum': 0.9, 'num_layers': 3, 'optimizer': 'adam', 'weight_decay': 0.0001}\n",
      "Training with parameters: {'dropout': 0.5, 'hidden_dim': 512, 'lr': 0.01, 'momentum': 0.9, 'num_layers': 3, 'optimizer': 'sgd', 'weight_decay': 0.01}\n",
      "Epoch 1/5\n"
     ]
    },
    {
     "name": "stderr",
     "output_type": "stream",
     "text": [
      "Training: 100%|██████████| 237/237 [00:13<00:00, 17.07it/s]\n"
     ]
    },
    {
     "name": "stdout",
     "output_type": "stream",
     "text": [
      "Validation Loss: 2.0307, Validation AUC-ROC: 0.7317\n",
      "Epoch 2/5\n"
     ]
    },
    {
     "name": "stderr",
     "output_type": "stream",
     "text": [
      "Training: 100%|██████████| 237/237 [00:13<00:00, 17.70it/s]\n"
     ]
    },
    {
     "name": "stdout",
     "output_type": "stream",
     "text": [
      "Validation Loss: 1.8384, Validation AUC-ROC: 0.7565\n",
      "Epoch 3/5\n"
     ]
    },
    {
     "name": "stderr",
     "output_type": "stream",
     "text": [
      "Training: 100%|██████████| 237/237 [00:13<00:00, 17.88it/s]\n"
     ]
    },
    {
     "name": "stdout",
     "output_type": "stream",
     "text": [
      "Validation Loss: 1.7685, Validation AUC-ROC: 0.7853\n",
      "Epoch 4/5\n"
     ]
    },
    {
     "name": "stderr",
     "output_type": "stream",
     "text": [
      "Training: 100%|██████████| 237/237 [00:13<00:00, 17.74it/s]\n"
     ]
    },
    {
     "name": "stdout",
     "output_type": "stream",
     "text": [
      "Validation Loss: 1.6801, Validation AUC-ROC: 0.8234\n",
      "Epoch 5/5\n"
     ]
    },
    {
     "name": "stderr",
     "output_type": "stream",
     "text": [
      "Training: 100%|██████████| 237/237 [00:13<00:00, 17.86it/s]\n"
     ]
    },
    {
     "name": "stdout",
     "output_type": "stream",
     "text": [
      "Validation Loss: 1.5804, Validation AUC-ROC: 0.8476\n",
      "Test AUC-ROC: 0.8527, Parameters: {'dropout': 0.5, 'hidden_dim': 512, 'lr': 0.01, 'momentum': 0.9, 'num_layers': 3, 'optimizer': 'sgd', 'weight_decay': 0.01}\n",
      "Training with parameters: {'dropout': 0.5, 'hidden_dim': 512, 'lr': 0.01, 'momentum': 0.9, 'num_layers': 3, 'optimizer': 'sgd', 'weight_decay': 0.0001}\n",
      "Epoch 1/5\n"
     ]
    },
    {
     "name": "stderr",
     "output_type": "stream",
     "text": [
      "Training: 100%|██████████| 237/237 [00:13<00:00, 17.52it/s]\n"
     ]
    },
    {
     "name": "stdout",
     "output_type": "stream",
     "text": [
      "Validation Loss: 1.9595, Validation AUC-ROC: 0.7517\n",
      "Epoch 2/5\n"
     ]
    },
    {
     "name": "stderr",
     "output_type": "stream",
     "text": [
      "Training: 100%|██████████| 237/237 [00:13<00:00, 17.62it/s]\n"
     ]
    },
    {
     "name": "stdout",
     "output_type": "stream",
     "text": [
      "Validation Loss: 1.7509, Validation AUC-ROC: 0.8179\n",
      "Epoch 3/5\n"
     ]
    },
    {
     "name": "stderr",
     "output_type": "stream",
     "text": [
      "Training: 100%|██████████| 237/237 [00:13<00:00, 17.72it/s]\n"
     ]
    },
    {
     "name": "stdout",
     "output_type": "stream",
     "text": [
      "Validation Loss: 1.3800, Validation AUC-ROC: 0.8768\n",
      "Epoch 4/5\n"
     ]
    },
    {
     "name": "stderr",
     "output_type": "stream",
     "text": [
      "Training: 100%|██████████| 237/237 [00:13<00:00, 17.70it/s]\n"
     ]
    },
    {
     "name": "stdout",
     "output_type": "stream",
     "text": [
      "Validation Loss: 1.1855, Validation AUC-ROC: 0.8965\n",
      "Epoch 5/5\n"
     ]
    },
    {
     "name": "stderr",
     "output_type": "stream",
     "text": [
      "Training: 100%|██████████| 237/237 [00:13<00:00, 17.86it/s]\n"
     ]
    },
    {
     "name": "stdout",
     "output_type": "stream",
     "text": [
      "Validation Loss: 1.1161, Validation AUC-ROC: 0.9084\n",
      "Test AUC-ROC: 0.9107, Parameters: {'dropout': 0.5, 'hidden_dim': 512, 'lr': 0.01, 'momentum': 0.9, 'num_layers': 3, 'optimizer': 'sgd', 'weight_decay': 0.0001}\n",
      "Training with parameters: {'dropout': 0.5, 'hidden_dim': 512, 'lr': 0.01, 'momentum': 0.99, 'num_layers': 2, 'optimizer': 'adam', 'weight_decay': 0.01}\n",
      "Epoch 1/5\n"
     ]
    },
    {
     "name": "stderr",
     "output_type": "stream",
     "text": [
      "Training: 100%|██████████| 237/237 [00:17<00:00, 13.26it/s]\n"
     ]
    },
    {
     "name": "stdout",
     "output_type": "stream",
     "text": [
      "Validation Loss: 1.4189, Validation AUC-ROC: 0.8690\n",
      "Epoch 2/5\n"
     ]
    },
    {
     "name": "stderr",
     "output_type": "stream",
     "text": [
      "Training: 100%|██████████| 237/237 [00:17<00:00, 13.64it/s]\n"
     ]
    },
    {
     "name": "stdout",
     "output_type": "stream",
     "text": [
      "Validation Loss: 1.2935, Validation AUC-ROC: 0.8835\n",
      "Epoch 3/5\n"
     ]
    },
    {
     "name": "stderr",
     "output_type": "stream",
     "text": [
      "Training: 100%|██████████| 237/237 [00:17<00:00, 13.46it/s]\n"
     ]
    },
    {
     "name": "stdout",
     "output_type": "stream",
     "text": [
      "Validation Loss: 1.3527, Validation AUC-ROC: 0.8777\n",
      "Epoch 4/5\n"
     ]
    },
    {
     "name": "stderr",
     "output_type": "stream",
     "text": [
      "Training: 100%|██████████| 237/237 [00:17<00:00, 13.41it/s]\n"
     ]
    },
    {
     "name": "stdout",
     "output_type": "stream",
     "text": [
      "Validation Loss: 1.2465, Validation AUC-ROC: 0.8850\n",
      "Epoch 5/5\n"
     ]
    },
    {
     "name": "stderr",
     "output_type": "stream",
     "text": [
      "Training: 100%|██████████| 237/237 [00:18<00:00, 12.99it/s]\n"
     ]
    },
    {
     "name": "stdout",
     "output_type": "stream",
     "text": [
      "Validation Loss: 1.2419, Validation AUC-ROC: 0.8869\n",
      "Test AUC-ROC: 0.8923, Parameters: {'dropout': 0.5, 'hidden_dim': 512, 'lr': 0.01, 'momentum': 0.99, 'num_layers': 2, 'optimizer': 'adam', 'weight_decay': 0.01}\n",
      "Training with parameters: {'dropout': 0.5, 'hidden_dim': 512, 'lr': 0.01, 'momentum': 0.99, 'num_layers': 2, 'optimizer': 'adam', 'weight_decay': 0.0001}\n",
      "Epoch 1/5\n"
     ]
    },
    {
     "name": "stderr",
     "output_type": "stream",
     "text": [
      "Training: 100%|██████████| 237/237 [00:18<00:00, 12.53it/s]\n"
     ]
    },
    {
     "name": "stdout",
     "output_type": "stream",
     "text": [
      "Validation Loss: 1.3003, Validation AUC-ROC: 0.8850\n",
      "Epoch 2/5\n"
     ]
    },
    {
     "name": "stderr",
     "output_type": "stream",
     "text": [
      "Training: 100%|██████████| 237/237 [00:19<00:00, 12.35it/s]\n"
     ]
    },
    {
     "name": "stdout",
     "output_type": "stream",
     "text": [
      "Validation Loss: 1.0649, Validation AUC-ROC: 0.9104\n",
      "Epoch 3/5\n"
     ]
    },
    {
     "name": "stderr",
     "output_type": "stream",
     "text": [
      "Training: 100%|██████████| 237/237 [00:23<00:00, 10.00it/s]\n"
     ]
    },
    {
     "name": "stdout",
     "output_type": "stream",
     "text": [
      "Validation Loss: 1.2263, Validation AUC-ROC: 0.9076\n",
      "Epoch 4/5\n"
     ]
    },
    {
     "name": "stderr",
     "output_type": "stream",
     "text": [
      "Training: 100%|██████████| 237/237 [00:23<00:00, 10.20it/s]\n"
     ]
    },
    {
     "name": "stdout",
     "output_type": "stream",
     "text": [
      "Validation Loss: 1.2325, Validation AUC-ROC: 0.9020\n",
      "Epoch 5/5\n"
     ]
    },
    {
     "name": "stderr",
     "output_type": "stream",
     "text": [
      "Training: 100%|██████████| 237/237 [00:23<00:00, 10.20it/s]\n"
     ]
    },
    {
     "name": "stdout",
     "output_type": "stream",
     "text": [
      "Validation Loss: 1.2760, Validation AUC-ROC: 0.9039\n",
      "Test AUC-ROC: 0.9052, Parameters: {'dropout': 0.5, 'hidden_dim': 512, 'lr': 0.01, 'momentum': 0.99, 'num_layers': 2, 'optimizer': 'adam', 'weight_decay': 0.0001}\n",
      "Training with parameters: {'dropout': 0.5, 'hidden_dim': 512, 'lr': 0.01, 'momentum': 0.99, 'num_layers': 2, 'optimizer': 'sgd', 'weight_decay': 0.01}\n",
      "Epoch 1/5\n"
     ]
    },
    {
     "name": "stderr",
     "output_type": "stream",
     "text": [
      "Training: 100%|██████████| 237/237 [00:19<00:00, 12.40it/s]\n"
     ]
    },
    {
     "name": "stdout",
     "output_type": "stream",
     "text": [
      "Validation Loss: 1.6069, Validation AUC-ROC: 0.8416\n",
      "Epoch 2/5\n"
     ]
    },
    {
     "name": "stderr",
     "output_type": "stream",
     "text": [
      "Training: 100%|██████████| 237/237 [00:18<00:00, 12.93it/s]\n"
     ]
    },
    {
     "name": "stdout",
     "output_type": "stream",
     "text": [
      "Validation Loss: 1.2258, Validation AUC-ROC: 0.8983\n",
      "Epoch 3/5\n"
     ]
    },
    {
     "name": "stderr",
     "output_type": "stream",
     "text": [
      "Training: 100%|██████████| 237/237 [00:18<00:00, 12.84it/s]\n"
     ]
    },
    {
     "name": "stdout",
     "output_type": "stream",
     "text": [
      "Validation Loss: 1.1860, Validation AUC-ROC: 0.9005\n",
      "Epoch 4/5\n"
     ]
    },
    {
     "name": "stderr",
     "output_type": "stream",
     "text": [
      "Training: 100%|██████████| 237/237 [00:18<00:00, 12.86it/s]\n"
     ]
    },
    {
     "name": "stdout",
     "output_type": "stream",
     "text": [
      "Validation Loss: 1.1953, Validation AUC-ROC: 0.9034\n",
      "Epoch 5/5\n"
     ]
    },
    {
     "name": "stderr",
     "output_type": "stream",
     "text": [
      "Training: 100%|██████████| 237/237 [00:18<00:00, 12.66it/s]\n"
     ]
    },
    {
     "name": "stdout",
     "output_type": "stream",
     "text": [
      "Validation Loss: 1.1781, Validation AUC-ROC: 0.8986\n",
      "Test AUC-ROC: 0.9015, Parameters: {'dropout': 0.5, 'hidden_dim': 512, 'lr': 0.01, 'momentum': 0.99, 'num_layers': 2, 'optimizer': 'sgd', 'weight_decay': 0.01}\n",
      "Training with parameters: {'dropout': 0.5, 'hidden_dim': 512, 'lr': 0.01, 'momentum': 0.99, 'num_layers': 2, 'optimizer': 'sgd', 'weight_decay': 0.0001}\n",
      "Epoch 1/5\n"
     ]
    },
    {
     "name": "stderr",
     "output_type": "stream",
     "text": [
      "Training: 100%|██████████| 237/237 [00:19<00:00, 12.11it/s]\n"
     ]
    },
    {
     "name": "stdout",
     "output_type": "stream",
     "text": [
      "Validation Loss: 1.2909, Validation AUC-ROC: 0.8810\n",
      "Epoch 2/5\n"
     ]
    },
    {
     "name": "stderr",
     "output_type": "stream",
     "text": [
      "Training: 100%|██████████| 237/237 [00:18<00:00, 12.47it/s]\n"
     ]
    },
    {
     "name": "stdout",
     "output_type": "stream",
     "text": [
      "Validation Loss: 1.0387, Validation AUC-ROC: 0.9170\n",
      "Epoch 3/5\n"
     ]
    },
    {
     "name": "stderr",
     "output_type": "stream",
     "text": [
      "Training: 100%|██████████| 237/237 [00:18<00:00, 12.61it/s]\n"
     ]
    },
    {
     "name": "stdout",
     "output_type": "stream",
     "text": [
      "Validation Loss: 1.1437, Validation AUC-ROC: 0.9161\n",
      "Epoch 4/5\n"
     ]
    },
    {
     "name": "stderr",
     "output_type": "stream",
     "text": [
      "Training: 100%|██████████| 237/237 [00:19<00:00, 12.39it/s]\n"
     ]
    },
    {
     "name": "stdout",
     "output_type": "stream",
     "text": [
      "Validation Loss: 1.2779, Validation AUC-ROC: 0.9145\n",
      "Epoch 5/5\n"
     ]
    },
    {
     "name": "stderr",
     "output_type": "stream",
     "text": [
      "Training: 100%|██████████| 237/237 [00:18<00:00, 12.53it/s]\n"
     ]
    },
    {
     "name": "stdout",
     "output_type": "stream",
     "text": [
      "Validation Loss: 1.3793, Validation AUC-ROC: 0.9146\n",
      "Test AUC-ROC: 0.9135, Parameters: {'dropout': 0.5, 'hidden_dim': 512, 'lr': 0.01, 'momentum': 0.99, 'num_layers': 2, 'optimizer': 'sgd', 'weight_decay': 0.0001}\n",
      "Training with parameters: {'dropout': 0.5, 'hidden_dim': 512, 'lr': 0.01, 'momentum': 0.99, 'num_layers': 3, 'optimizer': 'adam', 'weight_decay': 0.01}\n",
      "Epoch 1/5\n"
     ]
    },
    {
     "name": "stderr",
     "output_type": "stream",
     "text": [
      "Training: 100%|██████████| 237/237 [00:24<00:00,  9.51it/s]\n"
     ]
    },
    {
     "name": "stdout",
     "output_type": "stream",
     "text": [
      "Validation Loss: 1.5185, Validation AUC-ROC: 0.8648\n",
      "Epoch 2/5\n"
     ]
    },
    {
     "name": "stderr",
     "output_type": "stream",
     "text": [
      "Training: 100%|██████████| 237/237 [00:26<00:00,  9.11it/s]\n"
     ]
    },
    {
     "name": "stdout",
     "output_type": "stream",
     "text": [
      "Validation Loss: 1.3134, Validation AUC-ROC: 0.8767\n",
      "Epoch 3/5\n"
     ]
    },
    {
     "name": "stderr",
     "output_type": "stream",
     "text": [
      "Training: 100%|██████████| 237/237 [00:26<00:00,  8.98it/s]\n"
     ]
    },
    {
     "name": "stdout",
     "output_type": "stream",
     "text": [
      "Validation Loss: 1.3124, Validation AUC-ROC: 0.8789\n",
      "Epoch 4/5\n"
     ]
    },
    {
     "name": "stderr",
     "output_type": "stream",
     "text": [
      "Training: 100%|██████████| 237/237 [00:24<00:00,  9.60it/s]\n"
     ]
    },
    {
     "name": "stdout",
     "output_type": "stream",
     "text": [
      "Validation Loss: 1.3362, Validation AUC-ROC: 0.8804\n",
      "Epoch 5/5\n"
     ]
    },
    {
     "name": "stderr",
     "output_type": "stream",
     "text": [
      "Training: 100%|██████████| 237/237 [00:24<00:00,  9.84it/s]\n"
     ]
    },
    {
     "name": "stdout",
     "output_type": "stream",
     "text": [
      "Validation Loss: 1.2485, Validation AUC-ROC: 0.8874\n",
      "Test AUC-ROC: 0.8935, Parameters: {'dropout': 0.5, 'hidden_dim': 512, 'lr': 0.01, 'momentum': 0.99, 'num_layers': 3, 'optimizer': 'adam', 'weight_decay': 0.01}\n",
      "Training with parameters: {'dropout': 0.5, 'hidden_dim': 512, 'lr': 0.01, 'momentum': 0.99, 'num_layers': 3, 'optimizer': 'adam', 'weight_decay': 0.0001}\n",
      "Epoch 1/5\n"
     ]
    },
    {
     "name": "stderr",
     "output_type": "stream",
     "text": [
      "Training: 100%|██████████| 237/237 [00:24<00:00,  9.51it/s]\n"
     ]
    },
    {
     "name": "stdout",
     "output_type": "stream",
     "text": [
      "Validation Loss: 1.4569, Validation AUC-ROC: 0.8596\n",
      "Epoch 2/5\n"
     ]
    },
    {
     "name": "stderr",
     "output_type": "stream",
     "text": [
      "Training: 100%|██████████| 237/237 [00:24<00:00,  9.86it/s]\n"
     ]
    },
    {
     "name": "stdout",
     "output_type": "stream",
     "text": [
      "Validation Loss: 1.1342, Validation AUC-ROC: 0.9024\n",
      "Epoch 3/5\n"
     ]
    },
    {
     "name": "stderr",
     "output_type": "stream",
     "text": [
      "Training: 100%|██████████| 237/237 [00:24<00:00,  9.62it/s]\n"
     ]
    },
    {
     "name": "stdout",
     "output_type": "stream",
     "text": [
      "Validation Loss: 1.1328, Validation AUC-ROC: 0.9047\n",
      "Epoch 4/5\n"
     ]
    },
    {
     "name": "stderr",
     "output_type": "stream",
     "text": [
      "Training: 100%|██████████| 237/237 [00:24<00:00,  9.73it/s]\n"
     ]
    },
    {
     "name": "stdout",
     "output_type": "stream",
     "text": [
      "Validation Loss: 1.1900, Validation AUC-ROC: 0.9041\n",
      "Epoch 5/5\n"
     ]
    },
    {
     "name": "stderr",
     "output_type": "stream",
     "text": [
      "Training: 100%|██████████| 237/237 [00:24<00:00,  9.68it/s]\n"
     ]
    },
    {
     "name": "stdout",
     "output_type": "stream",
     "text": [
      "Validation Loss: 1.2130, Validation AUC-ROC: 0.9067\n",
      "Test AUC-ROC: 0.9038, Parameters: {'dropout': 0.5, 'hidden_dim': 512, 'lr': 0.01, 'momentum': 0.99, 'num_layers': 3, 'optimizer': 'adam', 'weight_decay': 0.0001}\n",
      "Training with parameters: {'dropout': 0.5, 'hidden_dim': 512, 'lr': 0.01, 'momentum': 0.99, 'num_layers': 3, 'optimizer': 'sgd', 'weight_decay': 0.01}\n",
      "Epoch 1/5\n"
     ]
    },
    {
     "name": "stderr",
     "output_type": "stream",
     "text": [
      "Training: 100%|██████████| 237/237 [00:19<00:00, 12.12it/s]\n"
     ]
    },
    {
     "name": "stdout",
     "output_type": "stream",
     "text": [
      "Validation Loss: 1.9790, Validation AUC-ROC: 0.7262\n",
      "Epoch 2/5\n"
     ]
    },
    {
     "name": "stderr",
     "output_type": "stream",
     "text": [
      "Training: 100%|██████████| 237/237 [00:19<00:00, 12.45it/s]\n"
     ]
    },
    {
     "name": "stdout",
     "output_type": "stream",
     "text": [
      "Validation Loss: 1.7051, Validation AUC-ROC: 0.7960\n",
      "Epoch 3/5\n"
     ]
    },
    {
     "name": "stderr",
     "output_type": "stream",
     "text": [
      "Training: 100%|██████████| 237/237 [00:19<00:00, 12.31it/s]\n"
     ]
    },
    {
     "name": "stdout",
     "output_type": "stream",
     "text": [
      "Validation Loss: 1.6359, Validation AUC-ROC: 0.8287\n",
      "Epoch 4/5\n"
     ]
    },
    {
     "name": "stderr",
     "output_type": "stream",
     "text": [
      "Training: 100%|██████████| 237/237 [00:19<00:00, 12.03it/s]\n"
     ]
    },
    {
     "name": "stdout",
     "output_type": "stream",
     "text": [
      "Validation Loss: 1.4427, Validation AUC-ROC: 0.8622\n",
      "Epoch 5/5\n"
     ]
    },
    {
     "name": "stderr",
     "output_type": "stream",
     "text": [
      "Training: 100%|██████████| 237/237 [00:19<00:00, 12.04it/s]\n"
     ]
    },
    {
     "name": "stdout",
     "output_type": "stream",
     "text": [
      "Validation Loss: 1.2852, Validation AUC-ROC: 0.8830\n",
      "Test AUC-ROC: 0.8876, Parameters: {'dropout': 0.5, 'hidden_dim': 512, 'lr': 0.01, 'momentum': 0.99, 'num_layers': 3, 'optimizer': 'sgd', 'weight_decay': 0.01}\n",
      "Training with parameters: {'dropout': 0.5, 'hidden_dim': 512, 'lr': 0.01, 'momentum': 0.99, 'num_layers': 3, 'optimizer': 'sgd', 'weight_decay': 0.0001}\n",
      "Epoch 1/5\n"
     ]
    },
    {
     "name": "stderr",
     "output_type": "stream",
     "text": [
      "Training: 100%|██████████| 237/237 [00:20<00:00, 11.81it/s]\n"
     ]
    },
    {
     "name": "stdout",
     "output_type": "stream",
     "text": [
      "Validation Loss: 1.8212, Validation AUC-ROC: 0.7738\n",
      "Epoch 2/5\n"
     ]
    },
    {
     "name": "stderr",
     "output_type": "stream",
     "text": [
      "Training: 100%|██████████| 237/237 [00:19<00:00, 12.40it/s]\n"
     ]
    },
    {
     "name": "stdout",
     "output_type": "stream",
     "text": [
      "Validation Loss: 1.1717, Validation AUC-ROC: 0.8999\n",
      "Epoch 3/5\n"
     ]
    },
    {
     "name": "stderr",
     "output_type": "stream",
     "text": [
      "Training: 100%|██████████| 237/237 [00:18<00:00, 12.71it/s]\n"
     ]
    },
    {
     "name": "stdout",
     "output_type": "stream",
     "text": [
      "Validation Loss: 1.0917, Validation AUC-ROC: 0.9130\n",
      "Epoch 4/5\n"
     ]
    },
    {
     "name": "stderr",
     "output_type": "stream",
     "text": [
      "Training: 100%|██████████| 237/237 [00:19<00:00, 12.18it/s]\n"
     ]
    },
    {
     "name": "stdout",
     "output_type": "stream",
     "text": [
      "Validation Loss: 1.2442, Validation AUC-ROC: 0.9056\n",
      "Epoch 5/5\n"
     ]
    },
    {
     "name": "stderr",
     "output_type": "stream",
     "text": [
      "Training: 100%|██████████| 237/237 [00:19<00:00, 12.25it/s]\n"
     ]
    },
    {
     "name": "stdout",
     "output_type": "stream",
     "text": [
      "Validation Loss: 1.4435, Validation AUC-ROC: 0.9051\n",
      "Test AUC-ROC: 0.9066, Parameters: {'dropout': 0.5, 'hidden_dim': 512, 'lr': 0.01, 'momentum': 0.99, 'num_layers': 3, 'optimizer': 'sgd', 'weight_decay': 0.0001}\n",
      "              precision    recall  f1-score   support\n",
      "\n",
      "       dunya       0.65      0.61      0.63       745\n",
      "     ekonomi       0.71      0.52      0.60       653\n",
      "       genel       0.35      0.37      0.36      1335\n",
      "      guncel       0.47      0.67      0.55      1169\n",
      "kultur-sanat       0.63      0.71      0.67       231\n",
      "     magazin       0.71      0.67      0.69       558\n",
      "      planet       0.48      0.52      0.50       391\n",
      "      saglik       0.88      0.62      0.73       277\n",
      "     siyaset       0.52      0.44      0.48       370\n",
      "        spor       0.94      0.90      0.92      1999\n",
      "   teknoloji       0.58      0.60      0.59       154\n",
      "     turkiye       0.40      0.24      0.30       388\n",
      "       yasam       0.14      0.16      0.15       129\n",
      "\n",
      "    accuracy                           0.61      8399\n",
      "   macro avg       0.57      0.54      0.55      8399\n",
      "weighted avg       0.63      0.61      0.61      8399\n",
      "\n",
      "[[ 454    3   82   34    9    4  123    0    5    2    9    7   13]\n",
      " [  12  338  218   61    2    0    6    0    5    1    7    2    1]\n",
      " [  76  101  493  276   32   93   65   12   46   80   23   22   16]\n",
      " [  31   10  115  780   14   18   11    5   56   19    6   63   41]\n",
      " [   2    0   30   20  163    9    1    0    0    0    1    0    5]\n",
      " [   5    0  106   22   25  376    5    0    0    1    2    3   13]\n",
      " [  79    3   64   20    4    3  205    0    4    2    3    0    4]\n",
      " [   6    1   41   34    1    0    0  172    0    0   12    4    6]\n",
      " [  10    4   39  119    0    1    3    1  163    1    0   29    0]\n",
      " [   5    1  137   46    1   13    2    0    1 1792    0    0    1]\n",
      " [   6    6   33    7    4    1    0    2    0    2   92    0    1]\n",
      " [   6    8   24  192    3    3    4    4   32    1    1   93   17]\n",
      " [   4    0   17   66    1    7    2    0    1    1    2    8   20]]\n"
     ]
    }
   ],
   "source": [
    "import numpy as np\n",
    "import torch\n",
    "import torch.nn as nn\n",
    "import torch.optim as optim\n",
    "from torch.utils.data import Dataset, DataLoader\n",
    "from sklearn.model_selection import ParameterGrid\n",
    "from sklearn.metrics import classification_report, roc_auc_score, confusion_matrix\n",
    "from tqdm import tqdm\n",
    "\n",
    "class Model(nn.Module):\n",
    "    def __init__(self, input_dim, hidden_dim, num_layers, output_dim, dropout):\n",
    "        super().__init__()\n",
    "        layers = []\n",
    "        for i in range(num_layers):\n",
    "            if i == 0:\n",
    "                layers.append(nn.Linear(input_dim, hidden_dim))\n",
    "            else:\n",
    "                layers.append(nn.Linear(hidden_dim, hidden_dim))\n",
    "            layers.append(nn.ReLU())\n",
    "            layers.append(nn.Dropout(dropout))\n",
    "        layers.append(nn.Linear(hidden_dim, output_dim))\n",
    "        self.layers = nn.Sequential(*layers)\n",
    "\n",
    "    def forward(self, x):\n",
    "        return self.layers(x)\n",
    "\n",
    "# Function to train and evaluate the model\n",
    "def train_and_evaluate(model, train_loader, val_loader, test_loader, optimizer, criterion, device, n_epochs):\n",
    "    best_val_auc_roc = 0\n",
    "    best_model_state = None\n",
    "    model.train()\n",
    "    for epoch in range(n_epochs):\n",
    "        print(f'Epoch {epoch + 1}/{n_epochs}')\n",
    "        # Training phase\n",
    "        for X, y_true in tqdm(train_loader, desc='Training'):\n",
    "            X, y_true = X.to(device), y_true.to(device)\n",
    "            optimizer.zero_grad()\n",
    "            y_pred = model(X)\n",
    "            loss = criterion(y_pred, y_true)\n",
    "            loss.backward()\n",
    "            optimizer.step()\n",
    "\n",
    "        # Validation phase\n",
    "        model.eval()\n",
    "        with torch.no_grad():\n",
    "            val_loss = 0.0\n",
    "            val_outputs = []\n",
    "            val_targets = []\n",
    "            for X_val, y_val in val_loader:\n",
    "                X_val, y_val = X_val.to(device), y_val.to(device)\n",
    "                val_output = model(X_val)\n",
    "                val_loss += criterion(val_output, y_val).item() * X_val.size(0)\n",
    "                val_outputs.append(val_output)\n",
    "                val_targets.append(y_val)\n",
    "\n",
    "            val_loss /= len(val_loader.dataset)\n",
    "            val_outputs = torch.cat(val_outputs, dim=0)\n",
    "            val_targets = torch.cat(val_targets, dim=0)\n",
    "            val_auc_roc = roc_auc_score(val_targets.cpu().numpy(), val_outputs.softmax(dim=1).cpu().numpy(), average='weighted', multi_class='ovr')\n",
    "            print(f'Validation Loss: {val_loss:.4f}, Validation AUC-ROC: {val_auc_roc:.4f}')\n",
    "\n",
    "            # Save the best model\n",
    "            if val_auc_roc > best_val_auc_roc:\n",
    "                best_val_auc_roc = val_auc_roc\n",
    "                best_model_state = model.state_dict()\n",
    "\n",
    "    # Testing phase with the best model\n",
    "    if best_model_state is not None:\n",
    "        model.load_state_dict(best_model_state)\n",
    "    model.eval()\n",
    "    with torch.no_grad():\n",
    "        test_outputs = []\n",
    "        test_targets = []\n",
    "        for X_test, y_test in test_loader:\n",
    "            X_test, y_test = X_test.to(device), y_test.to(device)\n",
    "            test_output = model(X_test)\n",
    "            test_outputs.append(test_output)\n",
    "            test_targets.append(y_test)\n",
    "\n",
    "        test_outputs = torch.cat(test_outputs, dim=0)\n",
    "        test_targets = torch.cat(test_targets, dim=0)\n",
    "        test_auc_roc = roc_auc_score(test_targets.cpu().numpy(), test_outputs.softmax(dim=1).cpu().numpy(), average='weighted', multi_class='ovr')\n",
    "\n",
    "    return test_outputs, test_targets, test_auc_roc, best_model_state\n",
    "\n",
    "# Set hyperparameters and device\n",
    "input_dim = vocabulary_size\n",
    "output_dim = len(df_1['category'].unique())\n",
    "n_epochs = 5\n",
    "device = torch.device('cuda' if torch.cuda.is_available() else 'cpu')\n",
    "\n",
    "param_grid = {\n",
    "    'hidden_dim': [256, 512],\n",
    "    'num_layers': [2, 3],\n",
    "    'lr': [1e-3, 1e-2],\n",
    "    'dropout': [0.8, 0.5],\n",
    "    'momentum': [0.9, 0.99],\n",
    "    'weight_decay': [1e-2, 1e-4],\n",
    "    'optimizer': ['adam', 'sgd']\n",
    "}\n",
    "\n",
    "# Initialize model and loss function\n",
    "criterion = nn.CrossEntropyLoss()\n",
    "\n",
    "best_overall_model_state = None\n",
    "best_overall_auc_roc = 0\n",
    "best_params = None\n",
    "\n",
    "# Iterate over parameter grid\n",
    "for params in ParameterGrid(param_grid):\n",
    "    print(f'Training with parameters: {params}')\n",
    "    \n",
    "    # Extract parameters\n",
    "    hidden_dim = params['hidden_dim']\n",
    "    num_layers = params['num_layers']\n",
    "    lr = params['lr']\n",
    "    dropout = params['dropout']\n",
    "    momentum = params['momentum']\n",
    "    weight_decay = params['weight_decay']\n",
    "    optimizer_type = params['optimizer']\n",
    "\n",
    "    # Initialize model, optimizer, and loaders for this set of parameters\n",
    "    model = Model(input_dim, hidden_dim, num_layers, output_dim, dropout).to(device)\n",
    "    \n",
    "    if optimizer_type == 'adam':\n",
    "        optimizer = optim.Adam(model.parameters(), lr=lr, weight_decay=weight_decay)\n",
    "    elif optimizer_type == 'sgd':\n",
    "        optimizer = optim.SGD(model.parameters(), lr=lr, momentum=momentum, weight_decay=weight_decay)\n",
    "    \n",
    "    # Train, validate, and test the model\n",
    "    test_outputs, test_targets, test_auc_roc, best_model_state = train_and_evaluate(model, train_loader, val_loader, test_loader, optimizer, criterion, device, n_epochs)\n",
    "\n",
    "    # Print final evaluation metrics\n",
    "    print(f'Test AUC-ROC: {test_auc_roc:.4f}, Parameters: {params}')\n",
    "\n",
    "    # Save the overall best model\n",
    "    if test_auc_roc > best_overall_auc_roc:\n",
    "        best_overall_auc_roc = test_auc_roc\n",
    "        best_overall_model_state = best_model_state\n",
    "        best_params = params\n",
    "\n",
    "# Load the best overall model for final evaluation\n",
    "if best_overall_model_state is not None:\n",
    "    model = Model(input_dim, best_params['hidden_dim'], best_params['num_layers'], output_dim, best_params['dropout']).to(device)\n",
    "    model.load_state_dict(best_overall_model_state)\n",
    "\n",
    "# Print classification report and confusion matrix\n",
    "test_preds = np.argmax(test_outputs.cpu().numpy(), axis=1)\n",
    "test_targets_np = test_targets.cpu().numpy()\n",
    "print(classification_report(test_targets_np, test_preds, target_names=label_encoder.classes_))\n",
    "print(confusion_matrix(test_targets_np, test_preds))\n",
    "\n",
    "# Save the best model and parameters for future use\n",
    "torch.save({\n",
    "    'model_state_dict': best_overall_model_state,\n",
    "    'params': best_params\n",
    "}, 'best_model.pth')"
   ]
  },
  {
   "cell_type": "code",
   "execution_count": 41,
   "metadata": {},
   "outputs": [
    {
     "name": "stdout",
     "output_type": "stream",
     "text": [
      "              precision    recall  f1-score   support\n",
      "\n",
      "       dunya       0.65      0.61      0.63       745\n",
      "     ekonomi       0.71      0.52      0.60       653\n",
      "       genel       0.35      0.37      0.36      1335\n",
      "      guncel       0.47      0.67      0.55      1169\n",
      "kultur-sanat       0.63      0.71      0.67       231\n",
      "     magazin       0.71      0.67      0.69       558\n",
      "      planet       0.48      0.52      0.50       391\n",
      "      saglik       0.88      0.62      0.73       277\n",
      "     siyaset       0.52      0.44      0.48       370\n",
      "        spor       0.94      0.90      0.92      1999\n",
      "   teknoloji       0.58      0.60      0.59       154\n",
      "     turkiye       0.40      0.24      0.30       388\n",
      "       yasam       0.14      0.16      0.15       129\n",
      "\n",
      "    accuracy                           0.61      8399\n",
      "   macro avg       0.57      0.54      0.55      8399\n",
      "weighted avg       0.63      0.61      0.61      8399\n",
      "\n",
      "[[ 454    3   82   34    9    4  123    0    5    2    9    7   13]\n",
      " [  12  338  218   61    2    0    6    0    5    1    7    2    1]\n",
      " [  76  101  493  276   32   93   65   12   46   80   23   22   16]\n",
      " [  31   10  115  780   14   18   11    5   56   19    6   63   41]\n",
      " [   2    0   30   20  163    9    1    0    0    0    1    0    5]\n",
      " [   5    0  106   22   25  376    5    0    0    1    2    3   13]\n",
      " [  79    3   64   20    4    3  205    0    4    2    3    0    4]\n",
      " [   6    1   41   34    1    0    0  172    0    0   12    4    6]\n",
      " [  10    4   39  119    0    1    3    1  163    1    0   29    0]\n",
      " [   5    1  137   46    1   13    2    0    1 1792    0    0    1]\n",
      " [   6    6   33    7    4    1    0    2    0    2   92    0    1]\n",
      " [   6    8   24  192    3    3    4    4   32    1    1   93   17]\n",
      " [   4    0   17   66    1    7    2    0    1    1    2    8   20]]\n"
     ]
    }
   ],
   "source": [
    "print(classification_report(test_targets_np, test_preds, target_names=label_encoder.classes_))\n",
    "print(confusion_matrix(test_targets_np, test_preds))"
   ]
  },
  {
   "cell_type": "code",
   "execution_count": 36,
   "metadata": {},
   "outputs": [
    {
     "data": {
      "text/plain": [
       "{'dropout': 0.8,\n",
       " 'hidden_dim': 512,\n",
       " 'lr': 0.01,\n",
       " 'momentum': 0.9,\n",
       " 'num_layers': 2,\n",
       " 'optimizer': 'sgd',\n",
       " 'weight_decay': 0.0001}"
      ]
     },
     "execution_count": 36,
     "metadata": {},
     "output_type": "execute_result"
    }
   ],
   "source": [
    "best_params"
   ]
  },
  {
   "cell_type": "code",
   "execution_count": 40,
   "metadata": {},
   "outputs": [],
   "source": [
    "# Binary Bag of Words representation\n",
    "class BinaryBoWDataset(Dataset):\n",
    "    def __init__(self, data, vocab_size):\n",
    "        self.data = data\n",
    "        self.vocab_size = vocab_size\n",
    "\n",
    "    def __len__(self):\n",
    "        return len(self.data)\n",
    "\n",
    "    def __getitem__(self, index):\n",
    "        features = np.zeros(self.vocab_size, dtype=np.float32)\n",
    "        for token in self.data.iloc[index]['tokens']:\n",
    "            if token in token_to_id:\n",
    "                features[token_to_id[token]] = 1.0\n",
    "        label = self.data.iloc[index]['class_index']\n",
    "        return torch.tensor(features), torch.tensor(label, dtype=torch.long)\n",
    "\n",
    "binary_bow_train_dataset = BinaryBoWDataset(train_df, vocabulary_size)\n",
    "binary_bow_val_dataset = BinaryBoWDataset(val_df, vocabulary_size)\n",
    "binary_bow_test_dataset = BinaryBoWDataset(test_df, vocabulary_size)\n",
    "\n",
    "binary_bow_train_loader = DataLoader(binary_bow_train_dataset, batch_size=batch_size, shuffle=True)\n",
    "binary_bow_val_loader = DataLoader(binary_bow_val_dataset, batch_size=batch_size)\n",
    "binary_bow_test_loader = DataLoader(binary_bow_test_dataset, batch_size=batch_size)"
   ]
  },
  {
   "cell_type": "code",
   "execution_count": 41,
   "metadata": {},
   "outputs": [],
   "source": [
    "# Standard Bag of Words representation\n",
    "class StandardBoWDataset(Dataset):\n",
    "    def __init__(self, data, vocab_size):\n",
    "        self.data = data\n",
    "        self.vocab_size = vocab_size\n",
    "\n",
    "    def __len__(self):\n",
    "        return len(self.data)\n",
    "\n",
    "    def __getitem__(self, index):\n",
    "        features = np.zeros(self.vocab_size, dtype=np.float32)\n",
    "        for token in self.data.iloc[index]['tokens']:\n",
    "            if token in token_to_id:\n",
    "                features[token_to_id[token]] += 1.0\n",
    "        label = self.data.iloc[index]['class_index']\n",
    "        return torch.tensor(features), torch.tensor(label, dtype=torch.long)\n",
    "\n",
    "standard_bow_train_dataset = StandardBoWDataset(train_df, vocabulary_size)\n",
    "standard_bow_val_dataset = StandardBoWDataset(val_df, vocabulary_size)\n",
    "standard_bow_test_dataset = StandardBoWDataset(test_df, vocabulary_size)\n",
    "\n",
    "standard_bow_train_loader = DataLoader(standard_bow_train_dataset, batch_size=batch_size, shuffle=True)\n",
    "standard_bow_val_loader = DataLoader(standard_bow_val_dataset, batch_size=batch_size)\n",
    "standard_bow_test_loader = DataLoader(standard_bow_test_dataset, batch_size=batch_size)"
   ]
  },
  {
   "cell_type": "code",
   "execution_count": 48,
   "metadata": {},
   "outputs": [],
   "source": [
    "class EmbeddingDataset(Dataset):\n",
    "    def __init__(self, data, token_to_id):\n",
    "        self.data = data\n",
    "        self.token_to_id = token_to_id\n",
    "\n",
    "    def __len__(self):\n",
    "        return len(self.data)\n",
    "\n",
    "    def __getitem__(self, index):\n",
    "        tokens = self.data.iloc[index]['tokens']\n",
    "        features = np.zeros(len(self.token_to_id), dtype=np.float32)\n",
    "        \n",
    "        # Convert tokens to their respective IDs and count occurrences\n",
    "        for token in tokens:\n",
    "            if token in self.token_to_id:\n",
    "                features[self.token_to_id[token]] += 1.0\n",
    "        \n",
    "        label = self.data.iloc[index]['class_index']\n",
    "        return torch.tensor(features), torch.tensor(label, dtype=torch.long)\n",
    "\n",
    "# Create vocabulary from training data\n",
    "vocab = set()\n",
    "for tokens in train_df['tokens']:\n",
    "    vocab.update(tokens)\n",
    "\n",
    "# Create token_to_id mapping\n",
    "token_to_id = {token: idx for idx, token in enumerate(vocab)}\n",
    "vocabulary_size = len(token_to_id)\n",
    "\n",
    "embedding_train_dataset = EmbeddingDataset(train_df, token_to_id)\n",
    "embedding_val_dataset = EmbeddingDataset(val_df, token_to_id)\n",
    "embedding_test_dataset = EmbeddingDataset(test_df, token_to_id)\n",
    "\n",
    "batch_size = 32\n",
    "embedding_train_loader = DataLoader(embedding_train_dataset, batch_size=batch_size, shuffle=True)\n",
    "embedding_val_loader = DataLoader(embedding_val_dataset, batch_size=batch_size)\n",
    "embedding_test_loader = DataLoader(embedding_test_dataset, batch_size=batch_size)"
   ]
  },
  {
   "cell_type": "code",
   "execution_count": 39,
   "metadata": {},
   "outputs": [],
   "source": [
    "final_model = Model(input_dim=vocabulary_size, hidden_dim=512, num_layers=2, output_dim=output_dim, dropout=0.8).to(device)\n",
    "optimizer = optim.SGD(final_model.parameters(), lr=0.01, momentum=0.9, weight_decay=0.0001)"
   ]
  },
  {
   "cell_type": "code",
   "execution_count": 43,
   "metadata": {},
   "outputs": [
    {
     "name": "stdout",
     "output_type": "stream",
     "text": [
      "Epoch 1/5\n"
     ]
    },
    {
     "name": "stderr",
     "output_type": "stream",
     "text": [
      "Training: 100%|██████████| 237/237 [01:21<00:00,  2.93it/s]\n"
     ]
    },
    {
     "name": "stdout",
     "output_type": "stream",
     "text": [
      "Validation Loss: 1.8359, Validation AUC-ROC: 0.8316\n",
      "Epoch 2/5\n"
     ]
    },
    {
     "name": "stderr",
     "output_type": "stream",
     "text": [
      "Training: 100%|██████████| 237/237 [01:11<00:00,  3.31it/s]\n"
     ]
    },
    {
     "name": "stdout",
     "output_type": "stream",
     "text": [
      "Validation Loss: 1.3850, Validation AUC-ROC: 0.8825\n",
      "Epoch 3/5\n"
     ]
    },
    {
     "name": "stderr",
     "output_type": "stream",
     "text": [
      "Training: 100%|██████████| 237/237 [01:05<00:00,  3.62it/s]\n"
     ]
    },
    {
     "name": "stdout",
     "output_type": "stream",
     "text": [
      "Validation Loss: 1.1640, Validation AUC-ROC: 0.9035\n",
      "Epoch 4/5\n"
     ]
    },
    {
     "name": "stderr",
     "output_type": "stream",
     "text": [
      "Training: 100%|██████████| 237/237 [01:06<00:00,  3.57it/s]\n"
     ]
    },
    {
     "name": "stdout",
     "output_type": "stream",
     "text": [
      "Validation Loss: 1.0851, Validation AUC-ROC: 0.9112\n",
      "Epoch 5/5\n"
     ]
    },
    {
     "name": "stderr",
     "output_type": "stream",
     "text": [
      "Training: 100%|██████████| 237/237 [01:04<00:00,  3.66it/s]\n"
     ]
    },
    {
     "name": "stdout",
     "output_type": "stream",
     "text": [
      "Validation Loss: 1.0583, Validation AUC-ROC: 0.9151\n",
      "Binary BoW Test AUC-ROC: 0.9162\n"
     ]
    }
   ],
   "source": [
    "binary_bow_outputs, binary_bow_targets, binary_bow_auc_roc, _ = train_and_evaluate(final_model, binary_bow_train_loader, binary_bow_val_loader, binary_bow_test_loader, optimizer, criterion, device, n_epochs=5)\n",
    "print(f'Binary BoW Test AUC-ROC: {binary_bow_auc_roc:.4f}')"
   ]
  },
  {
   "cell_type": "code",
   "execution_count": 44,
   "metadata": {},
   "outputs": [
    {
     "name": "stdout",
     "output_type": "stream",
     "text": [
      "Epoch 1/5\n"
     ]
    },
    {
     "name": "stderr",
     "output_type": "stream",
     "text": [
      "Training: 100%|██████████| 237/237 [01:09<00:00,  3.41it/s]\n"
     ]
    },
    {
     "name": "stdout",
     "output_type": "stream",
     "text": [
      "Validation Loss: 1.1068, Validation AUC-ROC: 0.9089\n",
      "Epoch 2/5\n"
     ]
    },
    {
     "name": "stderr",
     "output_type": "stream",
     "text": [
      "Training: 100%|██████████| 237/237 [01:08<00:00,  3.44it/s]\n"
     ]
    },
    {
     "name": "stdout",
     "output_type": "stream",
     "text": [
      "Validation Loss: 1.0975, Validation AUC-ROC: 0.9121\n",
      "Epoch 3/5\n"
     ]
    },
    {
     "name": "stderr",
     "output_type": "stream",
     "text": [
      "Training: 100%|██████████| 237/237 [01:07<00:00,  3.50it/s]\n"
     ]
    },
    {
     "name": "stdout",
     "output_type": "stream",
     "text": [
      "Validation Loss: 1.1970, Validation AUC-ROC: 0.9068\n",
      "Epoch 4/5\n"
     ]
    },
    {
     "name": "stderr",
     "output_type": "stream",
     "text": [
      "Training: 100%|██████████| 237/237 [01:07<00:00,  3.50it/s]\n"
     ]
    },
    {
     "name": "stdout",
     "output_type": "stream",
     "text": [
      "Validation Loss: 1.2797, Validation AUC-ROC: 0.9081\n",
      "Epoch 5/5\n"
     ]
    },
    {
     "name": "stderr",
     "output_type": "stream",
     "text": [
      "Training: 100%|██████████| 237/237 [01:08<00:00,  3.48it/s]\n"
     ]
    },
    {
     "name": "stdout",
     "output_type": "stream",
     "text": [
      "Validation Loss: 1.3993, Validation AUC-ROC: 0.9054\n",
      "Standard BoW Test AUC-ROC: 0.9057\n"
     ]
    }
   ],
   "source": [
    "standard_bow_outputs, standard_bow_targets, standard_bow_auc_roc, _ = train_and_evaluate(final_model, standard_bow_train_loader, standard_bow_val_loader, standard_bow_test_loader, optimizer, criterion, device, n_epochs=5)\n",
    "print(f'Standard BoW Test AUC-ROC: {standard_bow_auc_roc:.4f}')"
   ]
  },
  {
   "cell_type": "code",
   "execution_count": 49,
   "metadata": {},
   "outputs": [
    {
     "name": "stdout",
     "output_type": "stream",
     "text": [
      "Epoch 1/5\n"
     ]
    },
    {
     "name": "stderr",
     "output_type": "stream",
     "text": [
      "Training: 100%|██████████| 945/945 [02:17<00:00,  6.88it/s]\n"
     ]
    },
    {
     "name": "stdout",
     "output_type": "stream",
     "text": [
      "Validation Loss: 2.5650, Validation AUC-ROC: 0.5097\n",
      "Epoch 2/5\n"
     ]
    },
    {
     "name": "stderr",
     "output_type": "stream",
     "text": [
      "Training: 100%|██████████| 945/945 [02:10<00:00,  7.26it/s]\n"
     ]
    },
    {
     "name": "stdout",
     "output_type": "stream",
     "text": [
      "Validation Loss: 2.5650, Validation AUC-ROC: 0.5097\n",
      "Epoch 3/5\n"
     ]
    },
    {
     "name": "stderr",
     "output_type": "stream",
     "text": [
      "Training: 100%|██████████| 945/945 [02:09<00:00,  7.30it/s]\n"
     ]
    },
    {
     "name": "stdout",
     "output_type": "stream",
     "text": [
      "Validation Loss: 2.5650, Validation AUC-ROC: 0.5097\n",
      "Epoch 4/5\n"
     ]
    },
    {
     "name": "stderr",
     "output_type": "stream",
     "text": [
      "Training: 100%|██████████| 945/945 [02:09<00:00,  7.31it/s]\n"
     ]
    },
    {
     "name": "stdout",
     "output_type": "stream",
     "text": [
      "Validation Loss: 2.5650, Validation AUC-ROC: 0.5097\n",
      "Epoch 5/5\n"
     ]
    },
    {
     "name": "stderr",
     "output_type": "stream",
     "text": [
      "Training: 100%|██████████| 945/945 [02:10<00:00,  7.24it/s]\n"
     ]
    },
    {
     "name": "stdout",
     "output_type": "stream",
     "text": [
      "Validation Loss: 2.5650, Validation AUC-ROC: 0.5097\n",
      "Embedding Test AUC-ROC: 0.5102\n"
     ]
    }
   ],
   "source": [
    "final_model = Model(input_dim=len(token_to_id), hidden_dim=512, num_layers=2, output_dim=output_dim, dropout=0.8).to(device)\n",
    "embedding_outputs, embedding_targets, embedding_auc_roc, _ = train_and_evaluate(final_model, embedding_train_loader, embedding_val_loader, embedding_test_loader, optimizer, criterion, device, n_epochs=5)\n",
    "print(f'Embedding Test AUC-ROC: {embedding_auc_roc:.4f}')"
   ]
  },
  {
   "cell_type": "code",
   "execution_count": 50,
   "metadata": {},
   "outputs": [
    {
     "data": {
      "image/png": "[encoded data removed]",
      "text/plain": [
       "<Figure size 640x480 with 1 Axes>"
      ]
     },
     "metadata": {},
     "output_type": "display_data"
    },
    {
     "data": {
      "image/png": "[encoded data removed]",
      "text/plain": [
       "<Figure size 640x480 with 1 Axes>"
      ]
     },
     "metadata": {},
     "output_type": "display_data"
    },
    {
     "data": {
      "image/png": "[encoded data removed]",
      "text/plain": [
       "<Figure size 640x480 with 1 Axes>"
      ]
     },
     "metadata": {},
     "output_type": "display_data"
    }
   ],
   "source": [
    "import matplotlib.pyplot as plt\n",
    "from sklearn.metrics import roc_curve, roc_auc_score\n",
    "from sklearn.preprocessing import LabelBinarizer\n",
    "\n",
    "# Function to compute ROC curve and AUC score for multiple classes\n",
    "def plot_roc_curves(outputs, targets, title='ROC Curves'):\n",
    "    lb = LabelBinarizer()\n",
    "    targets_bin = lb.fit_transform(targets)\n",
    "\n",
    "    fpr = dict()\n",
    "    tpr = dict()\n",
    "    auc = dict()\n",
    "\n",
    "    for i in range(targets_bin.shape[1]):\n",
    "        fpr[i], tpr[i], _ = roc_curve(targets_bin[:, i], outputs[:, i])\n",
    "        auc[i] = roc_auc_score(targets_bin[:, i], outputs[:, i])\n",
    "\n",
    "        plt.plot(fpr[i], tpr[i], label=f'Class {i} (AUC = {auc[i]:.2f})')\n",
    "\n",
    "    plt.plot([0, 1], [0, 1], linestyle='--', color='gray', label='Random Guess')\n",
    "    plt.xlabel('False Positive Rate')\n",
    "    plt.ylabel('True Positive Rate')\n",
    "    plt.title(title)\n",
    "    plt.legend()\n",
    "    plt.grid(True)\n",
    "    plt.show()\n",
    "\n",
    "plot_roc_curves(binary_bow_outputs, binary_bow_targets, title='Binary BoW ROC Curves')\n",
    "plot_roc_curves(standard_bow_outputs, standard_bow_targets, title='Standard BoW ROC Curves')\n",
    "plot_roc_curves(embedding_outputs, embedding_targets, title='Embedding ROC Curves')"
   ]
  }
 ],
 "metadata": {
  "kernelspec": {
   "display_name": "Python 3",
   "language": "python",
   "name": "python3"
  },
  "language_info": {
   "codemirror_mode": {
    "name": "ipython",
    "version": 3
   },
   "file_extension": ".py",
   "mimetype": "text/x-python",
   "name": "python",
   "nbconvert_exporter": "python",
   "pygments_lexer": "ipython3",
   "version": "3.11.9"
  }
 },
 "nbformat": 4,
 "nbformat_minor": 2
}
